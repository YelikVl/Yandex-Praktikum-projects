{
 "cells": [
  {
   "cell_type": "markdown",
   "metadata": {},
   "source": [
    "#### обновление библиотек, при выполнении кода в тетрадке, сначала выполнить следующую ячейку затем перезапустить ядро"
   ]
  },
  {
   "cell_type": "code",
   "execution_count": 1,
   "metadata": {},
   "outputs": [
    {
     "name": "stdout",
     "output_type": "stream",
     "text": [
      "Requirement already satisfied: seaborn in c:\\users\\vlady\\anaconda3\\lib\\site-packages (0.11.2)\n",
      "Requirement already satisfied: pandas>=0.23 in c:\\users\\vlady\\anaconda3\\lib\\site-packages (from seaborn) (1.1.5)\n",
      "Requirement already satisfied: numpy>=1.15 in c:\\users\\vlady\\anaconda3\\lib\\site-packages (from seaborn) (1.21.2)\n",
      "Requirement already satisfied: scipy>=1.0 in c:\\users\\vlady\\anaconda3\\lib\\site-packages (from seaborn) (1.7.0)\n",
      "Requirement already satisfied: matplotlib>=2.2 in c:\\users\\vlady\\anaconda3\\lib\\site-packages (from seaborn) (3.4.2)\n",
      "Requirement already satisfied: python-dateutil>=2.7 in c:\\users\\vlady\\anaconda3\\lib\\site-packages (from matplotlib>=2.2->seaborn) (2.8.1)\n",
      "Requirement already satisfied: kiwisolver>=1.0.1 in c:\\users\\vlady\\anaconda3\\lib\\site-packages (from matplotlib>=2.2->seaborn) (1.3.1)\n",
      "Requirement already satisfied: pillow>=6.2.0 in c:\\users\\vlady\\anaconda3\\lib\\site-packages (from matplotlib>=2.2->seaborn) (8.2.0)\n",
      "Requirement already satisfied: pyparsing>=2.2.1 in c:\\users\\vlady\\anaconda3\\lib\\site-packages (from matplotlib>=2.2->seaborn) (2.4.7)\n",
      "Requirement already satisfied: cycler>=0.10 in c:\\users\\vlady\\anaconda3\\lib\\site-packages (from matplotlib>=2.2->seaborn) (0.10.0)\n",
      "Requirement already satisfied: six in c:\\users\\vlady\\anaconda3\\lib\\site-packages (from cycler>=0.10->matplotlib>=2.2->seaborn) (1.16.0)\n",
      "Requirement already satisfied: pytz>=2017.2 in c:\\users\\vlady\\anaconda3\\lib\\site-packages (from pandas>=0.23->seaborn) (2020.5)\n",
      "Requirement already satisfied: xgboost in c:\\users\\vlady\\anaconda3\\lib\\site-packages (1.4.2)\n",
      "Requirement already satisfied: scipy in c:\\users\\vlady\\anaconda3\\lib\\site-packages (from xgboost) (1.7.0)\n",
      "Requirement already satisfied: numpy in c:\\users\\vlady\\anaconda3\\lib\\site-packages (from xgboost) (1.21.2)\n",
      "Requirement already satisfied: scikit-learn in c:\\users\\vlady\\anaconda3\\lib\\site-packages (0.24.2)\n",
      "Collecting scikit-learn\n",
      "  Downloading scikit_learn-1.0-cp38-cp38-win_amd64.whl (7.2 MB)\n",
      "Requirement already satisfied: scipy>=1.1.0 in c:\\users\\vlady\\anaconda3\\lib\\site-packages (from scikit-learn) (1.7.0)\n",
      "Requirement already satisfied: threadpoolctl>=2.0.0 in c:\\users\\vlady\\anaconda3\\lib\\site-packages (from scikit-learn) (2.1.0)\n",
      "Requirement already satisfied: numpy>=1.14.6 in c:\\users\\vlady\\anaconda3\\lib\\site-packages (from scikit-learn) (1.21.2)\n",
      "Requirement already satisfied: joblib>=0.11 in c:\\users\\vlady\\anaconda3\\lib\\site-packages (from scikit-learn) (1.0.1)\n",
      "Installing collected packages: scikit-learn\n",
      "  Attempting uninstall: scikit-learn\n",
      "    Found existing installation: scikit-learn 0.24.2\n",
      "    Uninstalling scikit-learn-0.24.2:\n",
      "      Successfully uninstalled scikit-learn-0.24.2\n",
      "Successfully installed scikit-learn-1.0\n"
     ]
    },
    {
     "name": "stderr",
     "output_type": "stream",
     "text": [
      "ERROR: pip's dependency resolver does not currently take into account all the packages that are installed. This behaviour is the source of the following dependency conflicts.\n",
      "pmdarima 1.8.0 requires Cython<0.29.18,>=0.29, but you have cython 0.29.23 which is incompatible.\n"
     ]
    },
    {
     "name": "stdout",
     "output_type": "stream",
     "text": [
      "Requirement already satisfied: pandas in c:\\users\\vlady\\anaconda3\\lib\\site-packages (1.1.5)\n",
      "Collecting pandas\n",
      "  Using cached pandas-1.3.3-cp38-cp38-win_amd64.whl (10.2 MB)\n",
      "Requirement already satisfied: numpy>=1.17.3 in c:\\users\\vlady\\anaconda3\\lib\\site-packages (from pandas) (1.21.2)\n",
      "Requirement already satisfied: python-dateutil>=2.7.3 in c:\\users\\vlady\\anaconda3\\lib\\site-packages (from pandas) (2.8.1)\n",
      "Requirement already satisfied: pytz>=2017.3 in c:\\users\\vlady\\anaconda3\\lib\\site-packages (from pandas) (2020.5)\n",
      "Requirement already satisfied: six>=1.5 in c:\\users\\vlady\\anaconda3\\lib\\site-packages (from python-dateutil>=2.7.3->pandas) (1.16.0)\n",
      "Installing collected packages: pandas\n",
      "  Attempting uninstall: pandas\n",
      "    Found existing installation: pandas 1.1.5\n",
      "    Uninstalling pandas-1.1.5:\n",
      "      Successfully uninstalled pandas-1.1.5\n",
      "Successfully installed pandas-1.3.3\n"
     ]
    },
    {
     "name": "stderr",
     "output_type": "stream",
     "text": [
      "ERROR: pip's dependency resolver does not currently take into account all the packages that are installed. This behaviour is the source of the following dependency conflicts.\n",
      "pmdarima 1.8.0 requires Cython<0.29.18,>=0.29, but you have cython 0.29.23 which is incompatible.\n"
     ]
    },
    {
     "name": "stdout",
     "output_type": "stream",
     "text": [
      "Requirement already satisfied: numpy in c:\\users\\vlady\\anaconda3\\lib\\site-packages (1.21.2)\n"
     ]
    }
   ],
   "source": [
    "!pip install seaborn --upgrade\n",
    "!pip install xgboost --upgrade\n",
    "!pip install -U scikit-learn\n",
    "!pip install pandas --upgrade\n",
    "!pip install numpy --upgrade"
   ]
  },
  {
   "cell_type": "markdown",
   "metadata": {},
   "source": [
    "## Вводная"
   ]
  },
  {
   "cell_type": "markdown",
   "metadata": {},
   "source": [
    "Оператор связи «Ниединогоразрыва.ком» хочет научиться прогнозировать отток клиентов. Если выяснится, что пользователь планирует уйти, ему будут предложены промокоды и специальные условия. Команда оператора собрала персональные данные о некоторых клиентах, информацию об их тарифах и договорах.\n",
    "\n",
    "#### Описание услуг\n",
    "\n",
    "Оператор предоставляет два основных типа услуг: \n",
    "\n",
    "1. Стационарную телефонную связь. Возможно подключение телефонного аппарата к нескольким линиям одновременно.\n",
    "\n",
    "2. Интернет. Подключение может быть двух типов: через телефонную линию (DSL*,* от англ. *digital subscriber line*, «цифровая абонентская линия») или оптоволоконный кабель (*Fiber optic*).  \n",
    "\n",
    "Также доступны такие услуги:\n",
    "\n",
    "- Интернет-безопасность: антивирус (*DeviceProtection*) и блокировка небезопасных сайтов (*OnlineSecurity*);\n",
    "- Выделенная линия технической поддержки (*TechSupport*);\n",
    "- Облачное хранилище файлов для резервного копирования данных (*OnlineBackup*);\n",
    "- Стриминговое телевидение (*StreamingTV*) и каталог фильмов (*StreamingMovies*).\n",
    "\n",
    "За услуги клиенты могут платить каждый месяц или заключить договор на 1–2 года. Доступны различные способы расчёта и возможность получения электронного чека.\n",
    "\n",
    "#### Описание данных\n",
    "\n",
    "Данные состоят из файлов, полученных из разных источников:\n",
    "\n",
    "- `contract.csv` — информация о договоре;\n",
    "- `personal.csv` — персональные данные клиента;\n",
    "- `internet.csv` — информация об интернет-услугах;\n",
    "- `phone.csv` — информация об услугах телефонии.\n",
    "\n",
    "Во всех файлах столбец `customerID` содержит код клиента.\n",
    "\n",
    "Информация о договорах актуальна на 1 февраля 2020."
   ]
  },
  {
   "cell_type": "markdown",
   "metadata": {},
   "source": [
    "### Импорт библиотек"
   ]
  },
  {
   "cell_type": "code",
   "execution_count": 94,
   "metadata": {},
   "outputs": [],
   "source": [
    "import pandas as pd\n",
    "import numpy as np\n",
    "import matplotlib.pyplot as plt\n",
    "import seaborn as sns\n",
    "import warnings\n",
    "warnings.simplefilter(action='ignore', category=FutureWarning)\n",
    "warnings.simplefilter(action='ignore', category=UserWarning)\n",
    "sns.set(style=\"white\")\n",
    "import scipy.stats as stats\n",
    "from scipy.stats import chi2_contingency, chi2\n",
    "\n",
    "#Обучение и тестирование моделей\n",
    "from sklearn.model_selection import train_test_split, StratifiedKFold\n",
    "from sklearn.dummy import DummyClassifier\n",
    "from sklearn.ensemble import RandomForestClassifier, GradientBoostingClassifier\n",
    "from sklearn.tree import DecisionTreeClassifier\n",
    "from sklearn.linear_model import LogisticRegression\n",
    "from sklearn.model_selection import RandomizedSearchCV, GridSearchCV, cross_val_score\n",
    "from sklearn.metrics import roc_auc_score, auc, roc_curve, classification_report, confusion_matrix, accuracy_score, RocCurveDisplay, ConfusionMatrixDisplay\n",
    "from sklearn.preprocessing import StandardScaler, MinMaxScaler\n",
    "from sklearn.pipeline import Pipeline\n",
    "from xgboost import XGBClassifier"
   ]
  },
  {
   "cell_type": "markdown",
   "metadata": {},
   "source": [
    "## Загрузка и предобработка данных"
   ]
  },
  {
   "cell_type": "code",
   "execution_count": 95,
   "metadata": {},
   "outputs": [],
   "source": [
    "try:\n",
    "    contract = pd.read_csv('/datasets/final_provider/contract.csv')\n",
    "    internet = pd.read_csv('/datasets/final_provider/internet.csv')\n",
    "    personal = pd.read_csv('/datasets/final_provider/personal.csv')\n",
    "    phone = pd.read_csv('/datasets/final_provider/phone.csv')\n",
    "except:\n",
    "    contract = pd.read_csv('datasets/final_provider/contract.csv')\n",
    "    internet = pd.read_csv('datasets/final_provider/internet.csv')\n",
    "    personal = pd.read_csv('datasets/final_provider/personal.csv')\n",
    "    phone = pd.read_csv('datasets/final_provider/phone.csv')"
   ]
  },
  {
   "cell_type": "code",
   "execution_count": 96,
   "metadata": {},
   "outputs": [
    {
     "data": {
      "text/html": [
       "<div>\n",
       "<style scoped>\n",
       "    .dataframe tbody tr th:only-of-type {\n",
       "        vertical-align: middle;\n",
       "    }\n",
       "\n",
       "    .dataframe tbody tr th {\n",
       "        vertical-align: top;\n",
       "    }\n",
       "\n",
       "    .dataframe thead th {\n",
       "        text-align: right;\n",
       "    }\n",
       "</style>\n",
       "<table border=\"1\" class=\"dataframe\">\n",
       "  <thead>\n",
       "    <tr style=\"text-align: right;\">\n",
       "      <th></th>\n",
       "      <th>customerID</th>\n",
       "      <th>BeginDate</th>\n",
       "      <th>EndDate</th>\n",
       "      <th>Type</th>\n",
       "      <th>PaperlessBilling</th>\n",
       "      <th>PaymentMethod</th>\n",
       "      <th>MonthlyCharges</th>\n",
       "      <th>TotalCharges</th>\n",
       "    </tr>\n",
       "  </thead>\n",
       "  <tbody>\n",
       "    <tr>\n",
       "      <th>0</th>\n",
       "      <td>7590-VHVEG</td>\n",
       "      <td>2020-01-01</td>\n",
       "      <td>No</td>\n",
       "      <td>Month-to-month</td>\n",
       "      <td>Yes</td>\n",
       "      <td>Electronic check</td>\n",
       "      <td>29.85</td>\n",
       "      <td>29.85</td>\n",
       "    </tr>\n",
       "    <tr>\n",
       "      <th>1</th>\n",
       "      <td>5575-GNVDE</td>\n",
       "      <td>2017-04-01</td>\n",
       "      <td>No</td>\n",
       "      <td>One year</td>\n",
       "      <td>No</td>\n",
       "      <td>Mailed check</td>\n",
       "      <td>56.95</td>\n",
       "      <td>1889.5</td>\n",
       "    </tr>\n",
       "    <tr>\n",
       "      <th>2</th>\n",
       "      <td>3668-QPYBK</td>\n",
       "      <td>2019-10-01</td>\n",
       "      <td>2019-12-01 00:00:00</td>\n",
       "      <td>Month-to-month</td>\n",
       "      <td>Yes</td>\n",
       "      <td>Mailed check</td>\n",
       "      <td>53.85</td>\n",
       "      <td>108.15</td>\n",
       "    </tr>\n",
       "    <tr>\n",
       "      <th>3</th>\n",
       "      <td>7795-CFOCW</td>\n",
       "      <td>2016-05-01</td>\n",
       "      <td>No</td>\n",
       "      <td>One year</td>\n",
       "      <td>No</td>\n",
       "      <td>Bank transfer (automatic)</td>\n",
       "      <td>42.30</td>\n",
       "      <td>1840.75</td>\n",
       "    </tr>\n",
       "    <tr>\n",
       "      <th>4</th>\n",
       "      <td>9237-HQITU</td>\n",
       "      <td>2019-09-01</td>\n",
       "      <td>2019-11-01 00:00:00</td>\n",
       "      <td>Month-to-month</td>\n",
       "      <td>Yes</td>\n",
       "      <td>Electronic check</td>\n",
       "      <td>70.70</td>\n",
       "      <td>151.65</td>\n",
       "    </tr>\n",
       "  </tbody>\n",
       "</table>\n",
       "</div>"
      ],
      "text/plain": [
       "   customerID   BeginDate              EndDate            Type  \\\n",
       "0  7590-VHVEG  2020-01-01                   No  Month-to-month   \n",
       "1  5575-GNVDE  2017-04-01                   No        One year   \n",
       "2  3668-QPYBK  2019-10-01  2019-12-01 00:00:00  Month-to-month   \n",
       "3  7795-CFOCW  2016-05-01                   No        One year   \n",
       "4  9237-HQITU  2019-09-01  2019-11-01 00:00:00  Month-to-month   \n",
       "\n",
       "  PaperlessBilling              PaymentMethod  MonthlyCharges TotalCharges  \n",
       "0              Yes           Electronic check           29.85        29.85  \n",
       "1               No               Mailed check           56.95       1889.5  \n",
       "2              Yes               Mailed check           53.85       108.15  \n",
       "3               No  Bank transfer (automatic)           42.30      1840.75  \n",
       "4              Yes           Electronic check           70.70       151.65  "
      ]
     },
     "metadata": {},
     "output_type": "display_data"
    },
    {
     "name": "stdout",
     "output_type": "stream",
     "text": [
      "<class 'pandas.core.frame.DataFrame'>\n",
      "RangeIndex: 7043 entries, 0 to 7042\n",
      "Data columns (total 8 columns):\n",
      " #   Column            Non-Null Count  Dtype  \n",
      "---  ------            --------------  -----  \n",
      " 0   customerID        7043 non-null   object \n",
      " 1   BeginDate         7043 non-null   object \n",
      " 2   EndDate           7043 non-null   object \n",
      " 3   Type              7043 non-null   object \n",
      " 4   PaperlessBilling  7043 non-null   object \n",
      " 5   PaymentMethod     7043 non-null   object \n",
      " 6   MonthlyCharges    7043 non-null   float64\n",
      " 7   TotalCharges      7043 non-null   object \n",
      "dtypes: float64(1), object(7)\n",
      "memory usage: 440.3+ KB\n"
     ]
    },
    {
     "data": {
      "text/plain": [
       "None"
      ]
     },
     "metadata": {},
     "output_type": "display_data"
    }
   ],
   "source": [
    "display(contract.head())\n",
    "display(contract.info())"
   ]
  },
  {
   "cell_type": "code",
   "execution_count": 97,
   "metadata": {},
   "outputs": [
    {
     "data": {
      "text/html": [
       "<div>\n",
       "<style scoped>\n",
       "    .dataframe tbody tr th:only-of-type {\n",
       "        vertical-align: middle;\n",
       "    }\n",
       "\n",
       "    .dataframe tbody tr th {\n",
       "        vertical-align: top;\n",
       "    }\n",
       "\n",
       "    .dataframe thead th {\n",
       "        text-align: right;\n",
       "    }\n",
       "</style>\n",
       "<table border=\"1\" class=\"dataframe\">\n",
       "  <thead>\n",
       "    <tr style=\"text-align: right;\">\n",
       "      <th></th>\n",
       "      <th>customerID</th>\n",
       "      <th>InternetService</th>\n",
       "      <th>OnlineSecurity</th>\n",
       "      <th>OnlineBackup</th>\n",
       "      <th>DeviceProtection</th>\n",
       "      <th>TechSupport</th>\n",
       "      <th>StreamingTV</th>\n",
       "      <th>StreamingMovies</th>\n",
       "    </tr>\n",
       "  </thead>\n",
       "  <tbody>\n",
       "    <tr>\n",
       "      <th>0</th>\n",
       "      <td>7590-VHVEG</td>\n",
       "      <td>DSL</td>\n",
       "      <td>No</td>\n",
       "      <td>Yes</td>\n",
       "      <td>No</td>\n",
       "      <td>No</td>\n",
       "      <td>No</td>\n",
       "      <td>No</td>\n",
       "    </tr>\n",
       "    <tr>\n",
       "      <th>1</th>\n",
       "      <td>5575-GNVDE</td>\n",
       "      <td>DSL</td>\n",
       "      <td>Yes</td>\n",
       "      <td>No</td>\n",
       "      <td>Yes</td>\n",
       "      <td>No</td>\n",
       "      <td>No</td>\n",
       "      <td>No</td>\n",
       "    </tr>\n",
       "    <tr>\n",
       "      <th>2</th>\n",
       "      <td>3668-QPYBK</td>\n",
       "      <td>DSL</td>\n",
       "      <td>Yes</td>\n",
       "      <td>Yes</td>\n",
       "      <td>No</td>\n",
       "      <td>No</td>\n",
       "      <td>No</td>\n",
       "      <td>No</td>\n",
       "    </tr>\n",
       "    <tr>\n",
       "      <th>3</th>\n",
       "      <td>7795-CFOCW</td>\n",
       "      <td>DSL</td>\n",
       "      <td>Yes</td>\n",
       "      <td>No</td>\n",
       "      <td>Yes</td>\n",
       "      <td>Yes</td>\n",
       "      <td>No</td>\n",
       "      <td>No</td>\n",
       "    </tr>\n",
       "    <tr>\n",
       "      <th>4</th>\n",
       "      <td>9237-HQITU</td>\n",
       "      <td>Fiber optic</td>\n",
       "      <td>No</td>\n",
       "      <td>No</td>\n",
       "      <td>No</td>\n",
       "      <td>No</td>\n",
       "      <td>No</td>\n",
       "      <td>No</td>\n",
       "    </tr>\n",
       "  </tbody>\n",
       "</table>\n",
       "</div>"
      ],
      "text/plain": [
       "   customerID InternetService OnlineSecurity OnlineBackup DeviceProtection  \\\n",
       "0  7590-VHVEG             DSL             No          Yes               No   \n",
       "1  5575-GNVDE             DSL            Yes           No              Yes   \n",
       "2  3668-QPYBK             DSL            Yes          Yes               No   \n",
       "3  7795-CFOCW             DSL            Yes           No              Yes   \n",
       "4  9237-HQITU     Fiber optic             No           No               No   \n",
       "\n",
       "  TechSupport StreamingTV StreamingMovies  \n",
       "0          No          No              No  \n",
       "1          No          No              No  \n",
       "2          No          No              No  \n",
       "3         Yes          No              No  \n",
       "4          No          No              No  "
      ]
     },
     "metadata": {},
     "output_type": "display_data"
    },
    {
     "name": "stdout",
     "output_type": "stream",
     "text": [
      "<class 'pandas.core.frame.DataFrame'>\n",
      "RangeIndex: 5517 entries, 0 to 5516\n",
      "Data columns (total 8 columns):\n",
      " #   Column            Non-Null Count  Dtype \n",
      "---  ------            --------------  ----- \n",
      " 0   customerID        5517 non-null   object\n",
      " 1   InternetService   5517 non-null   object\n",
      " 2   OnlineSecurity    5517 non-null   object\n",
      " 3   OnlineBackup      5517 non-null   object\n",
      " 4   DeviceProtection  5517 non-null   object\n",
      " 5   TechSupport       5517 non-null   object\n",
      " 6   StreamingTV       5517 non-null   object\n",
      " 7   StreamingMovies   5517 non-null   object\n",
      "dtypes: object(8)\n",
      "memory usage: 344.9+ KB\n"
     ]
    },
    {
     "data": {
      "text/plain": [
       "None"
      ]
     },
     "metadata": {},
     "output_type": "display_data"
    }
   ],
   "source": [
    "display(internet.head())\n",
    "display(internet.info())"
   ]
  },
  {
   "cell_type": "code",
   "execution_count": 98,
   "metadata": {},
   "outputs": [
    {
     "data": {
      "text/html": [
       "<div>\n",
       "<style scoped>\n",
       "    .dataframe tbody tr th:only-of-type {\n",
       "        vertical-align: middle;\n",
       "    }\n",
       "\n",
       "    .dataframe tbody tr th {\n",
       "        vertical-align: top;\n",
       "    }\n",
       "\n",
       "    .dataframe thead th {\n",
       "        text-align: right;\n",
       "    }\n",
       "</style>\n",
       "<table border=\"1\" class=\"dataframe\">\n",
       "  <thead>\n",
       "    <tr style=\"text-align: right;\">\n",
       "      <th></th>\n",
       "      <th>customerID</th>\n",
       "      <th>gender</th>\n",
       "      <th>SeniorCitizen</th>\n",
       "      <th>Partner</th>\n",
       "      <th>Dependents</th>\n",
       "    </tr>\n",
       "  </thead>\n",
       "  <tbody>\n",
       "    <tr>\n",
       "      <th>0</th>\n",
       "      <td>7590-VHVEG</td>\n",
       "      <td>Female</td>\n",
       "      <td>0</td>\n",
       "      <td>Yes</td>\n",
       "      <td>No</td>\n",
       "    </tr>\n",
       "    <tr>\n",
       "      <th>1</th>\n",
       "      <td>5575-GNVDE</td>\n",
       "      <td>Male</td>\n",
       "      <td>0</td>\n",
       "      <td>No</td>\n",
       "      <td>No</td>\n",
       "    </tr>\n",
       "    <tr>\n",
       "      <th>2</th>\n",
       "      <td>3668-QPYBK</td>\n",
       "      <td>Male</td>\n",
       "      <td>0</td>\n",
       "      <td>No</td>\n",
       "      <td>No</td>\n",
       "    </tr>\n",
       "    <tr>\n",
       "      <th>3</th>\n",
       "      <td>7795-CFOCW</td>\n",
       "      <td>Male</td>\n",
       "      <td>0</td>\n",
       "      <td>No</td>\n",
       "      <td>No</td>\n",
       "    </tr>\n",
       "    <tr>\n",
       "      <th>4</th>\n",
       "      <td>9237-HQITU</td>\n",
       "      <td>Female</td>\n",
       "      <td>0</td>\n",
       "      <td>No</td>\n",
       "      <td>No</td>\n",
       "    </tr>\n",
       "  </tbody>\n",
       "</table>\n",
       "</div>"
      ],
      "text/plain": [
       "   customerID  gender  SeniorCitizen Partner Dependents\n",
       "0  7590-VHVEG  Female              0     Yes         No\n",
       "1  5575-GNVDE    Male              0      No         No\n",
       "2  3668-QPYBK    Male              0      No         No\n",
       "3  7795-CFOCW    Male              0      No         No\n",
       "4  9237-HQITU  Female              0      No         No"
      ]
     },
     "metadata": {},
     "output_type": "display_data"
    },
    {
     "name": "stdout",
     "output_type": "stream",
     "text": [
      "<class 'pandas.core.frame.DataFrame'>\n",
      "RangeIndex: 7043 entries, 0 to 7042\n",
      "Data columns (total 5 columns):\n",
      " #   Column         Non-Null Count  Dtype \n",
      "---  ------         --------------  ----- \n",
      " 0   customerID     7043 non-null   object\n",
      " 1   gender         7043 non-null   object\n",
      " 2   SeniorCitizen  7043 non-null   int64 \n",
      " 3   Partner        7043 non-null   object\n",
      " 4   Dependents     7043 non-null   object\n",
      "dtypes: int64(1), object(4)\n",
      "memory usage: 275.2+ KB\n"
     ]
    },
    {
     "data": {
      "text/plain": [
       "None"
      ]
     },
     "metadata": {},
     "output_type": "display_data"
    }
   ],
   "source": [
    "display(personal.head())\n",
    "display(personal.info())"
   ]
  },
  {
   "cell_type": "code",
   "execution_count": 99,
   "metadata": {},
   "outputs": [
    {
     "data": {
      "text/html": [
       "<div>\n",
       "<style scoped>\n",
       "    .dataframe tbody tr th:only-of-type {\n",
       "        vertical-align: middle;\n",
       "    }\n",
       "\n",
       "    .dataframe tbody tr th {\n",
       "        vertical-align: top;\n",
       "    }\n",
       "\n",
       "    .dataframe thead th {\n",
       "        text-align: right;\n",
       "    }\n",
       "</style>\n",
       "<table border=\"1\" class=\"dataframe\">\n",
       "  <thead>\n",
       "    <tr style=\"text-align: right;\">\n",
       "      <th></th>\n",
       "      <th>customerID</th>\n",
       "      <th>MultipleLines</th>\n",
       "    </tr>\n",
       "  </thead>\n",
       "  <tbody>\n",
       "    <tr>\n",
       "      <th>0</th>\n",
       "      <td>5575-GNVDE</td>\n",
       "      <td>No</td>\n",
       "    </tr>\n",
       "    <tr>\n",
       "      <th>1</th>\n",
       "      <td>3668-QPYBK</td>\n",
       "      <td>No</td>\n",
       "    </tr>\n",
       "    <tr>\n",
       "      <th>2</th>\n",
       "      <td>9237-HQITU</td>\n",
       "      <td>No</td>\n",
       "    </tr>\n",
       "    <tr>\n",
       "      <th>3</th>\n",
       "      <td>9305-CDSKC</td>\n",
       "      <td>Yes</td>\n",
       "    </tr>\n",
       "    <tr>\n",
       "      <th>4</th>\n",
       "      <td>1452-KIOVK</td>\n",
       "      <td>Yes</td>\n",
       "    </tr>\n",
       "  </tbody>\n",
       "</table>\n",
       "</div>"
      ],
      "text/plain": [
       "   customerID MultipleLines\n",
       "0  5575-GNVDE            No\n",
       "1  3668-QPYBK            No\n",
       "2  9237-HQITU            No\n",
       "3  9305-CDSKC           Yes\n",
       "4  1452-KIOVK           Yes"
      ]
     },
     "metadata": {},
     "output_type": "display_data"
    },
    {
     "name": "stdout",
     "output_type": "stream",
     "text": [
      "<class 'pandas.core.frame.DataFrame'>\n",
      "RangeIndex: 6361 entries, 0 to 6360\n",
      "Data columns (total 2 columns):\n",
      " #   Column         Non-Null Count  Dtype \n",
      "---  ------         --------------  ----- \n",
      " 0   customerID     6361 non-null   object\n",
      " 1   MultipleLines  6361 non-null   object\n",
      "dtypes: object(2)\n",
      "memory usage: 99.5+ KB\n"
     ]
    },
    {
     "data": {
      "text/plain": [
       "None"
      ]
     },
     "metadata": {},
     "output_type": "display_data"
    }
   ],
   "source": [
    "display(phone.head())\n",
    "display(phone.info())"
   ]
  },
  {
   "cell_type": "markdown",
   "metadata": {},
   "source": [
    "Объединяем данные в одну таблицу, взяв за основу информацию о контрактах и присоединив к ней остальные."
   ]
  },
  {
   "cell_type": "code",
   "execution_count": 100,
   "metadata": {},
   "outputs": [],
   "source": [
    "df = (contract.merge(internet, on = 'customerID', how = 'left')\n",
    "      .merge(phone, on = 'customerID', how = 'left')\n",
    "      .merge(personal, on = 'customerID', how = 'left'))"
   ]
  },
  {
   "cell_type": "code",
   "execution_count": 101,
   "metadata": {},
   "outputs": [
    {
     "data": {
      "text/html": [
       "<div>\n",
       "<style scoped>\n",
       "    .dataframe tbody tr th:only-of-type {\n",
       "        vertical-align: middle;\n",
       "    }\n",
       "\n",
       "    .dataframe tbody tr th {\n",
       "        vertical-align: top;\n",
       "    }\n",
       "\n",
       "    .dataframe thead th {\n",
       "        text-align: right;\n",
       "    }\n",
       "</style>\n",
       "<table border=\"1\" class=\"dataframe\">\n",
       "  <thead>\n",
       "    <tr style=\"text-align: right;\">\n",
       "      <th></th>\n",
       "      <th>customerID</th>\n",
       "      <th>BeginDate</th>\n",
       "      <th>EndDate</th>\n",
       "      <th>Type</th>\n",
       "      <th>PaperlessBilling</th>\n",
       "      <th>PaymentMethod</th>\n",
       "      <th>MonthlyCharges</th>\n",
       "      <th>TotalCharges</th>\n",
       "      <th>InternetService</th>\n",
       "      <th>OnlineSecurity</th>\n",
       "      <th>OnlineBackup</th>\n",
       "      <th>DeviceProtection</th>\n",
       "      <th>TechSupport</th>\n",
       "      <th>StreamingTV</th>\n",
       "      <th>StreamingMovies</th>\n",
       "      <th>MultipleLines</th>\n",
       "      <th>gender</th>\n",
       "      <th>SeniorCitizen</th>\n",
       "      <th>Partner</th>\n",
       "      <th>Dependents</th>\n",
       "    </tr>\n",
       "  </thead>\n",
       "  <tbody>\n",
       "    <tr>\n",
       "      <th>0</th>\n",
       "      <td>7590-VHVEG</td>\n",
       "      <td>2020-01-01</td>\n",
       "      <td>No</td>\n",
       "      <td>Month-to-month</td>\n",
       "      <td>Yes</td>\n",
       "      <td>Electronic check</td>\n",
       "      <td>29.85</td>\n",
       "      <td>29.85</td>\n",
       "      <td>DSL</td>\n",
       "      <td>No</td>\n",
       "      <td>Yes</td>\n",
       "      <td>No</td>\n",
       "      <td>No</td>\n",
       "      <td>No</td>\n",
       "      <td>No</td>\n",
       "      <td>NaN</td>\n",
       "      <td>Female</td>\n",
       "      <td>0</td>\n",
       "      <td>Yes</td>\n",
       "      <td>No</td>\n",
       "    </tr>\n",
       "    <tr>\n",
       "      <th>1</th>\n",
       "      <td>5575-GNVDE</td>\n",
       "      <td>2017-04-01</td>\n",
       "      <td>No</td>\n",
       "      <td>One year</td>\n",
       "      <td>No</td>\n",
       "      <td>Mailed check</td>\n",
       "      <td>56.95</td>\n",
       "      <td>1889.5</td>\n",
       "      <td>DSL</td>\n",
       "      <td>Yes</td>\n",
       "      <td>No</td>\n",
       "      <td>Yes</td>\n",
       "      <td>No</td>\n",
       "      <td>No</td>\n",
       "      <td>No</td>\n",
       "      <td>No</td>\n",
       "      <td>Male</td>\n",
       "      <td>0</td>\n",
       "      <td>No</td>\n",
       "      <td>No</td>\n",
       "    </tr>\n",
       "    <tr>\n",
       "      <th>2</th>\n",
       "      <td>3668-QPYBK</td>\n",
       "      <td>2019-10-01</td>\n",
       "      <td>2019-12-01 00:00:00</td>\n",
       "      <td>Month-to-month</td>\n",
       "      <td>Yes</td>\n",
       "      <td>Mailed check</td>\n",
       "      <td>53.85</td>\n",
       "      <td>108.15</td>\n",
       "      <td>DSL</td>\n",
       "      <td>Yes</td>\n",
       "      <td>Yes</td>\n",
       "      <td>No</td>\n",
       "      <td>No</td>\n",
       "      <td>No</td>\n",
       "      <td>No</td>\n",
       "      <td>No</td>\n",
       "      <td>Male</td>\n",
       "      <td>0</td>\n",
       "      <td>No</td>\n",
       "      <td>No</td>\n",
       "    </tr>\n",
       "    <tr>\n",
       "      <th>3</th>\n",
       "      <td>7795-CFOCW</td>\n",
       "      <td>2016-05-01</td>\n",
       "      <td>No</td>\n",
       "      <td>One year</td>\n",
       "      <td>No</td>\n",
       "      <td>Bank transfer (automatic)</td>\n",
       "      <td>42.30</td>\n",
       "      <td>1840.75</td>\n",
       "      <td>DSL</td>\n",
       "      <td>Yes</td>\n",
       "      <td>No</td>\n",
       "      <td>Yes</td>\n",
       "      <td>Yes</td>\n",
       "      <td>No</td>\n",
       "      <td>No</td>\n",
       "      <td>NaN</td>\n",
       "      <td>Male</td>\n",
       "      <td>0</td>\n",
       "      <td>No</td>\n",
       "      <td>No</td>\n",
       "    </tr>\n",
       "    <tr>\n",
       "      <th>4</th>\n",
       "      <td>9237-HQITU</td>\n",
       "      <td>2019-09-01</td>\n",
       "      <td>2019-11-01 00:00:00</td>\n",
       "      <td>Month-to-month</td>\n",
       "      <td>Yes</td>\n",
       "      <td>Electronic check</td>\n",
       "      <td>70.70</td>\n",
       "      <td>151.65</td>\n",
       "      <td>Fiber optic</td>\n",
       "      <td>No</td>\n",
       "      <td>No</td>\n",
       "      <td>No</td>\n",
       "      <td>No</td>\n",
       "      <td>No</td>\n",
       "      <td>No</td>\n",
       "      <td>No</td>\n",
       "      <td>Female</td>\n",
       "      <td>0</td>\n",
       "      <td>No</td>\n",
       "      <td>No</td>\n",
       "    </tr>\n",
       "  </tbody>\n",
       "</table>\n",
       "</div>"
      ],
      "text/plain": [
       "   customerID   BeginDate              EndDate            Type  \\\n",
       "0  7590-VHVEG  2020-01-01                   No  Month-to-month   \n",
       "1  5575-GNVDE  2017-04-01                   No        One year   \n",
       "2  3668-QPYBK  2019-10-01  2019-12-01 00:00:00  Month-to-month   \n",
       "3  7795-CFOCW  2016-05-01                   No        One year   \n",
       "4  9237-HQITU  2019-09-01  2019-11-01 00:00:00  Month-to-month   \n",
       "\n",
       "  PaperlessBilling              PaymentMethod  MonthlyCharges TotalCharges  \\\n",
       "0              Yes           Electronic check           29.85        29.85   \n",
       "1               No               Mailed check           56.95       1889.5   \n",
       "2              Yes               Mailed check           53.85       108.15   \n",
       "3               No  Bank transfer (automatic)           42.30      1840.75   \n",
       "4              Yes           Electronic check           70.70       151.65   \n",
       "\n",
       "  InternetService OnlineSecurity OnlineBackup DeviceProtection TechSupport  \\\n",
       "0             DSL             No          Yes               No          No   \n",
       "1             DSL            Yes           No              Yes          No   \n",
       "2             DSL            Yes          Yes               No          No   \n",
       "3             DSL            Yes           No              Yes         Yes   \n",
       "4     Fiber optic             No           No               No          No   \n",
       "\n",
       "  StreamingTV StreamingMovies MultipleLines  gender  SeniorCitizen Partner  \\\n",
       "0          No              No           NaN  Female              0     Yes   \n",
       "1          No              No            No    Male              0      No   \n",
       "2          No              No            No    Male              0      No   \n",
       "3          No              No           NaN    Male              0      No   \n",
       "4          No              No            No  Female              0      No   \n",
       "\n",
       "  Dependents  \n",
       "0         No  \n",
       "1         No  \n",
       "2         No  \n",
       "3         No  \n",
       "4         No  "
      ]
     },
     "execution_count": 101,
     "metadata": {},
     "output_type": "execute_result"
    }
   ],
   "source": [
    "df.head()"
   ]
  },
  {
   "cell_type": "code",
   "execution_count": 102,
   "metadata": {},
   "outputs": [
    {
     "name": "stdout",
     "output_type": "stream",
     "text": [
      "<class 'pandas.core.frame.DataFrame'>\n",
      "Int64Index: 7043 entries, 0 to 7042\n",
      "Data columns (total 20 columns):\n",
      " #   Column            Non-Null Count  Dtype  \n",
      "---  ------            --------------  -----  \n",
      " 0   customerID        7043 non-null   object \n",
      " 1   BeginDate         7043 non-null   object \n",
      " 2   EndDate           7043 non-null   object \n",
      " 3   Type              7043 non-null   object \n",
      " 4   PaperlessBilling  7043 non-null   object \n",
      " 5   PaymentMethod     7043 non-null   object \n",
      " 6   MonthlyCharges    7043 non-null   float64\n",
      " 7   TotalCharges      7043 non-null   object \n",
      " 8   InternetService   5517 non-null   object \n",
      " 9   OnlineSecurity    5517 non-null   object \n",
      " 10  OnlineBackup      5517 non-null   object \n",
      " 11  DeviceProtection  5517 non-null   object \n",
      " 12  TechSupport       5517 non-null   object \n",
      " 13  StreamingTV       5517 non-null   object \n",
      " 14  StreamingMovies   5517 non-null   object \n",
      " 15  MultipleLines     6361 non-null   object \n",
      " 16  gender            7043 non-null   object \n",
      " 17  SeniorCitizen     7043 non-null   int64  \n",
      " 18  Partner           7043 non-null   object \n",
      " 19  Dependents        7043 non-null   object \n",
      "dtypes: float64(1), int64(1), object(18)\n",
      "memory usage: 1.1+ MB\n"
     ]
    }
   ],
   "source": [
    "df.info()"
   ]
  },
  {
   "cell_type": "markdown",
   "metadata": {},
   "source": [
    "Столбец TotalCharges по логике должен иметь тип float64"
   ]
  },
  {
   "cell_type": "code",
   "execution_count": 103,
   "metadata": {},
   "outputs": [
    {
     "data": {
      "text/plain": [
       "7674.55     1\n",
       "155.8       1\n",
       "5293.95     1\n",
       "4759.85     1\n",
       "6148.45     1\n",
       "           ..\n",
       "19.9        8\n",
       "20.05       8\n",
       "19.75       9\n",
       "20.2       11\n",
       "           11\n",
       "Name: TotalCharges, Length: 6531, dtype: int64"
      ]
     },
     "execution_count": 103,
     "metadata": {},
     "output_type": "execute_result"
    }
   ],
   "source": [
    "df.TotalCharges.value_counts().sort_values()"
   ]
  },
  {
   "cell_type": "markdown",
   "metadata": {},
   "source": [
    "Есть 11 пропусков, которые не идентифицировались как NaN, это менее 1% от имеющихся данных и строки с ними скорее всего можно удалить"
   ]
  },
  {
   "cell_type": "code",
   "execution_count": 104,
   "metadata": {},
   "outputs": [
    {
     "data": {
      "text/html": [
       "<div>\n",
       "<style scoped>\n",
       "    .dataframe tbody tr th:only-of-type {\n",
       "        vertical-align: middle;\n",
       "    }\n",
       "\n",
       "    .dataframe tbody tr th {\n",
       "        vertical-align: top;\n",
       "    }\n",
       "\n",
       "    .dataframe thead th {\n",
       "        text-align: right;\n",
       "    }\n",
       "</style>\n",
       "<table border=\"1\" class=\"dataframe\">\n",
       "  <thead>\n",
       "    <tr style=\"text-align: right;\">\n",
       "      <th></th>\n",
       "      <th>customerID</th>\n",
       "      <th>BeginDate</th>\n",
       "      <th>EndDate</th>\n",
       "      <th>Type</th>\n",
       "      <th>PaperlessBilling</th>\n",
       "      <th>PaymentMethod</th>\n",
       "      <th>MonthlyCharges</th>\n",
       "      <th>TotalCharges</th>\n",
       "      <th>InternetService</th>\n",
       "      <th>OnlineSecurity</th>\n",
       "      <th>OnlineBackup</th>\n",
       "      <th>DeviceProtection</th>\n",
       "      <th>TechSupport</th>\n",
       "      <th>StreamingTV</th>\n",
       "      <th>StreamingMovies</th>\n",
       "      <th>MultipleLines</th>\n",
       "      <th>gender</th>\n",
       "      <th>SeniorCitizen</th>\n",
       "      <th>Partner</th>\n",
       "      <th>Dependents</th>\n",
       "    </tr>\n",
       "  </thead>\n",
       "  <tbody>\n",
       "    <tr>\n",
       "      <th>488</th>\n",
       "      <td>4472-LVYGI</td>\n",
       "      <td>2020-02-01</td>\n",
       "      <td>No</td>\n",
       "      <td>Two year</td>\n",
       "      <td>Yes</td>\n",
       "      <td>Bank transfer (automatic)</td>\n",
       "      <td>52.55</td>\n",
       "      <td></td>\n",
       "      <td>DSL</td>\n",
       "      <td>Yes</td>\n",
       "      <td>No</td>\n",
       "      <td>Yes</td>\n",
       "      <td>Yes</td>\n",
       "      <td>Yes</td>\n",
       "      <td>No</td>\n",
       "      <td>NaN</td>\n",
       "      <td>Female</td>\n",
       "      <td>0</td>\n",
       "      <td>Yes</td>\n",
       "      <td>Yes</td>\n",
       "    </tr>\n",
       "    <tr>\n",
       "      <th>753</th>\n",
       "      <td>3115-CZMZD</td>\n",
       "      <td>2020-02-01</td>\n",
       "      <td>No</td>\n",
       "      <td>Two year</td>\n",
       "      <td>No</td>\n",
       "      <td>Mailed check</td>\n",
       "      <td>20.25</td>\n",
       "      <td></td>\n",
       "      <td>NaN</td>\n",
       "      <td>NaN</td>\n",
       "      <td>NaN</td>\n",
       "      <td>NaN</td>\n",
       "      <td>NaN</td>\n",
       "      <td>NaN</td>\n",
       "      <td>NaN</td>\n",
       "      <td>No</td>\n",
       "      <td>Male</td>\n",
       "      <td>0</td>\n",
       "      <td>No</td>\n",
       "      <td>Yes</td>\n",
       "    </tr>\n",
       "    <tr>\n",
       "      <th>936</th>\n",
       "      <td>5709-LVOEQ</td>\n",
       "      <td>2020-02-01</td>\n",
       "      <td>No</td>\n",
       "      <td>Two year</td>\n",
       "      <td>No</td>\n",
       "      <td>Mailed check</td>\n",
       "      <td>80.85</td>\n",
       "      <td></td>\n",
       "      <td>DSL</td>\n",
       "      <td>Yes</td>\n",
       "      <td>Yes</td>\n",
       "      <td>Yes</td>\n",
       "      <td>No</td>\n",
       "      <td>Yes</td>\n",
       "      <td>Yes</td>\n",
       "      <td>No</td>\n",
       "      <td>Female</td>\n",
       "      <td>0</td>\n",
       "      <td>Yes</td>\n",
       "      <td>Yes</td>\n",
       "    </tr>\n",
       "    <tr>\n",
       "      <th>1082</th>\n",
       "      <td>4367-NUYAO</td>\n",
       "      <td>2020-02-01</td>\n",
       "      <td>No</td>\n",
       "      <td>Two year</td>\n",
       "      <td>No</td>\n",
       "      <td>Mailed check</td>\n",
       "      <td>25.75</td>\n",
       "      <td></td>\n",
       "      <td>NaN</td>\n",
       "      <td>NaN</td>\n",
       "      <td>NaN</td>\n",
       "      <td>NaN</td>\n",
       "      <td>NaN</td>\n",
       "      <td>NaN</td>\n",
       "      <td>NaN</td>\n",
       "      <td>Yes</td>\n",
       "      <td>Male</td>\n",
       "      <td>0</td>\n",
       "      <td>Yes</td>\n",
       "      <td>Yes</td>\n",
       "    </tr>\n",
       "    <tr>\n",
       "      <th>1340</th>\n",
       "      <td>1371-DWPAZ</td>\n",
       "      <td>2020-02-01</td>\n",
       "      <td>No</td>\n",
       "      <td>Two year</td>\n",
       "      <td>No</td>\n",
       "      <td>Credit card (automatic)</td>\n",
       "      <td>56.05</td>\n",
       "      <td></td>\n",
       "      <td>DSL</td>\n",
       "      <td>Yes</td>\n",
       "      <td>Yes</td>\n",
       "      <td>Yes</td>\n",
       "      <td>Yes</td>\n",
       "      <td>Yes</td>\n",
       "      <td>No</td>\n",
       "      <td>NaN</td>\n",
       "      <td>Female</td>\n",
       "      <td>0</td>\n",
       "      <td>Yes</td>\n",
       "      <td>Yes</td>\n",
       "    </tr>\n",
       "    <tr>\n",
       "      <th>3331</th>\n",
       "      <td>7644-OMVMY</td>\n",
       "      <td>2020-02-01</td>\n",
       "      <td>No</td>\n",
       "      <td>Two year</td>\n",
       "      <td>No</td>\n",
       "      <td>Mailed check</td>\n",
       "      <td>19.85</td>\n",
       "      <td></td>\n",
       "      <td>NaN</td>\n",
       "      <td>NaN</td>\n",
       "      <td>NaN</td>\n",
       "      <td>NaN</td>\n",
       "      <td>NaN</td>\n",
       "      <td>NaN</td>\n",
       "      <td>NaN</td>\n",
       "      <td>No</td>\n",
       "      <td>Male</td>\n",
       "      <td>0</td>\n",
       "      <td>Yes</td>\n",
       "      <td>Yes</td>\n",
       "    </tr>\n",
       "    <tr>\n",
       "      <th>3826</th>\n",
       "      <td>3213-VVOLG</td>\n",
       "      <td>2020-02-01</td>\n",
       "      <td>No</td>\n",
       "      <td>Two year</td>\n",
       "      <td>No</td>\n",
       "      <td>Mailed check</td>\n",
       "      <td>25.35</td>\n",
       "      <td></td>\n",
       "      <td>NaN</td>\n",
       "      <td>NaN</td>\n",
       "      <td>NaN</td>\n",
       "      <td>NaN</td>\n",
       "      <td>NaN</td>\n",
       "      <td>NaN</td>\n",
       "      <td>NaN</td>\n",
       "      <td>Yes</td>\n",
       "      <td>Male</td>\n",
       "      <td>0</td>\n",
       "      <td>Yes</td>\n",
       "      <td>Yes</td>\n",
       "    </tr>\n",
       "    <tr>\n",
       "      <th>4380</th>\n",
       "      <td>2520-SGTTA</td>\n",
       "      <td>2020-02-01</td>\n",
       "      <td>No</td>\n",
       "      <td>Two year</td>\n",
       "      <td>No</td>\n",
       "      <td>Mailed check</td>\n",
       "      <td>20.00</td>\n",
       "      <td></td>\n",
       "      <td>NaN</td>\n",
       "      <td>NaN</td>\n",
       "      <td>NaN</td>\n",
       "      <td>NaN</td>\n",
       "      <td>NaN</td>\n",
       "      <td>NaN</td>\n",
       "      <td>NaN</td>\n",
       "      <td>No</td>\n",
       "      <td>Female</td>\n",
       "      <td>0</td>\n",
       "      <td>Yes</td>\n",
       "      <td>Yes</td>\n",
       "    </tr>\n",
       "    <tr>\n",
       "      <th>5218</th>\n",
       "      <td>2923-ARZLG</td>\n",
       "      <td>2020-02-01</td>\n",
       "      <td>No</td>\n",
       "      <td>One year</td>\n",
       "      <td>Yes</td>\n",
       "      <td>Mailed check</td>\n",
       "      <td>19.70</td>\n",
       "      <td></td>\n",
       "      <td>NaN</td>\n",
       "      <td>NaN</td>\n",
       "      <td>NaN</td>\n",
       "      <td>NaN</td>\n",
       "      <td>NaN</td>\n",
       "      <td>NaN</td>\n",
       "      <td>NaN</td>\n",
       "      <td>No</td>\n",
       "      <td>Male</td>\n",
       "      <td>0</td>\n",
       "      <td>Yes</td>\n",
       "      <td>Yes</td>\n",
       "    </tr>\n",
       "    <tr>\n",
       "      <th>6670</th>\n",
       "      <td>4075-WKNIU</td>\n",
       "      <td>2020-02-01</td>\n",
       "      <td>No</td>\n",
       "      <td>Two year</td>\n",
       "      <td>No</td>\n",
       "      <td>Mailed check</td>\n",
       "      <td>73.35</td>\n",
       "      <td></td>\n",
       "      <td>DSL</td>\n",
       "      <td>No</td>\n",
       "      <td>Yes</td>\n",
       "      <td>Yes</td>\n",
       "      <td>Yes</td>\n",
       "      <td>Yes</td>\n",
       "      <td>No</td>\n",
       "      <td>Yes</td>\n",
       "      <td>Female</td>\n",
       "      <td>0</td>\n",
       "      <td>Yes</td>\n",
       "      <td>Yes</td>\n",
       "    </tr>\n",
       "    <tr>\n",
       "      <th>6754</th>\n",
       "      <td>2775-SEFEE</td>\n",
       "      <td>2020-02-01</td>\n",
       "      <td>No</td>\n",
       "      <td>Two year</td>\n",
       "      <td>Yes</td>\n",
       "      <td>Bank transfer (automatic)</td>\n",
       "      <td>61.90</td>\n",
       "      <td></td>\n",
       "      <td>DSL</td>\n",
       "      <td>Yes</td>\n",
       "      <td>Yes</td>\n",
       "      <td>No</td>\n",
       "      <td>Yes</td>\n",
       "      <td>No</td>\n",
       "      <td>No</td>\n",
       "      <td>Yes</td>\n",
       "      <td>Male</td>\n",
       "      <td>0</td>\n",
       "      <td>No</td>\n",
       "      <td>Yes</td>\n",
       "    </tr>\n",
       "  </tbody>\n",
       "</table>\n",
       "</div>"
      ],
      "text/plain": [
       "      customerID   BeginDate EndDate      Type PaperlessBilling  \\\n",
       "488   4472-LVYGI  2020-02-01      No  Two year              Yes   \n",
       "753   3115-CZMZD  2020-02-01      No  Two year               No   \n",
       "936   5709-LVOEQ  2020-02-01      No  Two year               No   \n",
       "1082  4367-NUYAO  2020-02-01      No  Two year               No   \n",
       "1340  1371-DWPAZ  2020-02-01      No  Two year               No   \n",
       "3331  7644-OMVMY  2020-02-01      No  Two year               No   \n",
       "3826  3213-VVOLG  2020-02-01      No  Two year               No   \n",
       "4380  2520-SGTTA  2020-02-01      No  Two year               No   \n",
       "5218  2923-ARZLG  2020-02-01      No  One year              Yes   \n",
       "6670  4075-WKNIU  2020-02-01      No  Two year               No   \n",
       "6754  2775-SEFEE  2020-02-01      No  Two year              Yes   \n",
       "\n",
       "                  PaymentMethod  MonthlyCharges TotalCharges InternetService  \\\n",
       "488   Bank transfer (automatic)           52.55                          DSL   \n",
       "753                Mailed check           20.25                          NaN   \n",
       "936                Mailed check           80.85                          DSL   \n",
       "1082               Mailed check           25.75                          NaN   \n",
       "1340    Credit card (automatic)           56.05                          DSL   \n",
       "3331               Mailed check           19.85                          NaN   \n",
       "3826               Mailed check           25.35                          NaN   \n",
       "4380               Mailed check           20.00                          NaN   \n",
       "5218               Mailed check           19.70                          NaN   \n",
       "6670               Mailed check           73.35                          DSL   \n",
       "6754  Bank transfer (automatic)           61.90                          DSL   \n",
       "\n",
       "     OnlineSecurity OnlineBackup DeviceProtection TechSupport StreamingTV  \\\n",
       "488             Yes           No              Yes         Yes         Yes   \n",
       "753             NaN          NaN              NaN         NaN         NaN   \n",
       "936             Yes          Yes              Yes          No         Yes   \n",
       "1082            NaN          NaN              NaN         NaN         NaN   \n",
       "1340            Yes          Yes              Yes         Yes         Yes   \n",
       "3331            NaN          NaN              NaN         NaN         NaN   \n",
       "3826            NaN          NaN              NaN         NaN         NaN   \n",
       "4380            NaN          NaN              NaN         NaN         NaN   \n",
       "5218            NaN          NaN              NaN         NaN         NaN   \n",
       "6670             No          Yes              Yes         Yes         Yes   \n",
       "6754            Yes          Yes               No         Yes          No   \n",
       "\n",
       "     StreamingMovies MultipleLines  gender  SeniorCitizen Partner Dependents  \n",
       "488               No           NaN  Female              0     Yes        Yes  \n",
       "753              NaN            No    Male              0      No        Yes  \n",
       "936              Yes            No  Female              0     Yes        Yes  \n",
       "1082             NaN           Yes    Male              0     Yes        Yes  \n",
       "1340              No           NaN  Female              0     Yes        Yes  \n",
       "3331             NaN            No    Male              0     Yes        Yes  \n",
       "3826             NaN           Yes    Male              0     Yes        Yes  \n",
       "4380             NaN            No  Female              0     Yes        Yes  \n",
       "5218             NaN            No    Male              0     Yes        Yes  \n",
       "6670              No           Yes  Female              0     Yes        Yes  \n",
       "6754              No           Yes    Male              0      No        Yes  "
      ]
     },
     "execution_count": 104,
     "metadata": {},
     "output_type": "execute_result"
    }
   ],
   "source": [
    "df[df.TotalCharges == ' ']"
   ]
  },
  {
   "cell_type": "markdown",
   "metadata": {},
   "source": [
    "в данном случае это клиенты, начавшие пользоваться услугами в день, когда скорее всего были извлечены данные. Оплата возможно еще не прошла"
   ]
  },
  {
   "cell_type": "code",
   "execution_count": 105,
   "metadata": {},
   "outputs": [],
   "source": [
    "df = df[df.TotalCharges != ' ']"
   ]
  },
  {
   "cell_type": "code",
   "execution_count": 106,
   "metadata": {},
   "outputs": [],
   "source": [
    "df.TotalCharges = df.TotalCharges.astype('float64')"
   ]
  },
  {
   "cell_type": "markdown",
   "metadata": {},
   "source": [
    "Пропуски в совокупной таблице означают отсутствие услуги и их можно заполнить соответственно :No\n",
    "в столбец MultipleLines добавляем обозначение No service - чтобы отметить клиентов, не пользующихся телефоном"
   ]
  },
  {
   "cell_type": "code",
   "execution_count": 107,
   "metadata": {},
   "outputs": [],
   "source": [
    "df.MultipleLines.fillna('No service', inplace=True)       \n",
    "df.fillna('No', inplace=True)"
   ]
  },
  {
   "cell_type": "markdown",
   "metadata": {},
   "source": [
    "Столбцы с бинарными значениями Yes/No Male/Female кодируем 1/0"
   ]
  },
  {
   "cell_type": "code",
   "execution_count": 108,
   "metadata": {},
   "outputs": [
    {
     "data": {
      "text/plain": [
       "Index(['customerID', 'BeginDate', 'EndDate', 'Type', 'PaperlessBilling',\n",
       "       'PaymentMethod', 'MonthlyCharges', 'TotalCharges', 'InternetService',\n",
       "       'OnlineSecurity', 'OnlineBackup', 'DeviceProtection', 'TechSupport',\n",
       "       'StreamingTV', 'StreamingMovies', 'MultipleLines', 'gender',\n",
       "       'SeniorCitizen', 'Partner', 'Dependents'],\n",
       "      dtype='object')"
      ]
     },
     "execution_count": 108,
     "metadata": {},
     "output_type": "execute_result"
    }
   ],
   "source": [
    "df.columns"
   ]
  },
  {
   "cell_type": "code",
   "execution_count": 109,
   "metadata": {},
   "outputs": [],
   "source": [
    "for col in ['PaperlessBilling', 'OnlineSecurity', 'OnlineBackup', 'DeviceProtection', 'TechSupport',\n",
    "       'StreamingTV', 'StreamingMovies', 'Partner', 'Dependents']:\n",
    "    df[col]=df[col].map({'Yes': 1, 'No':0})\n",
    "df.gender = df.gender.map({'Male': 1, 'Female':0})"
   ]
  },
  {
   "cell_type": "markdown",
   "metadata": {},
   "source": [
    "столбец CustomerID больше не нужен"
   ]
  },
  {
   "cell_type": "code",
   "execution_count": 110,
   "metadata": {},
   "outputs": [],
   "source": [
    "df = df.drop(columns='customerID')"
   ]
  },
  {
   "cell_type": "markdown",
   "metadata": {},
   "source": [
    "Создадим отдельный столбец Churned, который будет являться целевым признаком при обучении модели"
   ]
  },
  {
   "cell_type": "code",
   "execution_count": 111,
   "metadata": {},
   "outputs": [],
   "source": [
    "df['Churned'] = df.EndDate.apply(lambda x: np.where(x == 'No', 0, 1))"
   ]
  },
  {
   "cell_type": "markdown",
   "metadata": {},
   "source": [
    "Добавим столбец с количеством месяцев, которые действовал/действует контракт. Предварительно, заменим No в столбце EndDate на дату актуальности информации 01-02-2020"
   ]
  },
  {
   "cell_type": "code",
   "execution_count": 112,
   "metadata": {},
   "outputs": [],
   "source": [
    "df.EndDate = df.EndDate.apply(lambda x: np.where(x == 'No', '2020-02-01 00:00:00', x))"
   ]
  },
  {
   "cell_type": "code",
   "execution_count": 113,
   "metadata": {},
   "outputs": [],
   "source": [
    "df.BeginDate = pd.to_datetime(df.BeginDate)\n",
    "df.EndDate = pd.to_datetime(df.EndDate)"
   ]
  },
  {
   "cell_type": "code",
   "execution_count": 114,
   "metadata": {},
   "outputs": [],
   "source": [
    "df['lifetime'] = ((df.EndDate - df.BeginDate)/np.timedelta64(1, 'D')).astype(int)"
   ]
  },
  {
   "cell_type": "code",
   "execution_count": 115,
   "metadata": {},
   "outputs": [
    {
     "name": "stdout",
     "output_type": "stream",
     "text": [
      "<class 'pandas.core.frame.DataFrame'>\n",
      "Int64Index: 7032 entries, 0 to 7042\n",
      "Data columns (total 21 columns):\n",
      " #   Column            Non-Null Count  Dtype         \n",
      "---  ------            --------------  -----         \n",
      " 0   BeginDate         7032 non-null   datetime64[ns]\n",
      " 1   EndDate           7032 non-null   datetime64[ns]\n",
      " 2   Type              7032 non-null   object        \n",
      " 3   PaperlessBilling  7032 non-null   int64         \n",
      " 4   PaymentMethod     7032 non-null   object        \n",
      " 5   MonthlyCharges    7032 non-null   float64       \n",
      " 6   TotalCharges      7032 non-null   float64       \n",
      " 7   InternetService   7032 non-null   object        \n",
      " 8   OnlineSecurity    7032 non-null   int64         \n",
      " 9   OnlineBackup      7032 non-null   int64         \n",
      " 10  DeviceProtection  7032 non-null   int64         \n",
      " 11  TechSupport       7032 non-null   int64         \n",
      " 12  StreamingTV       7032 non-null   int64         \n",
      " 13  StreamingMovies   7032 non-null   int64         \n",
      " 14  MultipleLines     7032 non-null   object        \n",
      " 15  gender            7032 non-null   int64         \n",
      " 16  SeniorCitizen     7032 non-null   int64         \n",
      " 17  Partner           7032 non-null   int64         \n",
      " 18  Dependents        7032 non-null   int64         \n",
      " 19  Churned           7032 non-null   int64         \n",
      " 20  lifetime          7032 non-null   int32         \n",
      "dtypes: datetime64[ns](2), float64(2), int32(1), int64(12), object(4)\n",
      "memory usage: 1.2+ MB\n"
     ]
    }
   ],
   "source": [
    "df.info()"
   ]
  },
  {
   "cell_type": "code",
   "execution_count": 116,
   "metadata": {},
   "outputs": [],
   "source": [
    "numeric_cols = ['lifetime', 'MonthlyCharges', 'TotalCharges']\n",
    "cat_cols = ['Type',\n",
    "            'PaperlessBilling',\n",
    "            'PaymentMethod',\n",
    "            'InternetService',\n",
    "            'OnlineSecurity',\n",
    "            'OnlineBackup',\n",
    "            'DeviceProtection',\n",
    "            'TechSupport',\n",
    "            'StreamingTV',\n",
    "            'StreamingMovies',\n",
    "            'MultipleLines', \n",
    "            'gender',\n",
    "            'SeniorCitizen',\n",
    "            'Partner',\n",
    "            'Dependents']\n",
    "target_col = 'Churned'"
   ]
  },
  {
   "cell_type": "markdown",
   "metadata": {},
   "source": [
    "## Анализ данных"
   ]
  },
  {
   "cell_type": "code",
   "execution_count": 117,
   "metadata": {},
   "outputs": [
    {
     "data": {
      "text/html": [
       "<div>\n",
       "<style scoped>\n",
       "    .dataframe tbody tr th:only-of-type {\n",
       "        vertical-align: middle;\n",
       "    }\n",
       "\n",
       "    .dataframe tbody tr th {\n",
       "        vertical-align: top;\n",
       "    }\n",
       "\n",
       "    .dataframe thead th {\n",
       "        text-align: right;\n",
       "    }\n",
       "</style>\n",
       "<table border=\"1\" class=\"dataframe\">\n",
       "  <thead>\n",
       "    <tr style=\"text-align: right;\">\n",
       "      <th></th>\n",
       "      <th>PaperlessBilling</th>\n",
       "      <th>MonthlyCharges</th>\n",
       "      <th>TotalCharges</th>\n",
       "      <th>OnlineSecurity</th>\n",
       "      <th>OnlineBackup</th>\n",
       "      <th>DeviceProtection</th>\n",
       "      <th>TechSupport</th>\n",
       "      <th>StreamingTV</th>\n",
       "      <th>StreamingMovies</th>\n",
       "      <th>gender</th>\n",
       "      <th>SeniorCitizen</th>\n",
       "      <th>Partner</th>\n",
       "      <th>Dependents</th>\n",
       "      <th>Churned</th>\n",
       "      <th>lifetime</th>\n",
       "    </tr>\n",
       "  </thead>\n",
       "  <tbody>\n",
       "    <tr>\n",
       "      <th>count</th>\n",
       "      <td>7032.000000</td>\n",
       "      <td>7032.000000</td>\n",
       "      <td>7032.000000</td>\n",
       "      <td>7032.000000</td>\n",
       "      <td>7032.000000</td>\n",
       "      <td>7032.000000</td>\n",
       "      <td>7032.000000</td>\n",
       "      <td>7032.000000</td>\n",
       "      <td>7032.000000</td>\n",
       "      <td>7032.000000</td>\n",
       "      <td>7032.000000</td>\n",
       "      <td>7032.000000</td>\n",
       "      <td>7032.000000</td>\n",
       "      <td>7032.000000</td>\n",
       "      <td>7032.000000</td>\n",
       "    </tr>\n",
       "    <tr>\n",
       "      <th>mean</th>\n",
       "      <td>0.592719</td>\n",
       "      <td>64.798208</td>\n",
       "      <td>2283.300441</td>\n",
       "      <td>0.286547</td>\n",
       "      <td>0.344852</td>\n",
       "      <td>0.343857</td>\n",
       "      <td>0.290102</td>\n",
       "      <td>0.384386</td>\n",
       "      <td>0.388367</td>\n",
       "      <td>0.504693</td>\n",
       "      <td>0.162400</td>\n",
       "      <td>0.482509</td>\n",
       "      <td>0.298493</td>\n",
       "      <td>0.265785</td>\n",
       "      <td>987.538538</td>\n",
       "    </tr>\n",
       "    <tr>\n",
       "      <th>std</th>\n",
       "      <td>0.491363</td>\n",
       "      <td>30.085974</td>\n",
       "      <td>2266.771362</td>\n",
       "      <td>0.452180</td>\n",
       "      <td>0.475354</td>\n",
       "      <td>0.475028</td>\n",
       "      <td>0.453842</td>\n",
       "      <td>0.486484</td>\n",
       "      <td>0.487414</td>\n",
       "      <td>0.500014</td>\n",
       "      <td>0.368844</td>\n",
       "      <td>0.499729</td>\n",
       "      <td>0.457629</td>\n",
       "      <td>0.441782</td>\n",
       "      <td>747.153663</td>\n",
       "    </tr>\n",
       "    <tr>\n",
       "      <th>min</th>\n",
       "      <td>0.000000</td>\n",
       "      <td>18.250000</td>\n",
       "      <td>18.800000</td>\n",
       "      <td>0.000000</td>\n",
       "      <td>0.000000</td>\n",
       "      <td>0.000000</td>\n",
       "      <td>0.000000</td>\n",
       "      <td>0.000000</td>\n",
       "      <td>0.000000</td>\n",
       "      <td>0.000000</td>\n",
       "      <td>0.000000</td>\n",
       "      <td>0.000000</td>\n",
       "      <td>0.000000</td>\n",
       "      <td>0.000000</td>\n",
       "      <td>30.000000</td>\n",
       "    </tr>\n",
       "    <tr>\n",
       "      <th>25%</th>\n",
       "      <td>0.000000</td>\n",
       "      <td>35.587500</td>\n",
       "      <td>401.450000</td>\n",
       "      <td>0.000000</td>\n",
       "      <td>0.000000</td>\n",
       "      <td>0.000000</td>\n",
       "      <td>0.000000</td>\n",
       "      <td>0.000000</td>\n",
       "      <td>0.000000</td>\n",
       "      <td>0.000000</td>\n",
       "      <td>0.000000</td>\n",
       "      <td>0.000000</td>\n",
       "      <td>0.000000</td>\n",
       "      <td>0.000000</td>\n",
       "      <td>275.000000</td>\n",
       "    </tr>\n",
       "    <tr>\n",
       "      <th>50%</th>\n",
       "      <td>1.000000</td>\n",
       "      <td>70.350000</td>\n",
       "      <td>1397.475000</td>\n",
       "      <td>0.000000</td>\n",
       "      <td>0.000000</td>\n",
       "      <td>0.000000</td>\n",
       "      <td>0.000000</td>\n",
       "      <td>0.000000</td>\n",
       "      <td>0.000000</td>\n",
       "      <td>1.000000</td>\n",
       "      <td>0.000000</td>\n",
       "      <td>0.000000</td>\n",
       "      <td>0.000000</td>\n",
       "      <td>0.000000</td>\n",
       "      <td>883.000000</td>\n",
       "    </tr>\n",
       "    <tr>\n",
       "      <th>75%</th>\n",
       "      <td>1.000000</td>\n",
       "      <td>89.862500</td>\n",
       "      <td>3794.737500</td>\n",
       "      <td>1.000000</td>\n",
       "      <td>1.000000</td>\n",
       "      <td>1.000000</td>\n",
       "      <td>1.000000</td>\n",
       "      <td>1.000000</td>\n",
       "      <td>1.000000</td>\n",
       "      <td>1.000000</td>\n",
       "      <td>0.000000</td>\n",
       "      <td>1.000000</td>\n",
       "      <td>1.000000</td>\n",
       "      <td>1.000000</td>\n",
       "      <td>1676.000000</td>\n",
       "    </tr>\n",
       "    <tr>\n",
       "      <th>max</th>\n",
       "      <td>1.000000</td>\n",
       "      <td>118.750000</td>\n",
       "      <td>8684.800000</td>\n",
       "      <td>1.000000</td>\n",
       "      <td>1.000000</td>\n",
       "      <td>1.000000</td>\n",
       "      <td>1.000000</td>\n",
       "      <td>1.000000</td>\n",
       "      <td>1.000000</td>\n",
       "      <td>1.000000</td>\n",
       "      <td>1.000000</td>\n",
       "      <td>1.000000</td>\n",
       "      <td>1.000000</td>\n",
       "      <td>1.000000</td>\n",
       "      <td>2191.000000</td>\n",
       "    </tr>\n",
       "  </tbody>\n",
       "</table>\n",
       "</div>"
      ],
      "text/plain": [
       "       PaperlessBilling  MonthlyCharges  TotalCharges  OnlineSecurity  \\\n",
       "count       7032.000000     7032.000000   7032.000000     7032.000000   \n",
       "mean           0.592719       64.798208   2283.300441        0.286547   \n",
       "std            0.491363       30.085974   2266.771362        0.452180   \n",
       "min            0.000000       18.250000     18.800000        0.000000   \n",
       "25%            0.000000       35.587500    401.450000        0.000000   \n",
       "50%            1.000000       70.350000   1397.475000        0.000000   \n",
       "75%            1.000000       89.862500   3794.737500        1.000000   \n",
       "max            1.000000      118.750000   8684.800000        1.000000   \n",
       "\n",
       "       OnlineBackup  DeviceProtection  TechSupport  StreamingTV  \\\n",
       "count   7032.000000       7032.000000  7032.000000  7032.000000   \n",
       "mean       0.344852          0.343857     0.290102     0.384386   \n",
       "std        0.475354          0.475028     0.453842     0.486484   \n",
       "min        0.000000          0.000000     0.000000     0.000000   \n",
       "25%        0.000000          0.000000     0.000000     0.000000   \n",
       "50%        0.000000          0.000000     0.000000     0.000000   \n",
       "75%        1.000000          1.000000     1.000000     1.000000   \n",
       "max        1.000000          1.000000     1.000000     1.000000   \n",
       "\n",
       "       StreamingMovies       gender  SeniorCitizen      Partner   Dependents  \\\n",
       "count      7032.000000  7032.000000    7032.000000  7032.000000  7032.000000   \n",
       "mean          0.388367     0.504693       0.162400     0.482509     0.298493   \n",
       "std           0.487414     0.500014       0.368844     0.499729     0.457629   \n",
       "min           0.000000     0.000000       0.000000     0.000000     0.000000   \n",
       "25%           0.000000     0.000000       0.000000     0.000000     0.000000   \n",
       "50%           0.000000     1.000000       0.000000     0.000000     0.000000   \n",
       "75%           1.000000     1.000000       0.000000     1.000000     1.000000   \n",
       "max           1.000000     1.000000       1.000000     1.000000     1.000000   \n",
       "\n",
       "           Churned     lifetime  \n",
       "count  7032.000000  7032.000000  \n",
       "mean      0.265785   987.538538  \n",
       "std       0.441782   747.153663  \n",
       "min       0.000000    30.000000  \n",
       "25%       0.000000   275.000000  \n",
       "50%       0.000000   883.000000  \n",
       "75%       1.000000  1676.000000  \n",
       "max       1.000000  2191.000000  "
      ]
     },
     "execution_count": 117,
     "metadata": {},
     "output_type": "execute_result"
    }
   ],
   "source": [
    "df.describe()"
   ]
  },
  {
   "cell_type": "markdown",
   "metadata": {},
   "source": [
    "### Cоотношение ушедших и активных клиентов"
   ]
  },
  {
   "cell_type": "code",
   "execution_count": 118,
   "metadata": {},
   "outputs": [
    {
     "data": {
      "text/plain": [
       "Text(18.21, 0.5, 'Ушедшие / Активные')"
      ]
     },
     "execution_count": 118,
     "metadata": {},
     "output_type": "execute_result"
    },
    {
     "data": {
      "image/png": "[encoded data removed]",
      "text/plain": [
       "<Figure size 468x187.2 with 1 Axes>"
      ]
     },
     "metadata": {},
     "output_type": "display_data"
    }
   ],
   "source": [
    "ax = sns.catplot(y=\"Churned\", kind=\"count\", data=df, height=2.6, aspect=2.5, orient='h', palette=['navy', 'orange'])\n",
    "plt.title('Соотношение ушедших и активных клиентов')\n",
    "plt.xlabel('Количество клиентов')\n",
    "plt.ylabel('Ушедшие / Активные')"
   ]
  },
  {
   "cell_type": "markdown",
   "metadata": {},
   "source": [
    "Отношение ушедших к активным примерно 1 к 3, то есть присутствует дисбаланс классов, который нужно будет учесть на этапе обучения модели"
   ]
  },
  {
   "cell_type": "markdown",
   "metadata": {},
   "source": [
    "### Анализ численных признаков\n",
    "Имеем три численных признака: ежемесячные списания, общая сумма списаний и количество месяцев пользования услугами\n",
    "Проверим как распределены их значения для активных и ушедших клиентов"
   ]
  },
  {
   "cell_type": "code",
   "execution_count": 119,
   "metadata": {
    "scrolled": false
   },
   "outputs": [
    {
     "data": {
      "image/png": "[encoded data removed]",
      "text/plain": [
       "<Figure size 414.8x360 with 1 Axes>"
      ]
     },
     "metadata": {},
     "output_type": "display_data"
    },
    {
     "data": {
      "image/png": "[encoded data removed]",
      "text/plain": [
       "<Figure size 414.8x360 with 1 Axes>"
      ]
     },
     "metadata": {},
     "output_type": "display_data"
    },
    {
     "data": {
      "image/png": "[encoded data removed]",
      "text/plain": [
       "<Figure size 414.8x360 with 1 Axes>"
      ]
     },
     "metadata": {},
     "output_type": "display_data"
    }
   ],
   "source": [
    "for feature in numeric_cols:    \n",
    "    sns.displot(data = df, x=feature, hue='Churned', kind='kde', palette=['navy', 'orange'])\n",
    "    plt.title(\"KDE столбца {}\".format(feature))\n",
    "    plt.show()\n"
   ]
  },
  {
   "cell_type": "markdown",
   "metadata": {},
   "source": [
    "Из графиков видно, что вероятность потерять клиента наиболее высока в первые месяцы и в дальнейшем падает, и что вероятность ухода растёт с возрастанием стоимости услуг\n",
    "\n",
    "### Анализ категориальных признаков\n",
    "\n",
    "Далее проверим доли активных и ушедших клиентов относительно бинарных категориальных признаков (пол, наличие услуг и т.д.)"
   ]
  },
  {
   "cell_type": "code",
   "execution_count": 120,
   "metadata": {},
   "outputs": [],
   "source": [
    "def cat_ratio_plot(data, cat_features, target, orient='h', axis_name = 'Доля клиентов'):\n",
    "    ratios = pd.DataFrame()\n",
    "    ''' ав'''\n",
    "    a = len(cat_features)\n",
    "    b = 1\n",
    "    count = 1\n",
    "\n",
    "    fig = plt.figure(figsize=(14,3*len(cat_features)))\n",
    "    for feature in cat_features:\n",
    "        plt.subplot(a, b, count)\n",
    "        g = data.groupby(feature)[target].value_counts().to_frame()\n",
    "        g = g.rename({target: axis_name}, axis=1).reset_index()\n",
    "        g[axis_name] = g[axis_name]/len(data)\n",
    "        if orient == 'v':\n",
    "            ax = sns.barplot(x=feature, y= axis_name, hue=target, data=g, orient=orient,\n",
    "                             palette=['navy', 'orange'])\n",
    "            #ax.set_yticklabels(['{:,.0%}'.format(y) for y in ax.get_yticks()])\n",
    "        else:\n",
    "            ax = sns.barplot(x= axis_name, y=feature, hue=target, data=g, orient=orient\n",
    "                         ,palette=['navy', 'orange'])\n",
    "            #ax.set_xticklabels(['{:,.0%}'.format(x) for x in ax.get_xticks()])\n",
    "        ax.plot()\n",
    "        plt.title(f'Доля активных и ушедших клиентов по признаку {feature}')\n",
    "        count+=1\n",
    "    plt.tight_layout()\n",
    "    plt.show()"
   ]
  },
  {
   "cell_type": "code",
   "execution_count": 121,
   "metadata": {},
   "outputs": [
    {
     "data": {
      "image/png": "[encoded data removed]",
      "text/plain": [
       "<Figure size 1008x3240 with 15 Axes>"
      ]
     },
     "metadata": {},
     "output_type": "display_data"
    }
   ],
   "source": [
    "cat_ratio_plot(df, cat_cols, target_col)"
   ]
  },
  {
   "cell_type": "markdown",
   "metadata": {},
   "source": [
    "- 'gender'- Доли ушедших мужчин и женщин примерно одинаковы\n",
    "- 'SeniorCitizen' - Пожилые люди более склонны прекращать пользоваться услугами, при этом их доля относительно общего количества клиентов мала\n",
    "- 'Partner' - Среди одиноких людей доля уходящих больше\n",
    "- 'Dependents' - Среди людей, не имеющих иждевенцев, доля уходящих больше\n",
    "- 'PaperlessBilling' - чаще уходят пользователи, оплачивающие электронно\n",
    "- 'OnlineSecurity'- более склонны уходить клиенты без услуги\n",
    "- 'OnlineBackup'- более склонны уходить клиенты без услуги\n",
    "- 'DeviceProtection' - более склонны уходить клиенты без услуги\n",
    "- 'TechSupport' - более склонны уходить клиенты без услуги\n",
    "- 'StreamingTV' - более склонны уходить пользователи услуги\n",
    "- 'StreamingMovies' - более склонны уходить пользователи услуги\n",
    "\n",
    "\n",
    "\n"
   ]
  },
  {
   "cell_type": "markdown",
   "metadata": {
    "tags": []
   },
   "source": [
    "Для категориальных признаков с несколькими значениями картина следующая:\n",
    "- 'Type' - Больше всего уходят клиенты с ежемесячной тарификацией, почти не уходят клиенты с двухлетними контрактами\n",
    "- 'PaymentMethod' - Больше всего уходят клиенты, со способом оплаты - электронный чек, и этот метод чаще всего предпочитают\n",
    "- 'MultipleLines' - более склонны уходить пользователи услуги, но разрыв не выглядит значительным, доля клиентов без телефонных услуг значительно меньше клиентов без интернет-услуг\n",
    "- 'InternetService' - Больше всего ушедших клиентов с оптоволоконным подключением к интернету, доля ушедших клиентов, не имеющих подключения к интернету, крайне мала"
   ]
  },
  {
   "cell_type": "markdown",
   "metadata": {},
   "source": [
    "Категориальные признаки можно также проверить хи-квадрат тестом"
   ]
  },
  {
   "cell_type": "code",
   "execution_count": 122,
   "metadata": {},
   "outputs": [
    {
     "name": "stdout",
     "output_type": "stream",
     "text": [
      "Столбец Type\n",
      "\n",
      "\n",
      "вероятность=0.950, крит. значение=5.991, статистика=1179.546\n",
      "Есть зависимость (можно отвергнуть H0)\n",
      "значимость=0.050, p=0.000\n",
      "Есть зависимость (можно отвергнуть H0)\n",
      "\n",
      "\n",
      "Столбец PaperlessBilling\n",
      "\n",
      "\n",
      "вероятность=0.950, крит. значение=3.841, статистика=256.875\n",
      "Есть зависимость (можно отвергнуть H0)\n",
      "значимость=0.050, p=0.000\n",
      "Есть зависимость (можно отвергнуть H0)\n",
      "\n",
      "\n",
      "Столбец PaymentMethod\n",
      "\n",
      "\n",
      "вероятность=0.950, крит. значение=7.815, статистика=645.430\n",
      "Есть зависимость (можно отвергнуть H0)\n",
      "значимость=0.050, p=0.000\n",
      "Есть зависимость (можно отвергнуть H0)\n",
      "\n",
      "\n",
      "Столбец InternetService\n",
      "\n",
      "\n",
      "вероятность=0.950, крит. значение=5.991, статистика=728.696\n",
      "Есть зависимость (можно отвергнуть H0)\n",
      "значимость=0.050, p=0.000\n",
      "Есть зависимость (можно отвергнуть H0)\n",
      "\n",
      "\n",
      "Столбец OnlineSecurity\n",
      "\n",
      "\n",
      "вероятность=0.950, крит. значение=3.841, статистика=205.416\n",
      "Есть зависимость (можно отвергнуть H0)\n",
      "значимость=0.050, p=0.000\n",
      "Есть зависимость (можно отвергнуть H0)\n",
      "\n",
      "\n",
      "Столбец OnlineBackup\n",
      "\n",
      "\n",
      "вероятность=0.950, крит. значение=3.841, статистика=47.247\n",
      "Есть зависимость (можно отвергнуть H0)\n",
      "значимость=0.050, p=0.000\n",
      "Есть зависимость (можно отвергнуть H0)\n",
      "\n",
      "\n",
      "Столбец DeviceProtection\n",
      "\n",
      "\n",
      "вероятность=0.950, крит. значение=3.841, статистика=30.496\n",
      "Есть зависимость (можно отвергнуть H0)\n",
      "значимость=0.050, p=0.000\n",
      "Есть зависимость (можно отвергнуть H0)\n",
      "\n",
      "\n",
      "Столбец TechSupport\n",
      "\n",
      "\n",
      "вероятность=0.950, крит. значение=3.841, статистика=189.967\n",
      "Есть зависимость (можно отвергнуть H0)\n",
      "значимость=0.050, p=0.000\n",
      "Есть зависимость (можно отвергнуть H0)\n",
      "\n",
      "\n",
      "Столбец StreamingTV\n",
      "\n",
      "\n",
      "вероятность=0.950, крит. значение=3.841, статистика=27.842\n",
      "Есть зависимость (можно отвергнуть H0)\n",
      "значимость=0.050, p=0.000\n",
      "Есть зависимость (можно отвергнуть H0)\n",
      "\n",
      "\n",
      "Столбец StreamingMovies\n",
      "\n",
      "\n",
      "вероятность=0.950, крит. значение=3.841, статистика=25.764\n",
      "Есть зависимость (можно отвергнуть H0)\n",
      "значимость=0.050, p=0.000\n",
      "Есть зависимость (можно отвергнуть H0)\n",
      "\n",
      "\n",
      "Столбец MultipleLines\n",
      "\n",
      "\n",
      "вероятность=0.950, крит. значение=5.991, статистика=11.272\n",
      "Есть зависимость (можно отвергнуть H0)\n",
      "значимость=0.050, p=0.004\n",
      "Есть зависимость (можно отвергнуть H0)\n",
      "\n",
      "\n",
      "Столбец gender\n",
      "\n",
      "\n",
      "вероятность=0.950, крит. значение=3.841, статистика=0.475\n",
      "Нет зависимости (нельзя отвергнуть H0)\n",
      "значимость=0.050, p=0.490\n",
      "Нет зависимости (нельзя отвергнуть H0)\n",
      "\n",
      "\n",
      "Столбец SeniorCitizen\n",
      "\n",
      "\n",
      "вероятность=0.950, крит. значение=3.841, статистика=158.441\n",
      "Есть зависимость (можно отвергнуть H0)\n",
      "значимость=0.050, p=0.000\n",
      "Есть зависимость (можно отвергнуть H0)\n",
      "\n",
      "\n",
      "Столбец Partner\n",
      "\n",
      "\n",
      "вероятность=0.950, крит. значение=3.841, статистика=157.503\n",
      "Есть зависимость (можно отвергнуть H0)\n",
      "значимость=0.050, p=0.000\n",
      "Есть зависимость (можно отвергнуть H0)\n",
      "\n",
      "\n",
      "Столбец Dependents\n",
      "\n",
      "\n",
      "вероятность=0.950, крит. значение=3.841, статистика=186.322\n",
      "Есть зависимость (можно отвергнуть H0)\n",
      "значимость=0.050, p=0.000\n",
      "Есть зависимость (можно отвергнуть H0)\n",
      "\n",
      "\n"
     ]
    }
   ],
   "source": [
    "for column in cat_cols:\n",
    "    print(f'Столбец {column}\\n\\n')\n",
    "    stat, p, dof, expected = chi2_contingency(pd.crosstab(df[target_col], df[column]))\n",
    "\n",
    "    # interpret test-statistic\n",
    "    prob = 0.95\n",
    "    critical = chi2.ppf(prob, dof)\n",
    "    print('вероятность=%.3f, крит. значение=%.3f, статистика=%.3f' % (prob, critical, stat))\n",
    "    if abs(stat) >= critical:\n",
    "        print('Есть зависимость (можно отвергнуть H0)')\n",
    "    else:\n",
    "        print('Нет зависимости (нельзя отвергнуть H0)')\n",
    "    # interpret p-value\n",
    "    alpha = 1.0 - prob\n",
    "    print('значимость=%.3f, p=%.3f' % (alpha, p))\n",
    "    if p <= alpha:\n",
    "        print('Есть зависимость (можно отвергнуть H0)\\n\\n')\n",
    "    else:\n",
    "        print('Нет зависимости (нельзя отвергнуть H0)\\n\\n')"
   ]
  },
  {
   "cell_type": "markdown",
   "metadata": {},
   "source": [
    "## Обучение и тестирование моделей"
   ]
  },
  {
   "cell_type": "markdown",
   "metadata": {},
   "source": [
    "Целевой показатель по заданию - ROC-AUC >= 0.85, вторичный показатель - Accuracy"
   ]
  },
  {
   "cell_type": "markdown",
   "metadata": {},
   "source": [
    "### Проверка модели на адекватность"
   ]
  },
  {
   "cell_type": "markdown",
   "metadata": {},
   "source": [
    "Имеем соотношение классов целевого признака 0.74 / 0.26\n",
    "\n",
    "То есть, если предсказывать 0 во всех случаях, метрика accuracy будет равна 0.74, ROC-AUC - 0.5"
   ]
  },
  {
   "cell_type": "markdown",
   "metadata": {},
   "source": [
    "### Обработка перед обучением модели"
   ]
  },
  {
   "cell_type": "markdown",
   "metadata": {},
   "source": [
    "Кодируем оставшиеся категориальные признаки через OHE"
   ]
  },
  {
   "cell_type": "code",
   "execution_count": 123,
   "metadata": {},
   "outputs": [],
   "source": [
    "df = pd.get_dummies(df, drop_first = True)"
   ]
  },
  {
   "cell_type": "markdown",
   "metadata": {},
   "source": [
    "### *Доработки после кросс-валидации моделей"
   ]
  },
  {
   "cell_type": "markdown",
   "metadata": {},
   "source": [
    "#### 1.Категоризация признаков\n"
   ]
  },
  {
   "cell_type": "markdown",
   "metadata": {},
   "source": [
    "Распределение значений данного столбца имеет 3 ярко выраженных пика. Экспериментальным путём выявлено, что кластеризация числовых признаков, и использование номера кластера при обучении модели, улучшает результат"
   ]
  },
  {
   "cell_type": "code",
   "execution_count": 124,
   "metadata": {},
   "outputs": [],
   "source": [
    "from sklearn.cluster import KMeans"
   ]
  },
  {
   "cell_type": "code",
   "execution_count": 125,
   "metadata": {},
   "outputs": [
    {
     "data": {
      "text/plain": [
       "<AxesSubplot:>"
      ]
     },
     "execution_count": 125,
     "metadata": {},
     "output_type": "execute_result"
    },
    {
     "data": {
      "image/png": "[encoded data removed]",
      "text/plain": [
       "<Figure size 432x288 with 1 Axes>"
      ]
     },
     "metadata": {},
     "output_type": "display_data"
    }
   ],
   "source": [
    "sns.lineplot(x=range(1, 8),\n",
    "                 y=(KMeans(k, random_state=42).fit(df[['MonthlyCharges']].values.reshape(-1, 1)).inertia_\n",
    "                    for k in range(1, 8)))"
   ]
  },
  {
   "cell_type": "code",
   "execution_count": 126,
   "metadata": {},
   "outputs": [],
   "source": [
    "cluster_charges = KMeans(3, random_state = 42).fit_predict(df[['MonthlyCharges']])"
   ]
  },
  {
   "cell_type": "code",
   "execution_count": 127,
   "metadata": {},
   "outputs": [],
   "source": [
    "df['cluster_charges'] = cluster_charges"
   ]
  },
  {
   "cell_type": "markdown",
   "metadata": {},
   "source": [
    "### Отбор признаков, которые будут использоваться при обучении"
   ]
  },
  {
   "cell_type": "code",
   "execution_count": 136,
   "metadata": {},
   "outputs": [
    {
     "data": {
      "text/plain": [
       "Index(['BeginDate', 'EndDate', 'PaperlessBilling', 'MonthlyCharges',\n",
       "       'TotalCharges', 'OnlineSecurity', 'OnlineBackup', 'DeviceProtection',\n",
       "       'TechSupport', 'StreamingTV', 'StreamingMovies', 'gender',\n",
       "       'SeniorCitizen', 'Partner', 'Dependents', 'Churned', 'lifetime',\n",
       "       'Type_One year', 'Type_Two year',\n",
       "       'PaymentMethod_Credit card (automatic)',\n",
       "       'PaymentMethod_Electronic check', 'PaymentMethod_Mailed check',\n",
       "       'InternetService_Fiber optic', 'InternetService_No',\n",
       "       'MultipleLines_No service', 'MultipleLines_Yes', 'cluster_charges'],\n",
       "      dtype='object')"
      ]
     },
     "execution_count": 136,
     "metadata": {},
     "output_type": "execute_result"
    }
   ],
   "source": [
    "df.columns"
   ]
  },
  {
   "cell_type": "code",
   "execution_count": 137,
   "metadata": {},
   "outputs": [],
   "source": [
    "cat_cols_trimmed = ['PaperlessBilling', 'OnlineSecurity', 'OnlineBackup', 'DeviceProtection',\n",
    "       'TechSupport', 'StreamingTV', 'StreamingMovies',\n",
    "       'SeniorCitizen', 'Partner', 'Dependents',\n",
    "       'Type_One year', 'Type_Two year',\n",
    "       'PaymentMethod_Credit card (automatic)',\n",
    "       'PaymentMethod_Electronic check', 'PaymentMethod_Mailed check',\n",
    "       'InternetService_Fiber optic', 'InternetService_No',\n",
    "       'MultipleLines_No service', 'MultipleLines_Yes', 'cluster_charges']\n",
    "num_cols_trimmed = ['lifetime']"
   ]
  },
  {
   "cell_type": "code",
   "execution_count": 138,
   "metadata": {},
   "outputs": [],
   "source": [
    "feature_cols = cat_cols_trimmed + num_cols_trimmed"
   ]
  },
  {
   "cell_type": "markdown",
   "metadata": {},
   "source": [
    "### Важность признаков\n",
    "Для оценки важности признаков обучим модель случайного леса на всех данных и выведем аттрибут *feature_importances_*\n",
    "оставшиеся категориальные признаки кодируем методом OHE"
   ]
  },
  {
   "cell_type": "code",
   "execution_count": 139,
   "metadata": {},
   "outputs": [
    {
     "data": {
      "image/png": "[encoded data removed]",
      "text/plain": [
       "<Figure size 720x864 with 1 Axes>"
      ]
     },
     "metadata": {},
     "output_type": "display_data"
    }
   ],
   "source": [
    "params = {'random_state': 42, 'n_jobs': -1, 'n_estimators': 1000, 'max_depth': 4}\n",
    "# One-hot encode\n",
    "x, y = df[feature_cols], df['Churned']\n",
    "# Fit RandomForest Classifier\n",
    "clf = RandomForestClassifier(**params)\n",
    "clf = clf.fit(x, y)\n",
    "# Plot features importances\n",
    "imp = pd.Series(data=clf.feature_importances_, index=x.columns).sort_values(ascending=False)\n",
    "plt.figure(figsize=(10,12))\n",
    "plt.title(\"Feature importance\")\n",
    "ax = sns.barplot(y=imp.index, x=imp.values, palette=\"Blues_d\", orient='h')"
   ]
  },
  {
   "cell_type": "markdown",
   "metadata": {},
   "source": [
    "### Деление на обучающую и тестовую выборки"
   ]
  },
  {
   "cell_type": "code",
   "execution_count": 140,
   "metadata": {},
   "outputs": [],
   "source": [
    "X_train, X_test, y_train, y_test = train_test_split(df[feature_cols],\n",
    "                                                    df[target_col],\n",
    "                                                    test_size=0.25,\n",
    "                                                    stratify=df[target_col],\n",
    "                                                    random_state=42)"
   ]
  },
  {
   "cell_type": "code",
   "execution_count": 141,
   "metadata": {},
   "outputs": [],
   "source": [
    "scaler = MinMaxScaler()\n",
    "scaler.fit(X_train[num_cols_trimmed])\n",
    "X_train[num_cols_trimmed] = scaler.transform(X_train[num_cols_trimmed])\n",
    "X_test[num_cols_trimmed] = scaler.transform(X_test[num_cols_trimmed])\n"
   ]
  },
  {
   "cell_type": "markdown",
   "metadata": {},
   "source": [
    "### Обучение моделей"
   ]
  },
  {
   "cell_type": "markdown",
   "metadata": {},
   "source": [
    "Проверены методом кросс-валидации с применением GridSearch модели:\n",
    "- Logistic Regression\n",
    "- Random Forest (ансамблевый метод)\n",
    "- XGBClassifier (бустинг)"
   ]
  },
  {
   "cell_type": "code",
   "execution_count": 142,
   "metadata": {},
   "outputs": [],
   "source": [
    "search_space = [\n",
    "                {'classifier': [RandomForestClassifier(random_state=42, n_jobs=-1, verbose=0, class_weight='balanced')],\n",
    "                'classifier__n_estimators': [100, 250, 500],\n",
    "                'classifier__max_depth': [4, 6, 8]},\n",
    "                \n",
    "                {'classifier': [LogisticRegression(class_weight='balanced', solver = 'saga')]},\n",
    "                \n",
    "                {'classifier': [XGBClassifier(eval_metric = 'auc')],\n",
    "                 'classifier__n_estimators': [100, 250, 500],\n",
    "                 'classifier__learning_rate': [0.05, 0.1, 0.5],\n",
    "                 'classifier__max_depth': [4, 6, 8]}]\n",
    "kfold = StratifiedKFold(n_splits = 5, random_state=42, shuffle=True)\n",
    "\n",
    "pipeline = Pipeline(steps = [['classifier', LogisticRegression()]\n",
    "                                   ])\n",
    "grid_search_common = GridSearchCV(estimator=pipeline,\n",
    "                                 param_grid= search_space,\n",
    "                                 scoring='roc_auc',\n",
    "                                 cv=kfold,\n",
    "                                 verbose = 0,\n",
    "                                 \n",
    "                                 n_jobs=-1)\n",
    "best_model_common = grid_search_common.fit(X_train, y_train)"
   ]
  },
  {
   "cell_type": "code",
   "execution_count": 143,
   "metadata": {},
   "outputs": [
    {
     "data": {
      "text/plain": [
       "{'classifier': XGBClassifier(base_score=None, booster=None, colsample_bylevel=None,\n",
       "               colsample_bynode=None, colsample_bytree=None, eval_metric='auc',\n",
       "               gamma=None, gpu_id=None, importance_type='gain',\n",
       "               interaction_constraints=None, learning_rate=0.1,\n",
       "               max_delta_step=None, max_depth=4, min_child_weight=None,\n",
       "               missing=nan, monotone_constraints=None, n_estimators=500,\n",
       "               n_jobs=None, num_parallel_tree=None, random_state=None,\n",
       "               reg_alpha=None, reg_lambda=None, scale_pos_weight=None,\n",
       "               subsample=None, tree_method=None, validate_parameters=None,\n",
       "               verbosity=None),\n",
       " 'classifier__learning_rate': 0.1,\n",
       " 'classifier__max_depth': 4,\n",
       " 'classifier__n_estimators': 500}"
      ]
     },
     "execution_count": 143,
     "metadata": {},
     "output_type": "execute_result"
    }
   ],
   "source": [
    "best_model_common.best_params_"
   ]
  },
  {
   "cell_type": "markdown",
   "metadata": {},
   "source": [
    "Лучшие 10 результатов"
   ]
  },
  {
   "cell_type": "code",
   "execution_count": 144,
   "metadata": {},
   "outputs": [],
   "source": [
    "results = pd.DataFrame(best_model_common.cv_results_).sort_values(by='mean_test_score',\n",
    "                                                                  ascending = False).reset_index(drop=True)\n"
   ]
  },
  {
   "cell_type": "code",
   "execution_count": 145,
   "metadata": {},
   "outputs": [
    {
     "data": {
      "text/html": [
       "<div>\n",
       "<style scoped>\n",
       "    .dataframe tbody tr th:only-of-type {\n",
       "        vertical-align: middle;\n",
       "    }\n",
       "\n",
       "    .dataframe tbody tr th {\n",
       "        vertical-align: top;\n",
       "    }\n",
       "\n",
       "    .dataframe thead th {\n",
       "        text-align: right;\n",
       "    }\n",
       "</style>\n",
       "<table border=\"1\" class=\"dataframe\">\n",
       "  <thead>\n",
       "    <tr style=\"text-align: right;\">\n",
       "      <th></th>\n",
       "      <th>param_classifier</th>\n",
       "      <th>mean_test_score</th>\n",
       "      <th>std_test_score</th>\n",
       "      <th>mean_fit_time</th>\n",
       "      <th>mean_score_time</th>\n",
       "      <th>rank_test_score</th>\n",
       "    </tr>\n",
       "  </thead>\n",
       "  <tbody>\n",
       "    <tr>\n",
       "      <th>0</th>\n",
       "      <td>XGBClassifier(base_score=None, booster=None, c...</td>\n",
       "      <td>0.926798</td>\n",
       "      <td>0.013724</td>\n",
       "      <td>4.381680</td>\n",
       "      <td>0.009973</td>\n",
       "      <td>1</td>\n",
       "    </tr>\n",
       "    <tr>\n",
       "      <th>1</th>\n",
       "      <td>XGBClassifier(base_score=None, booster=None, c...</td>\n",
       "      <td>0.921442</td>\n",
       "      <td>0.012356</td>\n",
       "      <td>1.096667</td>\n",
       "      <td>0.009973</td>\n",
       "      <td>2</td>\n",
       "    </tr>\n",
       "    <tr>\n",
       "      <th>2</th>\n",
       "      <td>XGBClassifier(base_score=None, booster=None, c...</td>\n",
       "      <td>0.921332</td>\n",
       "      <td>0.017065</td>\n",
       "      <td>6.709853</td>\n",
       "      <td>0.011370</td>\n",
       "      <td>3</td>\n",
       "    </tr>\n",
       "    <tr>\n",
       "      <th>3</th>\n",
       "      <td>XGBClassifier(base_score=None, booster=None, c...</td>\n",
       "      <td>0.920750</td>\n",
       "      <td>0.018545</td>\n",
       "      <td>3.578429</td>\n",
       "      <td>0.008976</td>\n",
       "      <td>4</td>\n",
       "    </tr>\n",
       "    <tr>\n",
       "      <th>4</th>\n",
       "      <td>XGBClassifier(base_score=None, booster=None, c...</td>\n",
       "      <td>0.919602</td>\n",
       "      <td>0.017489</td>\n",
       "      <td>6.628670</td>\n",
       "      <td>0.011369</td>\n",
       "      <td>5</td>\n",
       "    </tr>\n",
       "    <tr>\n",
       "      <th>5</th>\n",
       "      <td>XGBClassifier(base_score=None, booster=None, c...</td>\n",
       "      <td>0.918708</td>\n",
       "      <td>0.012127</td>\n",
       "      <td>2.870721</td>\n",
       "      <td>0.008777</td>\n",
       "      <td>6</td>\n",
       "    </tr>\n",
       "    <tr>\n",
       "      <th>6</th>\n",
       "      <td>XGBClassifier(base_score=None, booster=None, c...</td>\n",
       "      <td>0.914837</td>\n",
       "      <td>0.016785</td>\n",
       "      <td>2.143267</td>\n",
       "      <td>0.008976</td>\n",
       "      <td>7</td>\n",
       "    </tr>\n",
       "    <tr>\n",
       "      <th>7</th>\n",
       "      <td>XGBClassifier(base_score=None, booster=None, c...</td>\n",
       "      <td>0.913923</td>\n",
       "      <td>0.016884</td>\n",
       "      <td>4.858405</td>\n",
       "      <td>0.011170</td>\n",
       "      <td>8</td>\n",
       "    </tr>\n",
       "    <tr>\n",
       "      <th>8</th>\n",
       "      <td>XGBClassifier(base_score=None, booster=None, c...</td>\n",
       "      <td>0.913296</td>\n",
       "      <td>0.015684</td>\n",
       "      <td>4.630157</td>\n",
       "      <td>0.009973</td>\n",
       "      <td>9</td>\n",
       "    </tr>\n",
       "    <tr>\n",
       "      <th>9</th>\n",
       "      <td>XGBClassifier(base_score=None, booster=None, c...</td>\n",
       "      <td>0.913028</td>\n",
       "      <td>0.012625</td>\n",
       "      <td>4.500961</td>\n",
       "      <td>0.009574</td>\n",
       "      <td>10</td>\n",
       "    </tr>\n",
       "    <tr>\n",
       "      <th>10</th>\n",
       "      <td>XGBClassifier(base_score=None, booster=None, c...</td>\n",
       "      <td>0.912651</td>\n",
       "      <td>0.016315</td>\n",
       "      <td>10.106368</td>\n",
       "      <td>0.012766</td>\n",
       "      <td>11</td>\n",
       "    </tr>\n",
       "    <tr>\n",
       "      <th>11</th>\n",
       "      <td>XGBClassifier(base_score=None, booster=None, c...</td>\n",
       "      <td>0.909772</td>\n",
       "      <td>0.018251</td>\n",
       "      <td>1.352582</td>\n",
       "      <td>0.008777</td>\n",
       "      <td>12</td>\n",
       "    </tr>\n",
       "    <tr>\n",
       "      <th>12</th>\n",
       "      <td>XGBClassifier(base_score=None, booster=None, c...</td>\n",
       "      <td>0.907796</td>\n",
       "      <td>0.016583</td>\n",
       "      <td>10.675845</td>\n",
       "      <td>0.013165</td>\n",
       "      <td>13</td>\n",
       "    </tr>\n",
       "    <tr>\n",
       "      <th>13</th>\n",
       "      <td>XGBClassifier(base_score=None, booster=None, c...</td>\n",
       "      <td>0.906328</td>\n",
       "      <td>0.020207</td>\n",
       "      <td>3.579626</td>\n",
       "      <td>0.009375</td>\n",
       "      <td>14</td>\n",
       "    </tr>\n",
       "    <tr>\n",
       "      <th>14</th>\n",
       "      <td>XGBClassifier(base_score=None, booster=None, c...</td>\n",
       "      <td>0.905464</td>\n",
       "      <td>0.017010</td>\n",
       "      <td>5.054880</td>\n",
       "      <td>0.010572</td>\n",
       "      <td>15</td>\n",
       "    </tr>\n",
       "    <tr>\n",
       "      <th>15</th>\n",
       "      <td>XGBClassifier(base_score=None, booster=None, c...</td>\n",
       "      <td>0.902142</td>\n",
       "      <td>0.018182</td>\n",
       "      <td>3.658614</td>\n",
       "      <td>0.009176</td>\n",
       "      <td>16</td>\n",
       "    </tr>\n",
       "    <tr>\n",
       "      <th>16</th>\n",
       "      <td>XGBClassifier(base_score=None, booster=None, c...</td>\n",
       "      <td>0.900943</td>\n",
       "      <td>0.022755</td>\n",
       "      <td>1.484230</td>\n",
       "      <td>0.008976</td>\n",
       "      <td>17</td>\n",
       "    </tr>\n",
       "    <tr>\n",
       "      <th>17</th>\n",
       "      <td>XGBClassifier(base_score=None, booster=None, c...</td>\n",
       "      <td>0.900613</td>\n",
       "      <td>0.016067</td>\n",
       "      <td>2.069864</td>\n",
       "      <td>0.008777</td>\n",
       "      <td>18</td>\n",
       "    </tr>\n",
       "    <tr>\n",
       "      <th>18</th>\n",
       "      <td>XGBClassifier(base_score=None, booster=None, c...</td>\n",
       "      <td>0.900596</td>\n",
       "      <td>0.019609</td>\n",
       "      <td>1.935623</td>\n",
       "      <td>0.008178</td>\n",
       "      <td>19</td>\n",
       "    </tr>\n",
       "    <tr>\n",
       "      <th>19</th>\n",
       "      <td>XGBClassifier(base_score=None, booster=None, c...</td>\n",
       "      <td>0.899272</td>\n",
       "      <td>0.018316</td>\n",
       "      <td>6.896354</td>\n",
       "      <td>0.011170</td>\n",
       "      <td>20</td>\n",
       "    </tr>\n",
       "  </tbody>\n",
       "</table>\n",
       "</div>"
      ],
      "text/plain": [
       "                                     param_classifier  mean_test_score  \\\n",
       "0   XGBClassifier(base_score=None, booster=None, c...         0.926798   \n",
       "1   XGBClassifier(base_score=None, booster=None, c...         0.921442   \n",
       "2   XGBClassifier(base_score=None, booster=None, c...         0.921332   \n",
       "3   XGBClassifier(base_score=None, booster=None, c...         0.920750   \n",
       "4   XGBClassifier(base_score=None, booster=None, c...         0.919602   \n",
       "5   XGBClassifier(base_score=None, booster=None, c...         0.918708   \n",
       "6   XGBClassifier(base_score=None, booster=None, c...         0.914837   \n",
       "7   XGBClassifier(base_score=None, booster=None, c...         0.913923   \n",
       "8   XGBClassifier(base_score=None, booster=None, c...         0.913296   \n",
       "9   XGBClassifier(base_score=None, booster=None, c...         0.913028   \n",
       "10  XGBClassifier(base_score=None, booster=None, c...         0.912651   \n",
       "11  XGBClassifier(base_score=None, booster=None, c...         0.909772   \n",
       "12  XGBClassifier(base_score=None, booster=None, c...         0.907796   \n",
       "13  XGBClassifier(base_score=None, booster=None, c...         0.906328   \n",
       "14  XGBClassifier(base_score=None, booster=None, c...         0.905464   \n",
       "15  XGBClassifier(base_score=None, booster=None, c...         0.902142   \n",
       "16  XGBClassifier(base_score=None, booster=None, c...         0.900943   \n",
       "17  XGBClassifier(base_score=None, booster=None, c...         0.900613   \n",
       "18  XGBClassifier(base_score=None, booster=None, c...         0.900596   \n",
       "19  XGBClassifier(base_score=None, booster=None, c...         0.899272   \n",
       "\n",
       "    std_test_score  mean_fit_time  mean_score_time  rank_test_score  \n",
       "0         0.013724       4.381680         0.009973                1  \n",
       "1         0.012356       1.096667         0.009973                2  \n",
       "2         0.017065       6.709853         0.011370                3  \n",
       "3         0.018545       3.578429         0.008976                4  \n",
       "4         0.017489       6.628670         0.011369                5  \n",
       "5         0.012127       2.870721         0.008777                6  \n",
       "6         0.016785       2.143267         0.008976                7  \n",
       "7         0.016884       4.858405         0.011170                8  \n",
       "8         0.015684       4.630157         0.009973                9  \n",
       "9         0.012625       4.500961         0.009574               10  \n",
       "10        0.016315      10.106368         0.012766               11  \n",
       "11        0.018251       1.352582         0.008777               12  \n",
       "12        0.016583      10.675845         0.013165               13  \n",
       "13        0.020207       3.579626         0.009375               14  \n",
       "14        0.017010       5.054880         0.010572               15  \n",
       "15        0.018182       3.658614         0.009176               16  \n",
       "16        0.022755       1.484230         0.008976               17  \n",
       "17        0.016067       2.069864         0.008777               18  \n",
       "18        0.019609       1.935623         0.008178               19  \n",
       "19        0.018316       6.896354         0.011170               20  "
      ]
     },
     "execution_count": 145,
     "metadata": {},
     "output_type": "execute_result"
    }
   ],
   "source": [
    "results[['param_classifier',\n",
    "         'mean_test_score', \n",
    "         'std_test_score',\n",
    "         'mean_fit_time',\n",
    "         'mean_score_time',\n",
    "         'rank_test_score']].head(20)"
   ]
  },
  {
   "cell_type": "markdown",
   "metadata": {},
   "source": [
    "## Проверка модели на тестовой выборке"
   ]
  },
  {
   "cell_type": "code",
   "execution_count": 146,
   "metadata": {},
   "outputs": [],
   "source": [
    "prediction = best_model_common.predict(X_test)"
   ]
  },
  {
   "cell_type": "code",
   "execution_count": 147,
   "metadata": {},
   "outputs": [
    {
     "name": "stdout",
     "output_type": "stream",
     "text": [
      "Значение roc_auc на тестовой выборке: 0.9320704863351452\n"
     ]
    }
   ],
   "source": [
    "print('Значение roc_auc на тестовой выборке:',abs(best_model_common.score(X_test, y_test)))"
   ]
  },
  {
   "cell_type": "code",
   "execution_count": 148,
   "metadata": {},
   "outputs": [
    {
     "name": "stdout",
     "output_type": "stream",
     "text": [
      "Значение Accuracy на тестовой выборке: 0.8816837315130831\n"
     ]
    }
   ],
   "source": [
    "print('Значение Accuracy на тестовой выборке:', accuracy_score(y_test, prediction))"
   ]
  },
  {
   "cell_type": "code",
   "execution_count": 149,
   "metadata": {},
   "outputs": [],
   "source": [
    "prediction = best_model_common.predict(X_test)"
   ]
  },
  {
   "cell_type": "code",
   "execution_count": 150,
   "metadata": {},
   "outputs": [],
   "source": [
    "prediction_prob = best_model_common.predict_proba(X_test)"
   ]
  },
  {
   "cell_type": "markdown",
   "metadata": {},
   "source": [
    "Визуализация кривой ROC-AUC"
   ]
  },
  {
   "cell_type": "code",
   "execution_count": 151,
   "metadata": {
    "scrolled": true
   },
   "outputs": [
    {
     "data": {
      "image/png": "[encoded data removed]",
      "text/plain": [
       "<Figure size 432x288 with 1 Axes>"
      ]
     },
     "metadata": {},
     "output_type": "display_data"
    }
   ],
   "source": [
    "fpr, tpr, thresholds = roc_curve(y_test, prediction_prob[:,1])\n",
    "roc_auc = auc(fpr, tpr)\n",
    "display = RocCurveDisplay(fpr=fpr, tpr=tpr, roc_auc=roc_auc)\n",
    "display.plot()\n",
    "plt.plot([0, 1], [0, 1],'r--')\n",
    "plt.show()  "
   ]
  },
  {
   "cell_type": "markdown",
   "metadata": {},
   "source": [
    "Матрица ошибок на тестовой выборке"
   ]
  },
  {
   "cell_type": "code",
   "execution_count": 152,
   "metadata": {},
   "outputs": [
    {
     "data": {
      "text/plain": [
       "<sklearn.metrics._plot.confusion_matrix.ConfusionMatrixDisplay at 0x1498098e100>"
      ]
     },
     "execution_count": 152,
     "metadata": {},
     "output_type": "execute_result"
    },
    {
     "data": {
      "image/png": "[encoded data removed]",
      "text/plain": [
       "<Figure size 432x288 with 2 Axes>"
      ]
     },
     "metadata": {},
     "output_type": "display_data"
    }
   ],
   "source": [
    "cm = confusion_matrix(y_test, prediction, labels=clf.classes_)\n",
    "disp = ConfusionMatrixDisplay(confusion_matrix=cm,\n",
    "                              display_labels=clf.classes_)\n",
    "disp.plot() "
   ]
  },
  {
   "cell_type": "code",
   "execution_count": 153,
   "metadata": {},
   "outputs": [
    {
     "name": "stdout",
     "output_type": "stream",
     "text": [
      "              precision    recall  f1-score   support\n",
      "\n",
      "           0       0.89      0.96      0.92      1291\n",
      "           1       0.86      0.66      0.75       467\n",
      "\n",
      "    accuracy                           0.88      1758\n",
      "   macro avg       0.88      0.81      0.83      1758\n",
      "weighted avg       0.88      0.88      0.88      1758\n",
      "\n"
     ]
    }
   ],
   "source": [
    "print(classification_report(y_test, prediction))"
   ]
  },
  {
   "cell_type": "markdown",
   "metadata": {},
   "source": [
    "## Итог"
   ]
  },
  {
   "cell_type": "markdown",
   "metadata": {},
   "source": [
    "1. Разделение на обучающую и тестовую выборки выполнено в отношении 0.75 / 0.25\n",
    "2. Dummy модель не была обучена, значения метрик, которые она даёт, в данном случае известны изначально\n",
    "3. Проверено несколько моделей  с использованием кросс-валидации и перебора гиперпараметров. Использованы алгоритмы Логистической регрессии, Случайного леса, XGBoost.\n",
    "- XGBoost показал лучший результат\n",
    "- Обучение моделей выполнялось в несколько итераций, с удалением различных признаков из набора, пока не была преодолена отметка 0.85 на ROC-AUC\n",
    "- На одной из итераций было решено преобразовать признак MonthlyCharges из числового в категориальный, что улучшило результат\n",
    "\n",
    "\n"
   ]
  },
  {
   "cell_type": "code",
   "execution_count": null,
   "metadata": {},
   "outputs": [],
   "source": []
  }
 ],
 "metadata": {
  "ExecuteTimeLog": [
   {
    "duration": 1446,
    "start_time": "2021-07-29T16:06:06.819Z"
   },
   {
    "duration": 321,
    "start_time": "2021-07-29T16:07:38.250Z"
   },
   {
    "duration": 33,
    "start_time": "2021-07-29T16:07:45.224Z"
   },
   {
    "duration": 24,
    "start_time": "2021-07-29T16:07:58.660Z"
   },
   {
    "duration": 19,
    "start_time": "2021-07-29T16:08:03.733Z"
   },
   {
    "duration": 15,
    "start_time": "2021-07-29T16:08:08.961Z"
   },
   {
    "duration": 162,
    "start_time": "2021-07-29T16:08:17.371Z"
   },
   {
    "duration": 50,
    "start_time": "2021-07-29T16:08:27.198Z"
   },
   {
    "duration": 29,
    "start_time": "2021-07-29T16:08:35.083Z"
   },
   {
    "duration": 39,
    "start_time": "2021-07-29T16:08:53.631Z"
   },
   {
    "duration": 30,
    "start_time": "2021-07-29T16:08:54.532Z"
   },
   {
    "duration": 20,
    "start_time": "2021-07-29T16:09:03.617Z"
   },
   {
    "duration": 128,
    "start_time": "2021-07-29T16:09:12.354Z"
   },
   {
    "duration": 18,
    "start_time": "2021-07-29T16:09:20.918Z"
   },
   {
    "duration": 5,
    "start_time": "2021-07-29T16:09:36.184Z"
   },
   {
    "duration": 35,
    "start_time": "2021-07-29T16:09:44.761Z"
   },
   {
    "duration": 8,
    "start_time": "2021-07-29T16:09:51.101Z"
   },
   {
    "duration": 15,
    "start_time": "2021-07-29T16:09:59.631Z"
   },
   {
    "duration": 7,
    "start_time": "2021-07-29T16:10:12.668Z"
   },
   {
    "duration": 6,
    "start_time": "2021-07-29T16:10:17.324Z"
   },
   {
    "duration": 28,
    "start_time": "2021-07-29T16:10:34.163Z"
   },
   {
    "duration": 37,
    "start_time": "2021-07-29T16:10:48.172Z"
   },
   {
    "duration": 14,
    "start_time": "2021-07-29T16:10:58.173Z"
   },
   {
    "duration": 9,
    "start_time": "2021-07-29T16:11:10.383Z"
   },
   {
    "duration": 17,
    "start_time": "2021-07-29T16:11:16.603Z"
   },
   {
    "duration": 715,
    "start_time": "2021-07-29T16:11:32.141Z"
   },
   {
    "duration": 543,
    "start_time": "2021-07-29T16:12:03.291Z"
   },
   {
    "duration": 414,
    "start_time": "2021-07-29T16:12:08.081Z"
   },
   {
    "duration": 1696,
    "start_time": "2021-07-29T16:12:32.750Z"
   },
   {
    "duration": 1592,
    "start_time": "2021-07-29T16:12:43.548Z"
   },
   {
    "duration": 1774,
    "start_time": "2021-07-29T16:12:48.543Z"
   },
   {
    "duration": 3794,
    "start_time": "2021-07-29T16:12:54.604Z"
   },
   {
    "duration": 4703,
    "start_time": "2021-07-29T16:13:29.009Z"
   },
   {
    "duration": 428,
    "start_time": "2021-07-29T16:13:37.973Z"
   },
   {
    "duration": 3844,
    "start_time": "2021-07-29T16:13:50.715Z"
   },
   {
    "duration": 1456,
    "start_time": "2021-07-29T16:13:54.562Z"
   },
   {
    "duration": 105,
    "start_time": "2021-07-29T16:13:56.021Z"
   },
   {
    "duration": 28,
    "start_time": "2021-07-29T16:13:56.129Z"
   },
   {
    "duration": 21,
    "start_time": "2021-07-29T16:13:56.159Z"
   },
   {
    "duration": 18,
    "start_time": "2021-07-29T16:13:56.185Z"
   },
   {
    "duration": 18,
    "start_time": "2021-07-29T16:13:56.206Z"
   },
   {
    "duration": 72,
    "start_time": "2021-07-29T16:13:56.227Z"
   },
   {
    "duration": 26,
    "start_time": "2021-07-29T16:13:56.302Z"
   },
   {
    "duration": 26,
    "start_time": "2021-07-29T16:13:56.330Z"
   },
   {
    "duration": 34,
    "start_time": "2021-07-29T16:13:56.358Z"
   },
   {
    "duration": 9,
    "start_time": "2021-07-29T16:13:56.394Z"
   },
   {
    "duration": 35,
    "start_time": "2021-07-29T16:13:56.406Z"
   },
   {
    "duration": 7,
    "start_time": "2021-07-29T16:13:56.443Z"
   },
   {
    "duration": 42,
    "start_time": "2021-07-29T16:13:56.452Z"
   },
   {
    "duration": 10,
    "start_time": "2021-07-29T16:13:56.496Z"
   },
   {
    "duration": 10,
    "start_time": "2021-07-29T16:13:56.508Z"
   },
   {
    "duration": 34,
    "start_time": "2021-07-29T16:13:56.521Z"
   },
   {
    "duration": 51,
    "start_time": "2021-07-29T16:13:56.557Z"
   },
   {
    "duration": 26,
    "start_time": "2021-07-29T16:13:56.611Z"
   },
   {
    "duration": 8,
    "start_time": "2021-07-29T16:13:56.640Z"
   },
   {
    "duration": 16,
    "start_time": "2021-07-29T16:13:56.650Z"
   },
   {
    "duration": 842,
    "start_time": "2021-07-29T16:13:56.670Z"
   },
   {
    "duration": 639,
    "start_time": "2021-07-29T16:13:57.515Z"
   },
   {
    "duration": 3560,
    "start_time": "2021-07-29T16:14:06.439Z"
   },
   {
    "duration": 732,
    "start_time": "2021-07-29T16:15:12.065Z"
   },
   {
    "duration": 275,
    "start_time": "2021-07-29T16:15:21.698Z"
   },
   {
    "duration": 273,
    "start_time": "2021-07-29T16:17:02.168Z"
   },
   {
    "duration": 989,
    "start_time": "2021-07-29T16:17:44.915Z"
   },
   {
    "duration": 288,
    "start_time": "2021-07-29T16:18:16.789Z"
   },
   {
    "duration": 298,
    "start_time": "2021-07-29T16:18:20.879Z"
   },
   {
    "duration": 303,
    "start_time": "2021-07-29T16:18:34.148Z"
   },
   {
    "duration": 8,
    "start_time": "2021-07-29T16:18:37.280Z"
   },
   {
    "duration": 807,
    "start_time": "2021-07-29T16:19:11.770Z"
   },
   {
    "duration": 296,
    "start_time": "2021-07-29T16:19:22.451Z"
   },
   {
    "duration": 291,
    "start_time": "2021-07-29T16:20:37.595Z"
   },
   {
    "duration": 295,
    "start_time": "2021-07-29T16:22:06.868Z"
   },
   {
    "duration": 307,
    "start_time": "2021-07-29T16:22:47.290Z"
   },
   {
    "duration": 4,
    "start_time": "2021-07-29T16:27:48.598Z"
   },
   {
    "duration": 410,
    "start_time": "2021-07-29T16:28:26.170Z"
   },
   {
    "duration": 2935,
    "start_time": "2021-07-29T16:28:36.628Z"
   },
   {
    "duration": 3085,
    "start_time": "2021-07-29T16:29:20.135Z"
   },
   {
    "duration": 3042,
    "start_time": "2021-07-29T16:29:29.978Z"
   },
   {
    "duration": 3623,
    "start_time": "2021-07-29T16:29:44.571Z"
   },
   {
    "duration": 4,
    "start_time": "2021-07-29T16:33:23.948Z"
   },
   {
    "duration": 4054,
    "start_time": "2021-07-29T16:33:25.176Z"
   },
   {
    "duration": 3876,
    "start_time": "2021-07-29T16:36:02.867Z"
   },
   {
    "duration": 1133,
    "start_time": "2021-07-29T19:19:44.285Z"
   },
   {
    "duration": 224,
    "start_time": "2021-07-29T19:19:45.421Z"
   },
   {
    "duration": 20,
    "start_time": "2021-07-29T19:19:45.647Z"
   },
   {
    "duration": 14,
    "start_time": "2021-07-29T19:19:45.669Z"
   },
   {
    "duration": 13,
    "start_time": "2021-07-29T19:19:46.005Z"
   },
   {
    "duration": 11,
    "start_time": "2021-07-29T19:19:46.480Z"
   },
   {
    "duration": 28,
    "start_time": "2021-07-29T19:19:46.930Z"
   },
   {
    "duration": 18,
    "start_time": "2021-07-29T19:19:47.135Z"
   },
   {
    "duration": 13,
    "start_time": "2021-07-29T19:19:47.350Z"
   },
   {
    "duration": 13,
    "start_time": "2021-07-29T19:19:47.767Z"
   },
   {
    "duration": 4,
    "start_time": "2021-07-29T19:19:48.170Z"
   },
   {
    "duration": 22,
    "start_time": "2021-07-29T19:19:48.360Z"
   },
   {
    "duration": 7,
    "start_time": "2021-07-29T19:19:48.604Z"
   },
   {
    "duration": 10,
    "start_time": "2021-07-29T19:19:48.795Z"
   },
   {
    "duration": 5,
    "start_time": "2021-07-29T19:19:49.227Z"
   },
   {
    "duration": 5,
    "start_time": "2021-07-29T19:19:49.459Z"
   },
   {
    "duration": 19,
    "start_time": "2021-07-29T19:19:49.937Z"
   },
   {
    "duration": 24,
    "start_time": "2021-07-29T19:19:50.358Z"
   },
   {
    "duration": 8,
    "start_time": "2021-07-29T19:19:50.541Z"
   },
   {
    "duration": 7,
    "start_time": "2021-07-29T19:19:50.751Z"
   },
   {
    "duration": 11,
    "start_time": "2021-07-29T19:19:50.960Z"
   },
   {
    "duration": 439,
    "start_time": "2021-07-29T19:19:51.150Z"
   },
   {
    "duration": 343,
    "start_time": "2021-07-29T19:19:51.771Z"
   },
   {
    "duration": 194,
    "start_time": "2021-07-29T19:19:51.922Z"
   },
   {
    "duration": 3,
    "start_time": "2021-07-29T19:19:52.340Z"
   },
   {
    "duration": 660,
    "start_time": "2021-07-29T19:19:59.498Z"
   },
   {
    "duration": 251,
    "start_time": "2021-07-29T19:20:09.131Z"
   },
   {
    "duration": 3909,
    "start_time": "2021-07-29T19:20:12.139Z"
   },
   {
    "duration": 1068,
    "start_time": "2021-07-29T19:20:25.093Z"
   },
   {
    "duration": 93,
    "start_time": "2021-07-29T19:20:26.163Z"
   },
   {
    "duration": 20,
    "start_time": "2021-07-29T19:20:26.258Z"
   },
   {
    "duration": 15,
    "start_time": "2021-07-29T19:20:26.280Z"
   },
   {
    "duration": 14,
    "start_time": "2021-07-29T19:20:26.297Z"
   },
   {
    "duration": 37,
    "start_time": "2021-07-29T19:20:26.312Z"
   },
   {
    "duration": 25,
    "start_time": "2021-07-29T19:20:26.589Z"
   },
   {
    "duration": 18,
    "start_time": "2021-07-29T19:20:26.763Z"
   },
   {
    "duration": 13,
    "start_time": "2021-07-29T19:20:26.944Z"
   },
   {
    "duration": 12,
    "start_time": "2021-07-29T19:20:27.319Z"
   },
   {
    "duration": 5,
    "start_time": "2021-07-29T19:20:27.689Z"
   },
   {
    "duration": 22,
    "start_time": "2021-07-29T19:20:27.862Z"
   },
   {
    "duration": 5,
    "start_time": "2021-07-29T19:20:28.043Z"
   },
   {
    "duration": 10,
    "start_time": "2021-07-29T19:20:28.247Z"
   },
   {
    "duration": 5,
    "start_time": "2021-07-29T19:20:28.640Z"
   },
   {
    "duration": 5,
    "start_time": "2021-07-29T19:20:28.817Z"
   },
   {
    "duration": 19,
    "start_time": "2021-07-29T19:20:29.210Z"
   },
   {
    "duration": 22,
    "start_time": "2021-07-29T19:20:29.592Z"
   },
   {
    "duration": 9,
    "start_time": "2021-07-29T19:20:29.777Z"
   },
   {
    "duration": 5,
    "start_time": "2021-07-29T19:20:29.983Z"
   },
   {
    "duration": 10,
    "start_time": "2021-07-29T19:20:30.193Z"
   },
   {
    "duration": 562,
    "start_time": "2021-07-29T19:20:30.357Z"
   },
   {
    "duration": 2286,
    "start_time": "2021-07-29T19:20:30.973Z"
   },
   {
    "duration": 5,
    "start_time": "2021-07-29T19:20:33.261Z"
   },
   {
    "duration": 10,
    "start_time": "2021-07-29T19:20:33.268Z"
   },
   {
    "duration": 2440,
    "start_time": "2021-07-29T19:20:33.280Z"
   },
   {
    "duration": 2,
    "start_time": "2021-07-29T19:22:24.991Z"
   },
   {
    "duration": 908,
    "start_time": "2021-07-29T19:22:53.540Z"
   },
   {
    "duration": 805,
    "start_time": "2021-07-29T19:23:04.940Z"
   },
   {
    "duration": 848,
    "start_time": "2021-07-29T19:23:21.900Z"
   },
   {
    "duration": 1133,
    "start_time": "2021-07-29T19:23:48.250Z"
   },
   {
    "duration": 1120,
    "start_time": "2021-07-29T19:24:02.740Z"
   },
   {
    "duration": 85,
    "start_time": "2021-07-29T19:29:13.324Z"
   },
   {
    "duration": 85,
    "start_time": "2021-07-29T19:29:21.701Z"
   },
   {
    "duration": 6,
    "start_time": "2021-07-29T19:29:25.250Z"
   },
   {
    "duration": 2462,
    "start_time": "2021-07-29T19:29:28.250Z"
   },
   {
    "duration": 2393,
    "start_time": "2021-07-29T19:30:02.692Z"
   },
   {
    "duration": 1232,
    "start_time": "2021-07-29T19:30:10.750Z"
   },
   {
    "duration": 3458,
    "start_time": "2021-07-29T19:34:21.819Z"
   },
   {
    "duration": 88,
    "start_time": "2021-07-29T19:35:15.011Z"
   },
   {
    "duration": 4219,
    "start_time": "2021-07-29T19:35:33.690Z"
   },
   {
    "duration": 4970,
    "start_time": "2021-07-30T08:25:27.496Z"
   },
   {
    "duration": 1409,
    "start_time": "2021-07-30T08:25:44.082Z"
   },
   {
    "duration": 97,
    "start_time": "2021-07-30T08:25:47.224Z"
   },
   {
    "duration": 32,
    "start_time": "2021-07-30T08:26:07.152Z"
   },
   {
    "duration": 24,
    "start_time": "2021-07-30T08:26:07.702Z"
   },
   {
    "duration": 20,
    "start_time": "2021-07-30T08:26:08.444Z"
   },
   {
    "duration": 19,
    "start_time": "2021-07-30T08:26:09.813Z"
   },
   {
    "duration": 40,
    "start_time": "2021-07-30T08:26:12.167Z"
   },
   {
    "duration": 27,
    "start_time": "2021-07-30T08:26:13.247Z"
   },
   {
    "duration": 19,
    "start_time": "2021-07-30T08:26:15.467Z"
   },
   {
    "duration": 17,
    "start_time": "2021-07-30T08:26:19.122Z"
   },
   {
    "duration": 6,
    "start_time": "2021-07-30T08:26:22.327Z"
   },
   {
    "duration": 36,
    "start_time": "2021-07-30T08:26:56.937Z"
   },
   {
    "duration": 9,
    "start_time": "2021-07-30T08:26:58.982Z"
   },
   {
    "duration": 562,
    "start_time": "2021-07-30T08:27:54.437Z"
   },
   {
    "duration": 18,
    "start_time": "2021-07-30T08:28:43.334Z"
   },
   {
    "duration": 7,
    "start_time": "2021-07-30T08:28:45.836Z"
   },
   {
    "duration": 8,
    "start_time": "2021-07-30T08:28:46.111Z"
   },
   {
    "duration": 30,
    "start_time": "2021-07-30T08:28:57.111Z"
   },
   {
    "duration": 40,
    "start_time": "2021-07-30T08:29:02.321Z"
   },
   {
    "duration": 12,
    "start_time": "2021-07-30T08:29:03.981Z"
   },
   {
    "duration": 8,
    "start_time": "2021-07-30T08:29:05.991Z"
   },
   {
    "duration": 14,
    "start_time": "2021-07-30T08:29:06.460Z"
   },
   {
    "duration": 791,
    "start_time": "2021-07-30T08:29:44.411Z"
   },
   {
    "duration": 3589,
    "start_time": "2021-07-30T08:30:21.763Z"
   },
   {
    "duration": 67,
    "start_time": "2021-07-30T08:30:32.957Z"
   },
   {
    "duration": 4,
    "start_time": "2021-07-30T08:30:35.811Z"
   },
   {
    "duration": 6562,
    "start_time": "2021-07-30T08:30:37.512Z"
   },
   {
    "duration": 4,
    "start_time": "2021-07-30T08:31:06.660Z"
   },
   {
    "duration": 1896,
    "start_time": "2021-07-30T08:31:07.306Z"
   },
   {
    "duration": 5619,
    "start_time": "2021-07-30T13:02:30.962Z"
   },
   {
    "duration": 1435,
    "start_time": "2021-07-30T13:02:40.178Z"
   },
   {
    "duration": 100,
    "start_time": "2021-07-30T13:02:41.616Z"
   },
   {
    "duration": 29,
    "start_time": "2021-07-30T13:02:41.719Z"
   },
   {
    "duration": 29,
    "start_time": "2021-07-30T13:02:51.907Z"
   },
   {
    "duration": 28,
    "start_time": "2021-07-30T13:02:52.143Z"
   },
   {
    "duration": 22,
    "start_time": "2021-07-30T13:02:52.348Z"
   },
   {
    "duration": 56,
    "start_time": "2021-07-30T13:02:56.268Z"
   },
   {
    "duration": 27,
    "start_time": "2021-07-30T13:02:57.417Z"
   },
   {
    "duration": 29,
    "start_time": "2021-07-30T13:03:07.717Z"
   },
   {
    "duration": 4245,
    "start_time": "2021-07-30T13:06:46.883Z"
   },
   {
    "duration": 6,
    "start_time": "2021-07-30T13:07:02.498Z"
   },
   {
    "duration": 98,
    "start_time": "2021-07-30T13:07:03.048Z"
   },
   {
    "duration": 27,
    "start_time": "2021-07-30T13:07:03.217Z"
   },
   {
    "duration": 24,
    "start_time": "2021-07-30T13:07:03.393Z"
   },
   {
    "duration": 20,
    "start_time": "2021-07-30T13:07:03.587Z"
   },
   {
    "duration": 16,
    "start_time": "2021-07-30T13:07:03.918Z"
   },
   {
    "duration": 56,
    "start_time": "2021-07-30T13:07:04.398Z"
   },
   {
    "duration": 42,
    "start_time": "2021-07-30T13:07:04.588Z"
   },
   {
    "duration": 19,
    "start_time": "2021-07-30T13:07:04.793Z"
   },
   {
    "duration": 18,
    "start_time": "2021-07-30T13:07:05.158Z"
   },
   {
    "duration": 6,
    "start_time": "2021-07-30T13:07:05.523Z"
   },
   {
    "duration": 32,
    "start_time": "2021-07-30T13:07:05.873Z"
   },
   {
    "duration": 7,
    "start_time": "2021-07-30T13:07:09.268Z"
   },
   {
    "duration": 15,
    "start_time": "2021-07-30T13:07:10.867Z"
   },
   {
    "duration": 7,
    "start_time": "2021-07-30T13:09:05.363Z"
   },
   {
    "duration": 6,
    "start_time": "2021-07-30T13:09:06.894Z"
   },
   {
    "duration": 27,
    "start_time": "2021-07-30T13:09:08.818Z"
   },
   {
    "duration": 36,
    "start_time": "2021-07-30T13:09:10.518Z"
   },
   {
    "duration": 15,
    "start_time": "2021-07-30T13:09:11.178Z"
   },
   {
    "duration": 8,
    "start_time": "2021-07-30T13:09:11.632Z"
   },
   {
    "duration": 15,
    "start_time": "2021-07-30T13:09:17.119Z"
   },
   {
    "duration": 917,
    "start_time": "2021-07-30T13:09:41.053Z"
   },
   {
    "duration": 3682,
    "start_time": "2021-07-30T13:09:51.308Z"
   },
   {
    "duration": 9,
    "start_time": "2021-07-30T13:10:46.579Z"
   },
   {
    "duration": 4,
    "start_time": "2021-07-30T13:10:46.984Z"
   },
   {
    "duration": 5521,
    "start_time": "2021-07-30T13:10:48.033Z"
   },
   {
    "duration": 373,
    "start_time": "2021-07-30T13:11:11.447Z"
   },
   {
    "duration": 4,
    "start_time": "2021-07-30T13:11:17.078Z"
   },
   {
    "duration": 2385,
    "start_time": "2021-07-30T13:11:17.282Z"
   },
   {
    "duration": 125,
    "start_time": "2021-07-30T13:13:33.298Z"
   },
   {
    "duration": 1005,
    "start_time": "2021-07-30T13:13:36.353Z"
   },
   {
    "duration": 337,
    "start_time": "2021-07-30T13:14:19.149Z"
   },
   {
    "duration": 51054,
    "start_time": "2021-07-30T13:14:47.257Z"
   },
   {
    "duration": 37,
    "start_time": "2021-07-30T13:17:09.258Z"
   },
   {
    "duration": 3,
    "start_time": "2021-07-30T13:34:19.349Z"
   },
   {
    "duration": 256,
    "start_time": "2021-07-30T13:34:38.809Z"
   },
   {
    "duration": 3,
    "start_time": "2021-07-30T13:42:01.579Z"
   },
   {
    "duration": 195,
    "start_time": "2021-07-30T13:51:26.863Z"
   },
   {
    "duration": 9,
    "start_time": "2021-07-30T13:51:34.579Z"
   },
   {
    "duration": 116,
    "start_time": "2021-07-30T13:51:35.103Z"
   },
   {
    "duration": 29,
    "start_time": "2021-07-30T13:51:35.417Z"
   },
   {
    "duration": 31,
    "start_time": "2021-07-30T13:51:35.608Z"
   },
   {
    "duration": 22,
    "start_time": "2021-07-30T13:51:35.778Z"
   },
   {
    "duration": 17,
    "start_time": "2021-07-30T13:51:35.967Z"
   },
   {
    "duration": 46,
    "start_time": "2021-07-30T13:51:36.319Z"
   },
   {
    "duration": 27,
    "start_time": "2021-07-30T13:51:36.487Z"
   },
   {
    "duration": 21,
    "start_time": "2021-07-30T13:51:36.637Z"
   },
   {
    "duration": 19,
    "start_time": "2021-07-30T13:51:36.989Z"
   },
   {
    "duration": 6,
    "start_time": "2021-07-30T13:51:37.359Z"
   },
   {
    "duration": 35,
    "start_time": "2021-07-30T13:51:37.522Z"
   },
   {
    "duration": 8,
    "start_time": "2021-07-30T13:51:37.899Z"
   },
   {
    "duration": 17,
    "start_time": "2021-07-30T13:51:38.269Z"
   },
   {
    "duration": 8,
    "start_time": "2021-07-30T13:51:38.639Z"
   },
   {
    "duration": 7,
    "start_time": "2021-07-30T13:51:38.833Z"
   },
   {
    "duration": 30,
    "start_time": "2021-07-30T13:51:39.187Z"
   },
   {
    "duration": 35,
    "start_time": "2021-07-30T13:51:39.578Z"
   },
   {
    "duration": 13,
    "start_time": "2021-07-30T13:51:39.767Z"
   },
   {
    "duration": 8,
    "start_time": "2021-07-30T13:51:39.958Z"
   },
   {
    "duration": 14,
    "start_time": "2021-07-30T13:51:40.152Z"
   },
   {
    "duration": 79,
    "start_time": "2021-07-30T13:51:41.820Z"
   },
   {
    "duration": 9,
    "start_time": "2021-07-30T13:54:35.958Z"
   },
   {
    "duration": 4,
    "start_time": "2021-07-30T13:54:36.239Z"
   },
   {
    "duration": 5622,
    "start_time": "2021-07-30T13:54:36.640Z"
   },
   {
    "duration": 31,
    "start_time": "2021-07-30T13:57:11.571Z"
   },
   {
    "duration": 749,
    "start_time": "2021-07-30T13:57:19.637Z"
   },
   {
    "duration": 935,
    "start_time": "2021-07-30T13:58:35.590Z"
   },
   {
    "duration": 1124,
    "start_time": "2021-07-30T13:59:08.909Z"
   },
   {
    "duration": 4681,
    "start_time": "2021-07-30T14:04:47.781Z"
   },
   {
    "duration": 4982,
    "start_time": "2021-07-30T14:05:09.298Z"
   },
   {
    "duration": 5867,
    "start_time": "2021-07-30T14:05:30.009Z"
   },
   {
    "duration": 3428,
    "start_time": "2021-07-30T14:12:44.413Z"
   },
   {
    "duration": 1570,
    "start_time": "2021-07-30T14:12:47.844Z"
   },
   {
    "duration": 99,
    "start_time": "2021-07-30T14:12:49.417Z"
   },
   {
    "duration": 28,
    "start_time": "2021-07-30T14:12:49.519Z"
   },
   {
    "duration": 24,
    "start_time": "2021-07-30T14:12:49.550Z"
   },
   {
    "duration": 20,
    "start_time": "2021-07-30T14:12:49.576Z"
   },
   {
    "duration": 16,
    "start_time": "2021-07-30T14:12:49.598Z"
   },
   {
    "duration": 86,
    "start_time": "2021-07-30T14:12:49.616Z"
   },
   {
    "duration": 28,
    "start_time": "2021-07-30T14:12:49.706Z"
   },
   {
    "duration": 45,
    "start_time": "2021-07-30T14:12:49.737Z"
   },
   {
    "duration": 18,
    "start_time": "2021-07-30T14:12:49.784Z"
   },
   {
    "duration": 5,
    "start_time": "2021-07-30T14:12:49.804Z"
   },
   {
    "duration": 63,
    "start_time": "2021-07-30T14:12:49.812Z"
   },
   {
    "duration": 6,
    "start_time": "2021-07-30T14:12:49.877Z"
   },
   {
    "duration": 28,
    "start_time": "2021-07-30T14:12:49.886Z"
   },
   {
    "duration": 7,
    "start_time": "2021-07-30T14:12:49.916Z"
   },
   {
    "duration": 12,
    "start_time": "2021-07-30T14:12:49.925Z"
   },
   {
    "duration": 43,
    "start_time": "2021-07-30T14:12:49.939Z"
   },
   {
    "duration": 34,
    "start_time": "2021-07-30T14:12:49.984Z"
   },
   {
    "duration": 21,
    "start_time": "2021-07-30T14:12:50.021Z"
   },
   {
    "duration": 7,
    "start_time": "2021-07-30T14:12:50.061Z"
   },
   {
    "duration": 19,
    "start_time": "2021-07-30T14:12:50.071Z"
   },
   {
    "duration": 98,
    "start_time": "2021-07-30T14:12:50.093Z"
   },
   {
    "duration": 822,
    "start_time": "2021-07-30T14:12:50.194Z"
   },
   {
    "duration": 3639,
    "start_time": "2021-07-30T14:12:51.018Z"
   },
   {
    "duration": 8,
    "start_time": "2021-07-30T14:12:54.659Z"
   },
   {
    "duration": 13,
    "start_time": "2021-07-30T14:12:54.671Z"
   },
   {
    "duration": 5623,
    "start_time": "2021-07-30T14:12:54.686Z"
   },
   {
    "duration": 4,
    "start_time": "2021-07-30T14:13:00.312Z"
   },
   {
    "duration": 2674,
    "start_time": "2021-07-30T14:13:00.319Z"
   },
   {
    "duration": 3378,
    "start_time": "2021-07-30T14:13:02.996Z"
   },
   {
    "duration": 49573,
    "start_time": "2021-07-30T14:13:06.376Z"
   },
   {
    "duration": 100,
    "start_time": "2021-07-31T10:45:00.529Z"
   },
   {
    "duration": 3251,
    "start_time": "2021-08-03T17:23:49.993Z"
   },
   {
    "duration": 1411,
    "start_time": "2021-08-03T17:24:01.387Z"
   },
   {
    "duration": 481,
    "start_time": "2021-08-03T17:24:02.319Z"
   },
   {
    "duration": 228,
    "start_time": "2021-08-03T17:24:03.489Z"
   },
   {
    "duration": 84,
    "start_time": "2021-08-03T17:24:06.279Z"
   },
   {
    "duration": 229,
    "start_time": "2021-08-03T17:24:13.649Z"
   },
   {
    "duration": 2301,
    "start_time": "2021-08-03T17:24:19.767Z"
   },
   {
    "duration": 84,
    "start_time": "2021-08-03T17:24:23.608Z"
   },
   {
    "duration": 125,
    "start_time": "2021-08-03T17:24:23.922Z"
   },
   {
    "duration": 14,
    "start_time": "2021-08-03T17:24:24.358Z"
   },
   {
    "duration": 16,
    "start_time": "2021-08-03T17:24:24.552Z"
   },
   {
    "duration": 10,
    "start_time": "2021-08-03T17:24:24.752Z"
   },
   {
    "duration": 24,
    "start_time": "2021-08-03T17:24:25.359Z"
   },
   {
    "duration": 16,
    "start_time": "2021-08-03T17:24:25.849Z"
   },
   {
    "duration": 13,
    "start_time": "2021-08-03T17:24:26.022Z"
   },
   {
    "duration": 10,
    "start_time": "2021-08-03T17:24:26.417Z"
   },
   {
    "duration": 18,
    "start_time": "2021-08-03T17:24:26.789Z"
   },
   {
    "duration": 6,
    "start_time": "2021-08-03T17:24:27.168Z"
   },
   {
    "duration": 4,
    "start_time": "2021-08-03T17:24:27.352Z"
   },
   {
    "duration": 12,
    "start_time": "2021-08-03T17:24:27.718Z"
   },
   {
    "duration": 4,
    "start_time": "2021-08-03T17:24:28.106Z"
   },
   {
    "duration": 19,
    "start_time": "2021-08-03T17:24:28.271Z"
   },
   {
    "duration": 6,
    "start_time": "2021-08-03T17:24:28.719Z"
   },
   {
    "duration": 17,
    "start_time": "2021-08-03T17:24:29.118Z"
   },
   {
    "duration": 21,
    "start_time": "2021-08-03T17:24:29.468Z"
   },
   {
    "duration": 9,
    "start_time": "2021-08-03T17:24:29.651Z"
   },
   {
    "duration": 6,
    "start_time": "2021-08-03T17:24:29.831Z"
   },
   {
    "duration": 12,
    "start_time": "2021-08-03T17:24:30.022Z"
   },
   {
    "duration": 10,
    "start_time": "2021-08-03T17:24:30.211Z"
   },
   {
    "duration": 46,
    "start_time": "2021-08-03T17:24:30.598Z"
   },
   {
    "duration": 16,
    "start_time": "2021-08-03T17:27:09.646Z"
   },
   {
    "duration": 9,
    "start_time": "2021-08-03T17:27:10.379Z"
   },
   {
    "duration": 14,
    "start_time": "2021-08-03T17:27:29.767Z"
   },
   {
    "duration": 6682,
    "start_time": "2021-08-03T17:27:29.967Z"
   },
   {
    "duration": 610,
    "start_time": "2021-08-03T17:27:36.651Z"
   },
   {
    "duration": 499,
    "start_time": "2021-08-03T17:27:38.992Z"
   },
   {
    "duration": 3,
    "start_time": "2021-08-03T17:27:43.271Z"
   },
   {
    "duration": 16,
    "start_time": "2021-08-03T17:27:43.719Z"
   },
   {
    "duration": 5,
    "start_time": "2021-08-03T17:28:39.502Z"
   },
   {
    "duration": 2244,
    "start_time": "2021-08-03T17:29:10.912Z"
   },
   {
    "duration": 4,
    "start_time": "2021-08-03T17:33:26.620Z"
   },
   {
    "duration": 2445,
    "start_time": "2021-08-03T17:33:28.168Z"
   },
   {
    "duration": 9,
    "start_time": "2021-08-03T17:34:23.963Z"
   },
   {
    "duration": 13,
    "start_time": "2021-08-03T17:34:26.710Z"
   },
   {
    "duration": 233986,
    "start_time": "2021-08-03T17:36:09.140Z"
   },
   {
    "duration": 5,
    "start_time": "2021-08-03T17:40:03.128Z"
   },
   {
    "duration": 360,
    "start_time": "2021-08-03T17:40:03.134Z"
   },
   {
    "duration": 26,
    "start_time": "2021-08-03T17:40:15.296Z"
   },
   {
    "duration": 251309,
    "start_time": "2021-08-03T17:47:16.813Z"
   },
   {
    "duration": 14,
    "start_time": "2021-08-03T17:51:30.739Z"
   },
   {
    "duration": 25,
    "start_time": "2021-08-03T17:51:56.130Z"
   },
   {
    "duration": 4,
    "start_time": "2021-08-03T17:52:02.332Z"
   },
   {
    "duration": 2447,
    "start_time": "2021-08-03T17:52:04.703Z"
   },
   {
    "duration": 8,
    "start_time": "2021-08-03T17:52:19.750Z"
   },
   {
    "duration": 12,
    "start_time": "2021-08-03T17:52:20.910Z"
   },
   {
    "duration": 429,
    "start_time": "2021-08-03T17:52:33.749Z"
   },
   {
    "duration": 4,
    "start_time": "2021-08-03T17:52:35.680Z"
   },
   {
    "duration": 84872,
    "start_time": "2021-08-03T17:52:47.180Z"
   },
   {
    "duration": 13,
    "start_time": "2021-08-03T17:54:12.054Z"
   },
   {
    "duration": 17,
    "start_time": "2021-08-03T17:54:26.000Z"
   },
   {
    "duration": 5,
    "start_time": "2021-08-03T17:54:39.943Z"
   },
   {
    "duration": 8,
    "start_time": "2021-08-03T17:54:44.268Z"
   },
   {
    "duration": 13,
    "start_time": "2021-08-03T17:54:44.473Z"
   },
   {
    "duration": 81518,
    "start_time": "2021-08-03T17:54:45.232Z"
   },
   {
    "duration": 13,
    "start_time": "2021-08-03T17:56:06.752Z"
   },
   {
    "duration": 30,
    "start_time": "2021-08-03T17:56:06.766Z"
   },
   {
    "duration": 3,
    "start_time": "2021-08-03T17:56:06.797Z"
   },
   {
    "duration": 7,
    "start_time": "2021-08-03T17:56:37.699Z"
   },
   {
    "duration": 3,
    "start_time": "2021-08-03T17:56:38.038Z"
   },
   {
    "duration": 5,
    "start_time": "2021-08-03T17:56:38.314Z"
   },
   {
    "duration": 5,
    "start_time": "2021-08-03T17:56:38.651Z"
   },
   {
    "duration": 5,
    "start_time": "2021-08-03T17:56:39.149Z"
   },
   {
    "duration": 173,
    "start_time": "2021-08-03T17:56:39.570Z"
   },
   {
    "duration": 58625,
    "start_time": "2021-08-03T17:56:40.009Z"
   },
   {
    "duration": 279,
    "start_time": "2021-08-03T17:57:38.636Z"
   },
   {
    "duration": 328,
    "start_time": "2021-08-03T17:57:38.589Z"
   },
   {
    "duration": 327,
    "start_time": "2021-08-03T17:57:38.591Z"
   },
   {
    "duration": 326,
    "start_time": "2021-08-03T17:57:38.593Z"
   },
   {
    "duration": 342,
    "start_time": "2021-08-03T17:58:02.902Z"
   },
   {
    "duration": 343,
    "start_time": "2021-08-03T17:58:04.772Z"
   },
   {
    "duration": 99,
    "start_time": "2021-08-03T17:58:06.508Z"
   },
   {
    "duration": 6,
    "start_time": "2021-08-03T17:58:07.262Z"
   },
   {
    "duration": 7,
    "start_time": "2021-08-03T17:59:19.530Z"
   },
   {
    "duration": 88,
    "start_time": "2021-08-03T17:59:19.852Z"
   },
   {
    "duration": 15,
    "start_time": "2021-08-03T17:59:20.043Z"
   },
   {
    "duration": 23,
    "start_time": "2021-08-03T17:59:20.188Z"
   },
   {
    "duration": 14,
    "start_time": "2021-08-03T17:59:20.343Z"
   },
   {
    "duration": 15,
    "start_time": "2021-08-03T17:59:20.493Z"
   },
   {
    "duration": 31,
    "start_time": "2021-08-03T17:59:20.783Z"
   },
   {
    "duration": 17,
    "start_time": "2021-08-03T17:59:20.913Z"
   },
   {
    "duration": 13,
    "start_time": "2021-08-03T17:59:21.043Z"
   },
   {
    "duration": 11,
    "start_time": "2021-08-03T17:59:21.312Z"
   },
   {
    "duration": 26,
    "start_time": "2021-08-03T17:59:21.583Z"
   },
   {
    "duration": 6,
    "start_time": "2021-08-03T17:59:21.848Z"
   },
   {
    "duration": 10,
    "start_time": "2021-08-03T17:59:21.988Z"
   },
   {
    "duration": 12,
    "start_time": "2021-08-03T17:59:22.263Z"
   },
   {
    "duration": 5,
    "start_time": "2021-08-03T17:59:22.568Z"
   },
   {
    "duration": 20,
    "start_time": "2021-08-03T17:59:22.711Z"
   },
   {
    "duration": 7,
    "start_time": "2021-08-03T17:59:22.999Z"
   },
   {
    "duration": 20,
    "start_time": "2021-08-03T17:59:23.279Z"
   },
   {
    "duration": 22,
    "start_time": "2021-08-03T17:59:23.553Z"
   },
   {
    "duration": 8,
    "start_time": "2021-08-03T17:59:23.708Z"
   },
   {
    "duration": 5,
    "start_time": "2021-08-03T17:59:23.841Z"
   },
   {
    "duration": 5,
    "start_time": "2021-08-03T17:59:23.988Z"
   },
   {
    "duration": 10,
    "start_time": "2021-08-03T17:59:24.143Z"
   },
   {
    "duration": 45,
    "start_time": "2021-08-03T17:59:25.535Z"
   },
   {
    "duration": 553,
    "start_time": "2021-08-03T17:59:25.582Z"
   },
   {
    "duration": 3286,
    "start_time": "2021-08-03T17:59:26.138Z"
   },
   {
    "duration": 5,
    "start_time": "2021-08-03T17:59:29.426Z"
   },
   {
    "duration": 7,
    "start_time": "2021-08-03T17:59:29.433Z"
   },
   {
    "duration": 3918,
    "start_time": "2021-08-03T17:59:29.441Z"
   },
   {
    "duration": 2,
    "start_time": "2021-08-03T17:59:33.362Z"
   },
   {
    "duration": 1157,
    "start_time": "2021-08-03T17:59:33.367Z"
   },
   {
    "duration": 17,
    "start_time": "2021-08-03T17:59:34.527Z"
   },
   {
    "duration": 2,
    "start_time": "2021-08-03T17:59:34.546Z"
   },
   {
    "duration": 4886,
    "start_time": "2021-08-03T17:59:34.550Z"
   },
   {
    "duration": 364,
    "start_time": "2021-08-03T17:59:39.438Z"
   },
   {
    "duration": 3,
    "start_time": "2021-08-03T17:59:39.805Z"
   },
   {
    "duration": 81,
    "start_time": "2021-08-03T17:59:39.811Z"
   },
   {
    "duration": 2105,
    "start_time": "2021-08-03T17:59:39.895Z"
   },
   {
    "duration": 6,
    "start_time": "2021-08-03T17:59:42.002Z"
   },
   {
    "duration": 2618,
    "start_time": "2021-08-03T17:59:42.011Z"
   },
   {
    "duration": 8,
    "start_time": "2021-08-03T17:59:44.631Z"
   },
   {
    "duration": 11,
    "start_time": "2021-08-03T17:59:44.640Z"
   },
   {
    "duration": 85385,
    "start_time": "2021-08-03T17:59:46.352Z"
   },
   {
    "duration": 13,
    "start_time": "2021-08-03T18:01:11.739Z"
   },
   {
    "duration": 18,
    "start_time": "2021-08-03T18:01:11.754Z"
   },
   {
    "duration": 20,
    "start_time": "2021-08-03T18:01:11.773Z"
   },
   {
    "duration": 5,
    "start_time": "2021-08-03T18:01:11.795Z"
   },
   {
    "duration": 8,
    "start_time": "2021-08-03T18:01:11.802Z"
   },
   {
    "duration": 6,
    "start_time": "2021-08-03T18:01:11.812Z"
   },
   {
    "duration": 7,
    "start_time": "2021-08-03T18:01:11.820Z"
   },
   {
    "duration": 8,
    "start_time": "2021-08-03T18:01:11.829Z"
   },
   {
    "duration": 171,
    "start_time": "2021-08-03T18:01:11.839Z"
   },
   {
    "duration": 58823,
    "start_time": "2021-08-03T18:01:12.012Z"
   },
   {
    "duration": 292,
    "start_time": "2021-08-03T18:02:10.836Z"
   },
   {
    "duration": 276,
    "start_time": "2021-08-03T18:02:11.130Z"
   },
   {
    "duration": 111,
    "start_time": "2021-08-03T18:02:11.409Z"
   },
   {
    "duration": 5,
    "start_time": "2021-08-03T18:02:11.522Z"
   },
   {
    "duration": 247,
    "start_time": "2021-08-03T18:11:07.552Z"
   },
   {
    "duration": 3,
    "start_time": "2021-08-03T18:11:56.189Z"
   },
   {
    "duration": 382,
    "start_time": "2021-08-03T18:11:57.988Z"
   },
   {
    "duration": 13501,
    "start_time": "2021-08-03T18:12:31.560Z"
   },
   {
    "duration": 6826,
    "start_time": "2021-08-03T18:13:15.343Z"
   },
   {
    "duration": 5130,
    "start_time": "2021-08-03T18:13:22.171Z"
   },
   {
    "duration": 84,
    "start_time": "2021-08-03T18:13:27.305Z"
   },
   {
    "duration": 24,
    "start_time": "2021-08-03T18:13:27.396Z"
   },
   {
    "duration": 13,
    "start_time": "2021-08-03T18:13:27.421Z"
   },
   {
    "duration": 11,
    "start_time": "2021-08-03T18:13:27.436Z"
   },
   {
    "duration": 9,
    "start_time": "2021-08-03T18:13:27.448Z"
   },
   {
    "duration": 64,
    "start_time": "2021-08-03T18:13:27.459Z"
   },
   {
    "duration": 16,
    "start_time": "2021-08-03T18:13:27.525Z"
   },
   {
    "duration": 16,
    "start_time": "2021-08-03T18:13:27.543Z"
   },
   {
    "duration": 8,
    "start_time": "2021-08-03T18:13:27.561Z"
   },
   {
    "duration": 42,
    "start_time": "2021-08-03T18:13:27.571Z"
   },
   {
    "duration": 5,
    "start_time": "2021-08-03T18:13:27.615Z"
   },
   {
    "duration": 4,
    "start_time": "2021-08-03T18:13:27.622Z"
   },
   {
    "duration": 11,
    "start_time": "2021-08-03T18:13:27.628Z"
   },
   {
    "duration": 4,
    "start_time": "2021-08-03T18:13:27.640Z"
   },
   {
    "duration": 19,
    "start_time": "2021-08-03T18:13:27.645Z"
   },
   {
    "duration": 31,
    "start_time": "2021-08-03T18:13:27.666Z"
   },
   {
    "duration": 26,
    "start_time": "2021-08-03T18:13:27.700Z"
   },
   {
    "duration": 24,
    "start_time": "2021-08-03T18:13:27.727Z"
   },
   {
    "duration": 11,
    "start_time": "2021-08-03T18:13:27.752Z"
   },
   {
    "duration": 5,
    "start_time": "2021-08-03T18:13:27.764Z"
   },
   {
    "duration": 25,
    "start_time": "2021-08-03T18:13:27.772Z"
   },
   {
    "duration": 10,
    "start_time": "2021-08-03T18:13:27.801Z"
   },
   {
    "duration": 44,
    "start_time": "2021-08-03T18:13:27.813Z"
   },
   {
    "duration": 545,
    "start_time": "2021-08-03T18:13:27.859Z"
   },
   {
    "duration": 3094,
    "start_time": "2021-08-03T18:13:28.406Z"
   },
   {
    "duration": 7,
    "start_time": "2021-08-03T18:13:31.502Z"
   },
   {
    "duration": 10,
    "start_time": "2021-08-03T18:13:31.511Z"
   },
   {
    "duration": 3782,
    "start_time": "2021-08-03T18:13:31.523Z"
   },
   {
    "duration": 2,
    "start_time": "2021-08-03T18:13:35.307Z"
   },
   {
    "duration": 1132,
    "start_time": "2021-08-03T18:13:35.311Z"
   },
   {
    "duration": 16,
    "start_time": "2021-08-03T18:13:36.444Z"
   },
   {
    "duration": 15,
    "start_time": "2021-08-03T18:13:36.461Z"
   },
   {
    "duration": 5942,
    "start_time": "2021-08-03T18:13:36.477Z"
   },
   {
    "duration": 373,
    "start_time": "2021-08-03T18:13:42.420Z"
   },
   {
    "duration": 4,
    "start_time": "2021-08-03T18:13:42.796Z"
   },
   {
    "duration": 10,
    "start_time": "2021-08-03T18:13:42.803Z"
   },
   {
    "duration": 2073,
    "start_time": "2021-08-03T18:13:42.894Z"
   },
   {
    "duration": 5,
    "start_time": "2021-08-03T18:13:44.969Z"
   },
   {
    "duration": 2722,
    "start_time": "2021-08-03T18:13:44.976Z"
   },
   {
    "duration": 11,
    "start_time": "2021-08-03T18:13:47.701Z"
   },
   {
    "duration": 11,
    "start_time": "2021-08-03T18:13:47.714Z"
   },
   {
    "duration": 982966,
    "start_time": "2021-08-03T18:13:47.726Z"
   },
   {
    "duration": 17,
    "start_time": "2021-08-03T18:30:10.695Z"
   },
   {
    "duration": 79,
    "start_time": "2021-08-03T18:30:10.714Z"
   },
   {
    "duration": 10,
    "start_time": "2021-08-03T18:30:10.795Z"
   },
   {
    "duration": 4,
    "start_time": "2021-08-03T18:30:10.807Z"
   },
   {
    "duration": 5,
    "start_time": "2021-08-03T18:30:10.812Z"
   },
   {
    "duration": 6,
    "start_time": "2021-08-03T18:30:10.818Z"
   },
   {
    "duration": 5,
    "start_time": "2021-08-03T18:30:10.826Z"
   },
   {
    "duration": 5,
    "start_time": "2021-08-03T18:30:10.832Z"
   },
   {
    "duration": 213,
    "start_time": "2021-08-03T18:30:10.838Z"
   },
   {
    "duration": 59564,
    "start_time": "2021-08-03T18:30:11.052Z"
   },
   {
    "duration": 252,
    "start_time": "2021-08-03T18:31:10.617Z"
   },
   {
    "duration": 261,
    "start_time": "2021-08-03T18:31:10.870Z"
   },
   {
    "duration": 105,
    "start_time": "2021-08-03T18:31:11.132Z"
   },
   {
    "duration": 6,
    "start_time": "2021-08-03T18:31:11.238Z"
   },
   {
    "duration": 11,
    "start_time": "2021-08-03T18:33:52.701Z"
   },
   {
    "duration": 5,
    "start_time": "2021-08-03T18:33:54.761Z"
   },
   {
    "duration": 546,
    "start_time": "2021-08-03T18:34:30.960Z"
   },
   {
    "duration": 3,
    "start_time": "2021-08-03T18:34:46.281Z"
   },
   {
    "duration": 10518,
    "start_time": "2021-08-03T18:35:02.931Z"
   },
   {
    "duration": 24,
    "start_time": "2021-08-03T18:35:48.293Z"
   },
   {
    "duration": 7,
    "start_time": "2021-08-03T18:35:55.920Z"
   },
   {
    "duration": 435279,
    "start_time": "2021-08-03T18:41:54.444Z"
   },
   {
    "duration": 6,
    "start_time": "2021-08-03T18:49:14.331Z"
   },
   {
    "duration": 20,
    "start_time": "2021-08-03T18:49:15.689Z"
   },
   {
    "duration": 23,
    "start_time": "2021-08-03T18:49:33.700Z"
   },
   {
    "duration": 4,
    "start_time": "2021-08-03T18:49:44.707Z"
   },
   {
    "duration": 3,
    "start_time": "2021-08-03T18:49:44.909Z"
   },
   {
    "duration": 4,
    "start_time": "2021-08-03T18:49:45.113Z"
   },
   {
    "duration": 4,
    "start_time": "2021-08-03T18:49:45.323Z"
   },
   {
    "duration": 5,
    "start_time": "2021-08-03T18:49:45.522Z"
   },
   {
    "duration": 178,
    "start_time": "2021-08-03T18:49:45.719Z"
   },
   {
    "duration": 61092,
    "start_time": "2021-08-03T18:49:45.900Z"
   },
   {
    "duration": 252,
    "start_time": "2021-08-03T18:50:46.995Z"
   },
   {
    "duration": 257,
    "start_time": "2021-08-03T18:50:47.249Z"
   },
   {
    "duration": 104,
    "start_time": "2021-08-03T18:50:47.508Z"
   },
   {
    "duration": 5,
    "start_time": "2021-08-03T18:50:47.614Z"
   },
   {
    "duration": 259,
    "start_time": "2021-08-03T18:51:03.553Z"
   },
   {
    "duration": 20,
    "start_time": "2021-08-03T18:51:07.574Z"
   },
   {
    "duration": 20,
    "start_time": "2021-08-03T18:51:20.191Z"
   },
   {
    "duration": 6,
    "start_time": "2021-08-03T18:51:26.920Z"
   },
   {
    "duration": 21941,
    "start_time": "2021-08-04T07:23:06.926Z"
   },
   {
    "duration": 6876,
    "start_time": "2021-08-04T07:23:46.551Z"
   },
   {
    "duration": 12186,
    "start_time": "2021-08-04T07:24:49.769Z"
   },
   {
    "duration": 3780,
    "start_time": "2021-08-04T07:26:02.811Z"
   },
   {
    "duration": 7,
    "start_time": "2021-08-04T07:26:18.466Z"
   },
   {
    "duration": 22321,
    "start_time": "2021-08-04T07:26:42.006Z"
   },
   {
    "duration": 4679,
    "start_time": "2021-08-04T07:34:43.351Z"
   },
   {
    "duration": 93,
    "start_time": "2021-08-04T07:34:48.445Z"
   },
   {
    "duration": 26,
    "start_time": "2021-08-04T07:34:50.900Z"
   },
   {
    "duration": 19,
    "start_time": "2021-08-04T07:34:52.390Z"
   },
   {
    "duration": 16,
    "start_time": "2021-08-04T07:34:52.591Z"
   },
   {
    "duration": 13,
    "start_time": "2021-08-04T07:34:52.798Z"
   },
   {
    "duration": 25,
    "start_time": "2021-08-04T07:34:53.261Z"
   },
   {
    "duration": 16,
    "start_time": "2021-08-04T07:34:53.511Z"
   },
   {
    "duration": 23,
    "start_time": "2021-08-04T07:34:53.746Z"
   },
   {
    "duration": 8,
    "start_time": "2021-08-04T07:34:54.291Z"
   },
   {
    "duration": 20,
    "start_time": "2021-08-04T07:34:54.685Z"
   },
   {
    "duration": 5,
    "start_time": "2021-08-04T07:34:55.076Z"
   },
   {
    "duration": 6,
    "start_time": "2021-08-04T07:34:55.259Z"
   },
   {
    "duration": 11,
    "start_time": "2021-08-04T07:34:55.925Z"
   },
   {
    "duration": 3,
    "start_time": "2021-08-04T07:34:57.036Z"
   },
   {
    "duration": 24,
    "start_time": "2021-08-04T07:34:57.242Z"
   },
   {
    "duration": 6,
    "start_time": "2021-08-04T07:34:58.333Z"
   },
   {
    "duration": 20,
    "start_time": "2021-08-04T07:34:58.686Z"
   },
   {
    "duration": 20,
    "start_time": "2021-08-04T07:34:59.206Z"
   },
   {
    "duration": 9,
    "start_time": "2021-08-04T07:34:59.396Z"
   },
   {
    "duration": 6,
    "start_time": "2021-08-04T07:35:01.336Z"
   },
   {
    "duration": 23,
    "start_time": "2021-08-04T07:35:01.345Z"
   },
   {
    "duration": 23,
    "start_time": "2021-08-04T07:35:01.370Z"
   },
   {
    "duration": 55,
    "start_time": "2021-08-04T07:35:01.395Z"
   },
   {
    "duration": 540,
    "start_time": "2021-08-04T07:35:03.241Z"
   },
   {
    "duration": 3284,
    "start_time": "2021-08-04T07:35:07.560Z"
   },
   {
    "duration": 9,
    "start_time": "2021-08-04T07:35:10.846Z"
   },
   {
    "duration": 10,
    "start_time": "2021-08-04T07:35:10.857Z"
   },
   {
    "duration": 3860,
    "start_time": "2021-08-04T07:35:10.869Z"
   },
   {
    "duration": 10,
    "start_time": "2021-08-04T07:35:14.731Z"
   },
   {
    "duration": 1111,
    "start_time": "2021-08-04T07:35:14.743Z"
   },
   {
    "duration": 14,
    "start_time": "2021-08-04T07:35:15.856Z"
   },
   {
    "duration": 21,
    "start_time": "2021-08-04T07:35:15.872Z"
   },
   {
    "duration": 1106,
    "start_time": "2021-08-04T07:35:15.895Z"
   },
   {
    "duration": 238,
    "start_time": "2021-08-04T07:35:17.003Z"
   },
   {
    "duration": 8,
    "start_time": "2021-08-04T07:35:17.244Z"
   },
   {
    "duration": 11,
    "start_time": "2021-08-04T07:35:17.255Z"
   },
   {
    "duration": 2413,
    "start_time": "2021-08-04T07:35:21.499Z"
   },
   {
    "duration": 5,
    "start_time": "2021-08-04T07:35:29.056Z"
   },
   {
    "duration": 1313,
    "start_time": "2021-08-04T07:35:52.290Z"
   },
   {
    "duration": 1216,
    "start_time": "2021-08-04T07:35:58.570Z"
   },
   {
    "duration": 3226,
    "start_time": "2021-08-04T07:36:29.668Z"
   },
   {
    "duration": 4,
    "start_time": "2021-08-04T07:37:54.903Z"
   },
   {
    "duration": 1143,
    "start_time": "2021-08-04T07:37:55.986Z"
   },
   {
    "duration": 4,
    "start_time": "2021-08-04T07:38:56.448Z"
   },
   {
    "duration": 888,
    "start_time": "2021-08-04T07:38:57.288Z"
   },
   {
    "duration": 4,
    "start_time": "2021-08-04T07:39:34.313Z"
   },
   {
    "duration": 973,
    "start_time": "2021-08-04T07:39:34.738Z"
   },
   {
    "duration": 2694,
    "start_time": "2021-08-04T07:39:48.633Z"
   },
   {
    "duration": 8,
    "start_time": "2021-08-04T07:40:01.878Z"
   },
   {
    "duration": 15,
    "start_time": "2021-08-04T07:40:03.343Z"
   },
   {
    "duration": 689803,
    "start_time": "2021-08-04T07:40:26.834Z"
   },
   {
    "duration": -1873,
    "start_time": "2021-08-04T07:51:58.512Z"
   },
   {
    "duration": -1930,
    "start_time": "2021-08-04T07:51:58.571Z"
   },
   {
    "duration": 292,
    "start_time": "2021-08-04T07:52:02.764Z"
   },
   {
    "duration": 283,
    "start_time": "2021-08-04T07:52:04.259Z"
   },
   {
    "duration": 1181596,
    "start_time": "2021-08-04T07:53:06.388Z"
   },
   {
    "duration": 67,
    "start_time": "2021-08-04T08:12:47.986Z"
   },
   {
    "duration": 12,
    "start_time": "2021-08-04T08:12:48.056Z"
   },
   {
    "duration": 17,
    "start_time": "2021-08-04T08:12:48.071Z"
   },
   {
    "duration": 70,
    "start_time": "2021-08-04T08:12:48.090Z"
   },
   {
    "duration": 4,
    "start_time": "2021-08-04T08:12:48.162Z"
   },
   {
    "duration": 291,
    "start_time": "2021-08-04T08:16:02.220Z"
   },
   {
    "duration": 275,
    "start_time": "2021-08-04T08:16:24.309Z"
   },
   {
    "duration": 276,
    "start_time": "2021-08-04T08:16:29.720Z"
   },
   {
    "duration": 23,
    "start_time": "2021-08-04T08:16:39.239Z"
   },
   {
    "duration": 272,
    "start_time": "2021-08-04T08:16:44.384Z"
   },
   {
    "duration": 7,
    "start_time": "2021-08-04T08:16:57.032Z"
   },
   {
    "duration": 237,
    "start_time": "2021-08-04T08:17:02.219Z"
   },
   {
    "duration": 12,
    "start_time": "2021-08-04T08:17:29.814Z"
   },
   {
    "duration": 278,
    "start_time": "2021-08-04T08:17:34.959Z"
   },
   {
    "duration": 287,
    "start_time": "2021-08-04T08:17:37.989Z"
   },
   {
    "duration": 252,
    "start_time": "2021-08-04T08:17:48.709Z"
   },
   {
    "duration": 238,
    "start_time": "2021-08-04T08:18:08.139Z"
   },
   {
    "duration": 19,
    "start_time": "2021-08-04T08:19:22.829Z"
   },
   {
    "duration": 77,
    "start_time": "2021-08-04T08:19:53.513Z"
   },
   {
    "duration": 9,
    "start_time": "2021-08-04T08:21:14.243Z"
   },
   {
    "duration": 81,
    "start_time": "2021-08-04T08:21:16.789Z"
   },
   {
    "duration": 7,
    "start_time": "2021-08-04T08:22:07.084Z"
   },
   {
    "duration": 18,
    "start_time": "2021-08-04T08:22:13.933Z"
   },
   {
    "duration": 5,
    "start_time": "2021-08-04T08:22:25.203Z"
   },
   {
    "duration": 5,
    "start_time": "2021-08-04T08:22:31.994Z"
   },
   {
    "duration": 11,
    "start_time": "2021-08-04T08:22:36.639Z"
   },
   {
    "duration": 21,
    "start_time": "2021-08-04T08:22:43.030Z"
   },
   {
    "duration": 15,
    "start_time": "2021-08-04T08:22:55.714Z"
   },
   {
    "duration": 17,
    "start_time": "2021-08-04T08:23:01.779Z"
   },
   {
    "duration": 15,
    "start_time": "2021-08-04T08:23:04.984Z"
   },
   {
    "duration": 14,
    "start_time": "2021-08-04T08:23:08.528Z"
   },
   {
    "duration": 24,
    "start_time": "2021-08-04T08:23:30.042Z"
   },
   {
    "duration": 12,
    "start_time": "2021-08-04T08:23:32.223Z"
   },
   {
    "duration": 341,
    "start_time": "2021-08-04T08:23:38.303Z"
   },
   {
    "duration": 97,
    "start_time": "2021-08-04T08:23:45.334Z"
   },
   {
    "duration": 284,
    "start_time": "2021-08-04T08:23:47.615Z"
   },
   {
    "duration": 18,
    "start_time": "2021-08-04T08:23:53.528Z"
   },
   {
    "duration": 14,
    "start_time": "2021-08-04T08:23:54.676Z"
   },
   {
    "duration": 20,
    "start_time": "2021-08-04T08:23:57.744Z"
   },
   {
    "duration": 15,
    "start_time": "2021-08-04T08:25:39.989Z"
   },
   {
    "duration": 14,
    "start_time": "2021-08-04T08:25:40.691Z"
   },
   {
    "duration": 271,
    "start_time": "2021-08-04T08:25:47.480Z"
   },
   {
    "duration": 91,
    "start_time": "2021-08-04T08:26:34.550Z"
   },
   {
    "duration": 257,
    "start_time": "2021-08-04T08:26:39.753Z"
   },
   {
    "duration": 271,
    "start_time": "2021-08-04T08:26:43.864Z"
   },
   {
    "duration": 86,
    "start_time": "2021-08-04T08:26:47.998Z"
   },
   {
    "duration": 284,
    "start_time": "2021-08-04T08:27:00.855Z"
   },
   {
    "duration": 268,
    "start_time": "2021-08-04T08:27:09.374Z"
   },
   {
    "duration": 257,
    "start_time": "2021-08-04T08:27:26.634Z"
   },
   {
    "duration": 4,
    "start_time": "2021-08-04T08:27:41.904Z"
   },
   {
    "duration": 33,
    "start_time": "2021-08-04T08:27:48.789Z"
   },
   {
    "duration": 283,
    "start_time": "2021-08-04T08:29:05.874Z"
   },
   {
    "duration": 16,
    "start_time": "2021-08-04T08:29:13.929Z"
   },
   {
    "duration": 33,
    "start_time": "2021-08-04T08:29:19.873Z"
   },
   {
    "duration": 297,
    "start_time": "2021-08-04T08:29:30.164Z"
   },
   {
    "duration": 13,
    "start_time": "2021-08-04T08:29:38.164Z"
   },
   {
    "duration": 32,
    "start_time": "2021-08-04T08:29:41.263Z"
   },
   {
    "duration": 14,
    "start_time": "2021-08-04T08:29:55.018Z"
   },
   {
    "duration": 32,
    "start_time": "2021-08-04T08:29:57.394Z"
   },
   {
    "duration": 4,
    "start_time": "2021-08-04T08:30:40.885Z"
   },
   {
    "duration": 253,
    "start_time": "2021-08-04T08:30:43.579Z"
   },
   {
    "duration": 288,
    "start_time": "2021-08-04T08:30:49.136Z"
   },
   {
    "duration": 15,
    "start_time": "2021-08-04T08:30:54.825Z"
   },
   {
    "duration": 34,
    "start_time": "2021-08-04T08:30:56.103Z"
   },
   {
    "duration": 276,
    "start_time": "2021-08-04T08:31:10.013Z"
   },
   {
    "duration": 276,
    "start_time": "2021-08-04T08:31:18.328Z"
   },
   {
    "duration": 279,
    "start_time": "2021-08-04T08:31:24.423Z"
   },
   {
    "duration": 14,
    "start_time": "2021-08-04T08:31:41.301Z"
   },
   {
    "duration": 15,
    "start_time": "2021-08-04T08:31:44.763Z"
   },
   {
    "duration": 19,
    "start_time": "2021-08-04T08:31:48.044Z"
   },
   {
    "duration": 18,
    "start_time": "2021-08-04T08:31:51.646Z"
   },
   {
    "duration": 6,
    "start_time": "2021-08-04T08:32:02.850Z"
   },
   {
    "duration": 255,
    "start_time": "2021-08-04T08:32:07.554Z"
   },
   {
    "duration": 35,
    "start_time": "2021-08-04T08:32:12.864Z"
   },
   {
    "duration": 14,
    "start_time": "2021-08-04T08:32:34.979Z"
   },
   {
    "duration": 11,
    "start_time": "2021-08-04T08:32:41.820Z"
   },
   {
    "duration": 12,
    "start_time": "2021-08-04T08:32:43.403Z"
   },
   {
    "duration": 4,
    "start_time": "2021-08-04T08:32:44.714Z"
   },
   {
    "duration": 225,
    "start_time": "2021-08-04T08:32:47.439Z"
   },
   {
    "duration": 5,
    "start_time": "2021-08-04T08:33:46.633Z"
   },
   {
    "duration": 7,
    "start_time": "2021-08-04T08:33:55.069Z"
   },
   {
    "duration": 12,
    "start_time": "2021-08-04T08:33:56.109Z"
   },
   {
    "duration": 1434,
    "start_time": "2021-08-04T12:22:56.223Z"
   },
   {
    "duration": 3021,
    "start_time": "2021-08-04T12:23:37.993Z"
   }
  ],
  "kernelspec": {
   "display_name": "Python 3 (ipykernel)",
   "language": "python",
   "name": "python3"
  },
  "language_info": {
   "codemirror_mode": {
    "name": "ipython",
    "version": 3
   },
   "file_extension": ".py",
   "mimetype": "text/x-python",
   "name": "python",
   "nbconvert_exporter": "python",
   "pygments_lexer": "ipython3",
   "version": "3.8.5"
  },
  "toc": {
   "base_numbering": 1,
   "nav_menu": {},
   "number_sections": true,
   "sideBar": true,
   "skip_h1_title": true,
   "title_cell": "Table of Contents",
   "title_sidebar": "Contents",
   "toc_cell": false,
   "toc_position": {},
   "toc_section_display": true,
   "toc_window_display": true
  }
 },
 "nbformat": 4,
 "nbformat_minor": 4
}
