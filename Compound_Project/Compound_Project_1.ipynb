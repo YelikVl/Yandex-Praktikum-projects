{
 "cells": [
  {
   "cell_type": "markdown",
   "id": "confirmed-transformation",
   "metadata": {},
   "source": [
    " <font size=\"5\">**Сборный проект**</font>"
   ]
  },
  {
   "cell_type": "markdown",
   "id": "naked-journey",
   "metadata": {},
   "source": [
    " <font size=\"5\">**Вводная**</font><br><br>\n",
    "Из открытых источников доступны исторические данные о продажах игр, оценки пользователей и экспертов, жанры и платформы (например, Xbox или PlayStation). Нам нужно выявить определяющие успешность игры закономерности. Это позволит сделать ставку на потенциально популярный продукт и спланировать рекламные кампании.<br>\n",
    "Перед нами данные до 2016 года. Представим, что сейчас декабрь 2016 г., и мы планируем кампанию на 2017-й. Нужно отработать принцип работы с данными. <br>\n",
    "В наборе данных попадается аббревиатура ESRB (Entertainment Software Rating Board) — это ассоциация, определяющая возрастной рейтинг компьютерных игр. ESRB оценивает игровой контент и присваивает ему подходящую возрастную категорию, например, «Для взрослых», «Для детей младшего возраста» или «Для подростков».\n",
    "<br><br>\n",
    "Описание данных<br>\n",
    "- Name — название игры<br>\n",
    "- Platform — платформа<br>\n",
    "- Year_of_Release — год выпуска<br>\n",
    "- Genre — жанр игры<br>\n",
    "- NA_sales — продажи в Северной Америке (миллионы проданных копий)<br>\n",
    "- EU_sales — продажи в Европе (миллионы проданных копий)<br>\n",
    "- JP_sales — продажи в Японии (миллионы проданных копий)<br>\n",
    "- Other_sales — продажи в других странах (миллионы проданных копий)<br>\n",
    "- Critic_Score — оценка критиков (максимум 100)<br>\n",
    "- User_Score — оценка пользователей (максимум 10)<br>\n",
    "- Rating — рейтинг от организации ESRB (англ. Entertainment Software Rating Board). Эта ассоциация определяет рейтинг компьютерных игр и присваивает им подходящую возрастную категорию.<br>\n",
    "<br>\n",
    "<br>\n",
    "- Данные за 2016 год являются неполными.<br>"
   ]
  },
  {
   "cell_type": "markdown",
   "id": "ambient-bleeding",
   "metadata": {},
   "source": [
    "Импортируем необходимые библиотеки"
   ]
  },
  {
   "cell_type": "code",
   "execution_count": 1,
   "id": "renewable-strength",
   "metadata": {},
   "outputs": [],
   "source": [
    "import pandas as pd\n",
    "import numpy as np\n",
    "import matplotlib.pyplot as plt\n",
    "import seaborn as sns\n",
    "import scipy.stats as st\n",
    "from IPython.display import display, HTML\n",
    "sns.set()"
   ]
  },
  {
   "cell_type": "markdown",
   "id": "advance-strike",
   "metadata": {},
   "source": [
    "# Загрузка и общая проверка исходного набора данных"
   ]
  },
  {
   "cell_type": "code",
   "execution_count": 2,
   "id": "otherwise-copyright",
   "metadata": {},
   "outputs": [],
   "source": [
    "raw_data = pd.read_csv('games.csv')"
   ]
  },
  {
   "cell_type": "code",
   "execution_count": 3,
   "id": "assumed-embassy",
   "metadata": {},
   "outputs": [
    {
     "data": {
      "text/html": [
       "<div>\n",
       "<style scoped>\n",
       "    .dataframe tbody tr th:only-of-type {\n",
       "        vertical-align: middle;\n",
       "    }\n",
       "\n",
       "    .dataframe tbody tr th {\n",
       "        vertical-align: top;\n",
       "    }\n",
       "\n",
       "    .dataframe thead th {\n",
       "        text-align: right;\n",
       "    }\n",
       "</style>\n",
       "<table border=\"1\" class=\"dataframe\">\n",
       "  <thead>\n",
       "    <tr style=\"text-align: right;\">\n",
       "      <th></th>\n",
       "      <th>Name</th>\n",
       "      <th>Platform</th>\n",
       "      <th>Year_of_Release</th>\n",
       "      <th>Genre</th>\n",
       "      <th>NA_sales</th>\n",
       "      <th>EU_sales</th>\n",
       "      <th>JP_sales</th>\n",
       "      <th>Other_sales</th>\n",
       "      <th>Critic_Score</th>\n",
       "      <th>User_Score</th>\n",
       "      <th>Rating</th>\n",
       "    </tr>\n",
       "  </thead>\n",
       "  <tbody>\n",
       "    <tr>\n",
       "      <th>0</th>\n",
       "      <td>Wii Sports</td>\n",
       "      <td>Wii</td>\n",
       "      <td>2006.0</td>\n",
       "      <td>Sports</td>\n",
       "      <td>41.36</td>\n",
       "      <td>28.96</td>\n",
       "      <td>3.77</td>\n",
       "      <td>8.45</td>\n",
       "      <td>76.0</td>\n",
       "      <td>8</td>\n",
       "      <td>E</td>\n",
       "    </tr>\n",
       "    <tr>\n",
       "      <th>1</th>\n",
       "      <td>Super Mario Bros.</td>\n",
       "      <td>NES</td>\n",
       "      <td>1985.0</td>\n",
       "      <td>Platform</td>\n",
       "      <td>29.08</td>\n",
       "      <td>3.58</td>\n",
       "      <td>6.81</td>\n",
       "      <td>0.77</td>\n",
       "      <td>NaN</td>\n",
       "      <td>NaN</td>\n",
       "      <td>NaN</td>\n",
       "    </tr>\n",
       "    <tr>\n",
       "      <th>2</th>\n",
       "      <td>Mario Kart Wii</td>\n",
       "      <td>Wii</td>\n",
       "      <td>2008.0</td>\n",
       "      <td>Racing</td>\n",
       "      <td>15.68</td>\n",
       "      <td>12.76</td>\n",
       "      <td>3.79</td>\n",
       "      <td>3.29</td>\n",
       "      <td>82.0</td>\n",
       "      <td>8.3</td>\n",
       "      <td>E</td>\n",
       "    </tr>\n",
       "    <tr>\n",
       "      <th>3</th>\n",
       "      <td>Wii Sports Resort</td>\n",
       "      <td>Wii</td>\n",
       "      <td>2009.0</td>\n",
       "      <td>Sports</td>\n",
       "      <td>15.61</td>\n",
       "      <td>10.93</td>\n",
       "      <td>3.28</td>\n",
       "      <td>2.95</td>\n",
       "      <td>80.0</td>\n",
       "      <td>8</td>\n",
       "      <td>E</td>\n",
       "    </tr>\n",
       "    <tr>\n",
       "      <th>4</th>\n",
       "      <td>Pokemon Red/Pokemon Blue</td>\n",
       "      <td>GB</td>\n",
       "      <td>1996.0</td>\n",
       "      <td>Role-Playing</td>\n",
       "      <td>11.27</td>\n",
       "      <td>8.89</td>\n",
       "      <td>10.22</td>\n",
       "      <td>1.00</td>\n",
       "      <td>NaN</td>\n",
       "      <td>NaN</td>\n",
       "      <td>NaN</td>\n",
       "    </tr>\n",
       "    <tr>\n",
       "      <th>5</th>\n",
       "      <td>Tetris</td>\n",
       "      <td>GB</td>\n",
       "      <td>1989.0</td>\n",
       "      <td>Puzzle</td>\n",
       "      <td>23.20</td>\n",
       "      <td>2.26</td>\n",
       "      <td>4.22</td>\n",
       "      <td>0.58</td>\n",
       "      <td>NaN</td>\n",
       "      <td>NaN</td>\n",
       "      <td>NaN</td>\n",
       "    </tr>\n",
       "    <tr>\n",
       "      <th>6</th>\n",
       "      <td>New Super Mario Bros.</td>\n",
       "      <td>DS</td>\n",
       "      <td>2006.0</td>\n",
       "      <td>Platform</td>\n",
       "      <td>11.28</td>\n",
       "      <td>9.14</td>\n",
       "      <td>6.50</td>\n",
       "      <td>2.88</td>\n",
       "      <td>89.0</td>\n",
       "      <td>8.5</td>\n",
       "      <td>E</td>\n",
       "    </tr>\n",
       "    <tr>\n",
       "      <th>7</th>\n",
       "      <td>Wii Play</td>\n",
       "      <td>Wii</td>\n",
       "      <td>2006.0</td>\n",
       "      <td>Misc</td>\n",
       "      <td>13.96</td>\n",
       "      <td>9.18</td>\n",
       "      <td>2.93</td>\n",
       "      <td>2.84</td>\n",
       "      <td>58.0</td>\n",
       "      <td>6.6</td>\n",
       "      <td>E</td>\n",
       "    </tr>\n",
       "    <tr>\n",
       "      <th>8</th>\n",
       "      <td>New Super Mario Bros. Wii</td>\n",
       "      <td>Wii</td>\n",
       "      <td>2009.0</td>\n",
       "      <td>Platform</td>\n",
       "      <td>14.44</td>\n",
       "      <td>6.94</td>\n",
       "      <td>4.70</td>\n",
       "      <td>2.24</td>\n",
       "      <td>87.0</td>\n",
       "      <td>8.4</td>\n",
       "      <td>E</td>\n",
       "    </tr>\n",
       "    <tr>\n",
       "      <th>9</th>\n",
       "      <td>Duck Hunt</td>\n",
       "      <td>NES</td>\n",
       "      <td>1984.0</td>\n",
       "      <td>Shooter</td>\n",
       "      <td>26.93</td>\n",
       "      <td>0.63</td>\n",
       "      <td>0.28</td>\n",
       "      <td>0.47</td>\n",
       "      <td>NaN</td>\n",
       "      <td>NaN</td>\n",
       "      <td>NaN</td>\n",
       "    </tr>\n",
       "  </tbody>\n",
       "</table>\n",
       "</div>"
      ],
      "text/plain": [
       "                        Name Platform  Year_of_Release         Genre  \\\n",
       "0                 Wii Sports      Wii           2006.0        Sports   \n",
       "1          Super Mario Bros.      NES           1985.0      Platform   \n",
       "2             Mario Kart Wii      Wii           2008.0        Racing   \n",
       "3          Wii Sports Resort      Wii           2009.0        Sports   \n",
       "4   Pokemon Red/Pokemon Blue       GB           1996.0  Role-Playing   \n",
       "5                     Tetris       GB           1989.0        Puzzle   \n",
       "6      New Super Mario Bros.       DS           2006.0      Platform   \n",
       "7                   Wii Play      Wii           2006.0          Misc   \n",
       "8  New Super Mario Bros. Wii      Wii           2009.0      Platform   \n",
       "9                  Duck Hunt      NES           1984.0       Shooter   \n",
       "\n",
       "   NA_sales  EU_sales  JP_sales  Other_sales  Critic_Score User_Score Rating  \n",
       "0     41.36     28.96      3.77         8.45          76.0          8      E  \n",
       "1     29.08      3.58      6.81         0.77           NaN        NaN    NaN  \n",
       "2     15.68     12.76      3.79         3.29          82.0        8.3      E  \n",
       "3     15.61     10.93      3.28         2.95          80.0          8      E  \n",
       "4     11.27      8.89     10.22         1.00           NaN        NaN    NaN  \n",
       "5     23.20      2.26      4.22         0.58           NaN        NaN    NaN  \n",
       "6     11.28      9.14      6.50         2.88          89.0        8.5      E  \n",
       "7     13.96      9.18      2.93         2.84          58.0        6.6      E  \n",
       "8     14.44      6.94      4.70         2.24          87.0        8.4      E  \n",
       "9     26.93      0.63      0.28         0.47           NaN        NaN    NaN  "
      ]
     },
     "execution_count": 3,
     "metadata": {},
     "output_type": "execute_result"
    }
   ],
   "source": [
    "raw_data.head(10)"
   ]
  },
  {
   "cell_type": "code",
   "execution_count": 4,
   "id": "ancient-microphone",
   "metadata": {},
   "outputs": [
    {
     "name": "stdout",
     "output_type": "stream",
     "text": [
      "<class 'pandas.core.frame.DataFrame'>\n",
      "RangeIndex: 16715 entries, 0 to 16714\n",
      "Data columns (total 11 columns):\n",
      " #   Column           Non-Null Count  Dtype  \n",
      "---  ------           --------------  -----  \n",
      " 0   Name             16713 non-null  object \n",
      " 1   Platform         16715 non-null  object \n",
      " 2   Year_of_Release  16446 non-null  float64\n",
      " 3   Genre            16713 non-null  object \n",
      " 4   NA_sales         16715 non-null  float64\n",
      " 5   EU_sales         16715 non-null  float64\n",
      " 6   JP_sales         16715 non-null  float64\n",
      " 7   Other_sales      16715 non-null  float64\n",
      " 8   Critic_Score     8137 non-null   float64\n",
      " 9   User_Score       10014 non-null  object \n",
      " 10  Rating           9949 non-null   object \n",
      "dtypes: float64(6), object(5)\n",
      "memory usage: 1.4+ MB\n"
     ]
    }
   ],
   "source": [
    "raw_data.info()"
   ]
  },
  {
   "cell_type": "code",
   "execution_count": 5,
   "id": "persistent-syria",
   "metadata": {},
   "outputs": [
    {
     "data": {
      "text/html": [
       "<div>\n",
       "<style scoped>\n",
       "    .dataframe tbody tr th:only-of-type {\n",
       "        vertical-align: middle;\n",
       "    }\n",
       "\n",
       "    .dataframe tbody tr th {\n",
       "        vertical-align: top;\n",
       "    }\n",
       "\n",
       "    .dataframe thead th {\n",
       "        text-align: right;\n",
       "    }\n",
       "</style>\n",
       "<table border=\"1\" class=\"dataframe\">\n",
       "  <thead>\n",
       "    <tr style=\"text-align: right;\">\n",
       "      <th></th>\n",
       "      <th>Year_of_Release</th>\n",
       "      <th>NA_sales</th>\n",
       "      <th>EU_sales</th>\n",
       "      <th>JP_sales</th>\n",
       "      <th>Other_sales</th>\n",
       "      <th>Critic_Score</th>\n",
       "    </tr>\n",
       "  </thead>\n",
       "  <tbody>\n",
       "    <tr>\n",
       "      <th>count</th>\n",
       "      <td>16446.000000</td>\n",
       "      <td>16715.000000</td>\n",
       "      <td>16715.000000</td>\n",
       "      <td>16715.000000</td>\n",
       "      <td>16715.000000</td>\n",
       "      <td>8137.000000</td>\n",
       "    </tr>\n",
       "    <tr>\n",
       "      <th>mean</th>\n",
       "      <td>2006.484616</td>\n",
       "      <td>0.263377</td>\n",
       "      <td>0.145060</td>\n",
       "      <td>0.077617</td>\n",
       "      <td>0.047342</td>\n",
       "      <td>68.967679</td>\n",
       "    </tr>\n",
       "    <tr>\n",
       "      <th>std</th>\n",
       "      <td>5.877050</td>\n",
       "      <td>0.813604</td>\n",
       "      <td>0.503339</td>\n",
       "      <td>0.308853</td>\n",
       "      <td>0.186731</td>\n",
       "      <td>13.938165</td>\n",
       "    </tr>\n",
       "    <tr>\n",
       "      <th>min</th>\n",
       "      <td>1980.000000</td>\n",
       "      <td>0.000000</td>\n",
       "      <td>0.000000</td>\n",
       "      <td>0.000000</td>\n",
       "      <td>0.000000</td>\n",
       "      <td>13.000000</td>\n",
       "    </tr>\n",
       "    <tr>\n",
       "      <th>25%</th>\n",
       "      <td>2003.000000</td>\n",
       "      <td>0.000000</td>\n",
       "      <td>0.000000</td>\n",
       "      <td>0.000000</td>\n",
       "      <td>0.000000</td>\n",
       "      <td>60.000000</td>\n",
       "    </tr>\n",
       "    <tr>\n",
       "      <th>50%</th>\n",
       "      <td>2007.000000</td>\n",
       "      <td>0.080000</td>\n",
       "      <td>0.020000</td>\n",
       "      <td>0.000000</td>\n",
       "      <td>0.010000</td>\n",
       "      <td>71.000000</td>\n",
       "    </tr>\n",
       "    <tr>\n",
       "      <th>75%</th>\n",
       "      <td>2010.000000</td>\n",
       "      <td>0.240000</td>\n",
       "      <td>0.110000</td>\n",
       "      <td>0.040000</td>\n",
       "      <td>0.030000</td>\n",
       "      <td>79.000000</td>\n",
       "    </tr>\n",
       "    <tr>\n",
       "      <th>max</th>\n",
       "      <td>2016.000000</td>\n",
       "      <td>41.360000</td>\n",
       "      <td>28.960000</td>\n",
       "      <td>10.220000</td>\n",
       "      <td>10.570000</td>\n",
       "      <td>98.000000</td>\n",
       "    </tr>\n",
       "  </tbody>\n",
       "</table>\n",
       "</div>"
      ],
      "text/plain": [
       "       Year_of_Release      NA_sales      EU_sales      JP_sales  \\\n",
       "count     16446.000000  16715.000000  16715.000000  16715.000000   \n",
       "mean       2006.484616      0.263377      0.145060      0.077617   \n",
       "std           5.877050      0.813604      0.503339      0.308853   \n",
       "min        1980.000000      0.000000      0.000000      0.000000   \n",
       "25%        2003.000000      0.000000      0.000000      0.000000   \n",
       "50%        2007.000000      0.080000      0.020000      0.000000   \n",
       "75%        2010.000000      0.240000      0.110000      0.040000   \n",
       "max        2016.000000     41.360000     28.960000     10.220000   \n",
       "\n",
       "        Other_sales  Critic_Score  \n",
       "count  16715.000000   8137.000000  \n",
       "mean       0.047342     68.967679  \n",
       "std        0.186731     13.938165  \n",
       "min        0.000000     13.000000  \n",
       "25%        0.000000     60.000000  \n",
       "50%        0.010000     71.000000  \n",
       "75%        0.030000     79.000000  \n",
       "max       10.570000     98.000000  "
      ]
     },
     "execution_count": 5,
     "metadata": {},
     "output_type": "execute_result"
    }
   ],
   "source": [
    "raw_data.describe()"
   ]
  },
  {
   "cell_type": "code",
   "execution_count": 6,
   "id": "specified-litigation",
   "metadata": {},
   "outputs": [
    {
     "data": {
      "text/plain": [
       "Platform              0\n",
       "NA_sales              0\n",
       "EU_sales              0\n",
       "JP_sales              0\n",
       "Other_sales           0\n",
       "Name                  2\n",
       "Genre                 2\n",
       "Year_of_Release     269\n",
       "User_Score         6701\n",
       "Rating             6766\n",
       "Critic_Score       8578\n",
       "dtype: int64"
      ]
     },
     "execution_count": 6,
     "metadata": {},
     "output_type": "execute_result"
    }
   ],
   "source": [
    "raw_data.isnull().sum().sort_values()"
   ]
  },
  {
   "cell_type": "markdown",
   "id": "favorite-width",
   "metadata": {},
   "source": [
    "### План действий по данным\n",
    "- Имена столбцов переведём в нижний регистр\n",
    "- Name — 2 пропуска, можно удалить<br>\n",
    "- Platform — пропусков нет, но могут быть дубликаты, переведём в нижний регистр<br>\n",
    "- Year_of_Release — нужно изучить пропуски подробнее, столбец переведём в тип int<br>\n",
    "- Genre — 2 пропуска, возможно можно заполнить вручную, переведём в нижний регистр<br>\n",
    "- NA_sales, EU_sales, JP_sales - пока оставим как есть<br>\n",
    "- Other_sales — пока оставим как есть<br>\n",
    "- Critic_Score — до широкого распространения интернета аггрегирование оценок не практиковалось, metacritic появился в 2001, для удобства заменим пропуски на -1<br>\n",
    "- User_Score — до широкого распространения интернета аггрегирование пользовательских оценок не практиковалось, заменим пропуски на -1, столбец приведём к типу float<br>\n",
    "- Rating — ESRB была основана в 1994, а данные с 1980. Большая часть пропусков скорее всего связана с этим. Заменим пропуски на None"
   ]
  },
  {
   "cell_type": "markdown",
   "id": "gorgeous-substance",
   "metadata": {},
   "source": [
    "# Предобработка данных"
   ]
  },
  {
   "cell_type": "markdown",
   "id": "devoted-tumor",
   "metadata": {},
   "source": [
    "переведём названия столбцов в нижний регистр"
   ]
  },
  {
   "cell_type": "code",
   "execution_count": 7,
   "id": "equipped-senator",
   "metadata": {},
   "outputs": [],
   "source": [
    "raw_data.columns = [x.lower() for x in raw_data.columns]"
   ]
  },
  {
   "cell_type": "markdown",
   "id": "dense-runner",
   "metadata": {},
   "source": [
    "посмотрим на пропуски столбца Name"
   ]
  },
  {
   "cell_type": "code",
   "execution_count": 8,
   "id": "breathing-smell",
   "metadata": {},
   "outputs": [
    {
     "data": {
      "text/html": [
       "<div>\n",
       "<style scoped>\n",
       "    .dataframe tbody tr th:only-of-type {\n",
       "        vertical-align: middle;\n",
       "    }\n",
       "\n",
       "    .dataframe tbody tr th {\n",
       "        vertical-align: top;\n",
       "    }\n",
       "\n",
       "    .dataframe thead th {\n",
       "        text-align: right;\n",
       "    }\n",
       "</style>\n",
       "<table border=\"1\" class=\"dataframe\">\n",
       "  <thead>\n",
       "    <tr style=\"text-align: right;\">\n",
       "      <th></th>\n",
       "      <th>name</th>\n",
       "      <th>platform</th>\n",
       "      <th>year_of_release</th>\n",
       "      <th>genre</th>\n",
       "      <th>na_sales</th>\n",
       "      <th>eu_sales</th>\n",
       "      <th>jp_sales</th>\n",
       "      <th>other_sales</th>\n",
       "      <th>critic_score</th>\n",
       "      <th>user_score</th>\n",
       "      <th>rating</th>\n",
       "    </tr>\n",
       "  </thead>\n",
       "  <tbody>\n",
       "    <tr>\n",
       "      <th>659</th>\n",
       "      <td>NaN</td>\n",
       "      <td>GEN</td>\n",
       "      <td>1993.0</td>\n",
       "      <td>NaN</td>\n",
       "      <td>1.78</td>\n",
       "      <td>0.53</td>\n",
       "      <td>0.00</td>\n",
       "      <td>0.08</td>\n",
       "      <td>NaN</td>\n",
       "      <td>NaN</td>\n",
       "      <td>NaN</td>\n",
       "    </tr>\n",
       "    <tr>\n",
       "      <th>14244</th>\n",
       "      <td>NaN</td>\n",
       "      <td>GEN</td>\n",
       "      <td>1993.0</td>\n",
       "      <td>NaN</td>\n",
       "      <td>0.00</td>\n",
       "      <td>0.00</td>\n",
       "      <td>0.03</td>\n",
       "      <td>0.00</td>\n",
       "      <td>NaN</td>\n",
       "      <td>NaN</td>\n",
       "      <td>NaN</td>\n",
       "    </tr>\n",
       "  </tbody>\n",
       "</table>\n",
       "</div>"
      ],
      "text/plain": [
       "      name platform  year_of_release genre  na_sales  eu_sales  jp_sales  \\\n",
       "659    NaN      GEN           1993.0   NaN      1.78      0.53      0.00   \n",
       "14244  NaN      GEN           1993.0   NaN      0.00      0.00      0.03   \n",
       "\n",
       "       other_sales  critic_score user_score rating  \n",
       "659           0.08           NaN        NaN    NaN  \n",
       "14244         0.00           NaN        NaN    NaN  "
      ]
     },
     "execution_count": 8,
     "metadata": {},
     "output_type": "execute_result"
    }
   ],
   "source": [
    "raw_data.loc[raw_data['name'].isna()]"
   ]
  },
  {
   "cell_type": "markdown",
   "id": "usual-bones",
   "metadata": {},
   "source": [
    "Два пропуска в name совпадают с двумя пропусками genre. известны только платформа, год выхода и продажи. Скорее всего GEN означает SEGA Genesis. Согласно информации в интернете, производство консоли было прекращено в 1999.<br> в 2016-2017 году интереса для нас эти данные не представляют и могут быть удалены"
   ]
  },
  {
   "cell_type": "code",
   "execution_count": 9,
   "id": "latin-debate",
   "metadata": {},
   "outputs": [],
   "source": [
    "raw_data=raw_data.dropna(subset = ['name'], axis=0)"
   ]
  },
  {
   "cell_type": "code",
   "execution_count": 10,
   "id": "certified-volunteer",
   "metadata": {},
   "outputs": [
    {
     "data": {
      "text/plain": [
       "array(['Wii', 'NES', 'GB', 'DS', 'X360', 'PS3', 'PS2', 'SNES', 'GBA',\n",
       "       'PS4', '3DS', 'N64', 'PS', 'XB', 'PC', '2600', 'PSP', 'XOne',\n",
       "       'WiiU', 'GC', 'GEN', 'DC', 'PSV', 'SAT', 'SCD', 'WS', 'NG', 'TG16',\n",
       "       '3DO', 'GG', 'PCFX'], dtype=object)"
      ]
     },
     "execution_count": 10,
     "metadata": {},
     "output_type": "execute_result"
    }
   ],
   "source": [
    "raw_data.platform.unique()"
   ]
  },
  {
   "cell_type": "code",
   "execution_count": 11,
   "id": "dutch-arabic",
   "metadata": {},
   "outputs": [],
   "source": [
    "raw_data['platform'] =raw_data['platform'].str.lower()"
   ]
  },
  {
   "cell_type": "code",
   "execution_count": 12,
   "id": "material-steal",
   "metadata": {},
   "outputs": [],
   "source": [
    "raw_data['genre'] =raw_data['genre'].str.lower()"
   ]
  },
  {
   "cell_type": "code",
   "execution_count": 13,
   "id": "romantic-prayer",
   "metadata": {},
   "outputs": [
    {
     "data": {
      "text/html": [
       "<div>\n",
       "<style scoped>\n",
       "    .dataframe tbody tr th:only-of-type {\n",
       "        vertical-align: middle;\n",
       "    }\n",
       "\n",
       "    .dataframe tbody tr th {\n",
       "        vertical-align: top;\n",
       "    }\n",
       "\n",
       "    .dataframe thead th {\n",
       "        text-align: right;\n",
       "    }\n",
       "</style>\n",
       "<table border=\"1\" class=\"dataframe\">\n",
       "  <thead>\n",
       "    <tr style=\"text-align: right;\">\n",
       "      <th></th>\n",
       "      <th>name</th>\n",
       "      <th>platform</th>\n",
       "      <th>year_of_release</th>\n",
       "      <th>genre</th>\n",
       "      <th>na_sales</th>\n",
       "      <th>eu_sales</th>\n",
       "      <th>jp_sales</th>\n",
       "      <th>other_sales</th>\n",
       "      <th>critic_score</th>\n",
       "      <th>user_score</th>\n",
       "      <th>rating</th>\n",
       "    </tr>\n",
       "  </thead>\n",
       "  <tbody>\n",
       "    <tr>\n",
       "      <th>16293</th>\n",
       "      <td>AKB1/48: Idol to Guam de Koishitara...</td>\n",
       "      <td>x360</td>\n",
       "      <td>NaN</td>\n",
       "      <td>misc</td>\n",
       "      <td>0.00</td>\n",
       "      <td>0.00</td>\n",
       "      <td>0.01</td>\n",
       "      <td>0.00</td>\n",
       "      <td>NaN</td>\n",
       "      <td>NaN</td>\n",
       "      <td>NaN</td>\n",
       "    </tr>\n",
       "    <tr>\n",
       "      <th>11092</th>\n",
       "      <td>Action Man-Operation Extreme</td>\n",
       "      <td>ps</td>\n",
       "      <td>NaN</td>\n",
       "      <td>action</td>\n",
       "      <td>0.05</td>\n",
       "      <td>0.03</td>\n",
       "      <td>0.00</td>\n",
       "      <td>0.01</td>\n",
       "      <td>NaN</td>\n",
       "      <td>NaN</td>\n",
       "      <td>NaN</td>\n",
       "    </tr>\n",
       "    <tr>\n",
       "      <th>3289</th>\n",
       "      <td>Advance Wars: Days of Ruin</td>\n",
       "      <td>ds</td>\n",
       "      <td>NaN</td>\n",
       "      <td>strategy</td>\n",
       "      <td>0.43</td>\n",
       "      <td>0.12</td>\n",
       "      <td>0.00</td>\n",
       "      <td>0.05</td>\n",
       "      <td>86.0</td>\n",
       "      <td>8.7</td>\n",
       "      <td>E10+</td>\n",
       "    </tr>\n",
       "    <tr>\n",
       "      <th>1506</th>\n",
       "      <td>Adventure</td>\n",
       "      <td>2600</td>\n",
       "      <td>NaN</td>\n",
       "      <td>adventure</td>\n",
       "      <td>1.21</td>\n",
       "      <td>0.08</td>\n",
       "      <td>0.00</td>\n",
       "      <td>0.01</td>\n",
       "      <td>NaN</td>\n",
       "      <td>NaN</td>\n",
       "      <td>NaN</td>\n",
       "    </tr>\n",
       "    <tr>\n",
       "      <th>16348</th>\n",
       "      <td>Agarest Senki: Re-appearance</td>\n",
       "      <td>ps3</td>\n",
       "      <td>NaN</td>\n",
       "      <td>role-playing</td>\n",
       "      <td>0.00</td>\n",
       "      <td>0.00</td>\n",
       "      <td>0.01</td>\n",
       "      <td>0.00</td>\n",
       "      <td>NaN</td>\n",
       "      <td>NaN</td>\n",
       "      <td>NaN</td>\n",
       "    </tr>\n",
       "    <tr>\n",
       "      <th>...</th>\n",
       "      <td>...</td>\n",
       "      <td>...</td>\n",
       "      <td>...</td>\n",
       "      <td>...</td>\n",
       "      <td>...</td>\n",
       "      <td>...</td>\n",
       "      <td>...</td>\n",
       "      <td>...</td>\n",
       "      <td>...</td>\n",
       "      <td>...</td>\n",
       "      <td>...</td>\n",
       "    </tr>\n",
       "    <tr>\n",
       "      <th>7332</th>\n",
       "      <td>Yu Yu Hakusho: Dark Tournament</td>\n",
       "      <td>ps2</td>\n",
       "      <td>NaN</td>\n",
       "      <td>fighting</td>\n",
       "      <td>0.10</td>\n",
       "      <td>0.08</td>\n",
       "      <td>0.00</td>\n",
       "      <td>0.03</td>\n",
       "      <td>56.0</td>\n",
       "      <td>8.5</td>\n",
       "      <td>T</td>\n",
       "    </tr>\n",
       "    <tr>\n",
       "      <th>15557</th>\n",
       "      <td>Yu-Gi-Oh! 5D's Wheelie Breakers (JP sales)</td>\n",
       "      <td>wii</td>\n",
       "      <td>NaN</td>\n",
       "      <td>racing</td>\n",
       "      <td>0.00</td>\n",
       "      <td>0.00</td>\n",
       "      <td>0.02</td>\n",
       "      <td>0.00</td>\n",
       "      <td>NaN</td>\n",
       "      <td>NaN</td>\n",
       "      <td>NaN</td>\n",
       "    </tr>\n",
       "    <tr>\n",
       "      <th>11433</th>\n",
       "      <td>Zero: Tsukihami no Kamen</td>\n",
       "      <td>wii</td>\n",
       "      <td>NaN</td>\n",
       "      <td>action</td>\n",
       "      <td>0.00</td>\n",
       "      <td>0.00</td>\n",
       "      <td>0.08</td>\n",
       "      <td>0.00</td>\n",
       "      <td>NaN</td>\n",
       "      <td>NaN</td>\n",
       "      <td>NaN</td>\n",
       "    </tr>\n",
       "    <tr>\n",
       "      <th>8884</th>\n",
       "      <td>eJay Clubworld</td>\n",
       "      <td>ps2</td>\n",
       "      <td>NaN</td>\n",
       "      <td>misc</td>\n",
       "      <td>0.07</td>\n",
       "      <td>0.06</td>\n",
       "      <td>0.00</td>\n",
       "      <td>0.02</td>\n",
       "      <td>69.0</td>\n",
       "      <td>8.6</td>\n",
       "      <td>E</td>\n",
       "    </tr>\n",
       "    <tr>\n",
       "      <th>475</th>\n",
       "      <td>wwe Smackdown vs. Raw 2006</td>\n",
       "      <td>ps2</td>\n",
       "      <td>NaN</td>\n",
       "      <td>fighting</td>\n",
       "      <td>1.57</td>\n",
       "      <td>1.02</td>\n",
       "      <td>0.00</td>\n",
       "      <td>0.41</td>\n",
       "      <td>NaN</td>\n",
       "      <td>NaN</td>\n",
       "      <td>NaN</td>\n",
       "    </tr>\n",
       "  </tbody>\n",
       "</table>\n",
       "<p>269 rows × 11 columns</p>\n",
       "</div>"
      ],
      "text/plain": [
       "                                             name platform  year_of_release  \\\n",
       "16293      AKB1/48: Idol to Guam de Koishitara...     x360              NaN   \n",
       "11092                Action Man-Operation Extreme       ps              NaN   \n",
       "3289                   Advance Wars: Days of Ruin       ds              NaN   \n",
       "1506                                    Adventure     2600              NaN   \n",
       "16348                Agarest Senki: Re-appearance      ps3              NaN   \n",
       "...                                           ...      ...              ...   \n",
       "7332               Yu Yu Hakusho: Dark Tournament      ps2              NaN   \n",
       "15557  Yu-Gi-Oh! 5D's Wheelie Breakers (JP sales)      wii              NaN   \n",
       "11433                    Zero: Tsukihami no Kamen      wii              NaN   \n",
       "8884                               eJay Clubworld      ps2              NaN   \n",
       "475                    wwe Smackdown vs. Raw 2006      ps2              NaN   \n",
       "\n",
       "              genre  na_sales  eu_sales  jp_sales  other_sales  critic_score  \\\n",
       "16293          misc      0.00      0.00      0.01         0.00           NaN   \n",
       "11092        action      0.05      0.03      0.00         0.01           NaN   \n",
       "3289       strategy      0.43      0.12      0.00         0.05          86.0   \n",
       "1506      adventure      1.21      0.08      0.00         0.01           NaN   \n",
       "16348  role-playing      0.00      0.00      0.01         0.00           NaN   \n",
       "...             ...       ...       ...       ...          ...           ...   \n",
       "7332       fighting      0.10      0.08      0.00         0.03          56.0   \n",
       "15557        racing      0.00      0.00      0.02         0.00           NaN   \n",
       "11433        action      0.00      0.00      0.08         0.00           NaN   \n",
       "8884           misc      0.07      0.06      0.00         0.02          69.0   \n",
       "475        fighting      1.57      1.02      0.00         0.41           NaN   \n",
       "\n",
       "      user_score rating  \n",
       "16293        NaN    NaN  \n",
       "11092        NaN    NaN  \n",
       "3289         8.7   E10+  \n",
       "1506         NaN    NaN  \n",
       "16348        NaN    NaN  \n",
       "...          ...    ...  \n",
       "7332         8.5      T  \n",
       "15557        NaN    NaN  \n",
       "11433        NaN    NaN  \n",
       "8884         8.6      E  \n",
       "475          NaN    NaN  \n",
       "\n",
       "[269 rows x 11 columns]"
      ]
     },
     "execution_count": 13,
     "metadata": {},
     "output_type": "execute_result"
    }
   ],
   "source": [
    "raw_data[raw_data['year_of_release'].isna()].sort_values(by='name')"
   ]
  },
  {
   "cell_type": "code",
   "execution_count": 14,
   "id": "american-destiny",
   "metadata": {},
   "outputs": [
    {
     "name": "stdout",
     "output_type": "stream",
     "text": [
      "Пропуски составляют 1.6% от общего набора данных\n"
     ]
    }
   ],
   "source": [
    "print(f'Пропуски составляют {len(raw_data[raw_data.year_of_release.isna()])*100/len(raw_data):2.2}% от общего набора данных')"
   ]
  },
  {
   "cell_type": "markdown",
   "id": "sorted-concentrate",
   "metadata": {},
   "source": [
    "Доля пропусков мала, но их можно не удалять а заменить год каким-то, не входящим в общий диапазон, например 2100\n",
    "<br> \n",
    "Далее посмотрим, как выглядят оценки игроков и критиков"
   ]
  },
  {
   "cell_type": "code",
   "execution_count": 15,
   "id": "incredible-sentence",
   "metadata": {},
   "outputs": [
    {
     "data": {
      "text/plain": [
       "array([76., nan, 82., 80., 89., 58., 87., 91., 61., 97., 95., 77., 88.,\n",
       "       83., 94., 93., 85., 86., 98., 96., 90., 84., 73., 74., 78., 92.,\n",
       "       71., 72., 68., 62., 49., 67., 81., 66., 56., 79., 70., 59., 64.,\n",
       "       75., 60., 63., 69., 50., 25., 42., 44., 55., 48., 57., 29., 47.,\n",
       "       65., 54., 20., 53., 37., 38., 33., 52., 30., 32., 43., 45., 51.,\n",
       "       40., 46., 39., 34., 35., 41., 36., 28., 31., 27., 26., 19., 23.,\n",
       "       24., 21., 17., 22., 13.])"
      ]
     },
     "execution_count": 15,
     "metadata": {},
     "output_type": "execute_result"
    }
   ],
   "source": [
    "raw_data.critic_score.unique()"
   ]
  },
  {
   "cell_type": "code",
   "execution_count": 16,
   "id": "monetary-criterion",
   "metadata": {},
   "outputs": [
    {
     "data": {
      "text/plain": [
       "array(['8', nan, '8.3', '8.5', '6.6', '8.4', '8.6', '7.7', '6.3', '7.4',\n",
       "       '8.2', '9', '7.9', '8.1', '8.7', '7.1', '3.4', '5.3', '4.8', '3.2',\n",
       "       '8.9', '6.4', '7.8', '7.5', '2.6', '7.2', '9.2', '7', '7.3', '4.3',\n",
       "       '7.6', '5.7', '5', '9.1', '6.5', 'tbd', '8.8', '6.9', '9.4', '6.8',\n",
       "       '6.1', '6.7', '5.4', '4', '4.9', '4.5', '9.3', '6.2', '4.2', '6',\n",
       "       '3.7', '4.1', '5.8', '5.6', '5.5', '4.4', '4.6', '5.9', '3.9',\n",
       "       '3.1', '2.9', '5.2', '3.3', '4.7', '5.1', '3.5', '2.5', '1.9', '3',\n",
       "       '2.7', '2.2', '2', '9.5', '2.1', '3.6', '2.8', '1.8', '3.8', '0',\n",
       "       '1.6', '9.6', '2.4', '1.7', '1.1', '0.3', '1.5', '0.7', '1.2',\n",
       "       '2.3', '0.5', '1.3', '0.2', '0.6', '1.4', '0.9', '1', '9.7'],\n",
       "      dtype=object)"
      ]
     },
     "execution_count": 16,
     "metadata": {},
     "output_type": "execute_result"
    }
   ],
   "source": [
    "raw_data.user_score.unique()"
   ]
  },
  {
   "cell_type": "markdown",
   "id": "beneficial-geneva",
   "metadata": {},
   "source": [
    "В столбце user_score есть значение tbd, означающее to be decided или to be defined.<br>\n",
    "Если оценки взяты с Metacritic, это значит что недостаточно пользователей поставило игре оценку, чтобы рассчитывать усреднённую. <br>Чтобы перевести столбец в числовой формат, приравняем это к пропуску, а затем заменим пропуски на -1.\n",
    "Также будет проще сравнивать оценки, если они будут одного типа, поэтому пользовательские умножим на 10, чтобы использовать 100-балльную систему.\n",
    "\n",
    "<br>Сначала заменим tbd"
   ]
  },
  {
   "cell_type": "code",
   "execution_count": 17,
   "id": "accompanied-night",
   "metadata": {},
   "outputs": [],
   "source": [
    "raw_data['user_score'] = raw_data['user_score'].replace('tbd', np.NaN)"
   ]
  },
  {
   "cell_type": "markdown",
   "id": "black-method",
   "metadata": {},
   "source": [
    "Далее заполняем пропуски по принципам описанным выше"
   ]
  },
  {
   "cell_type": "code",
   "execution_count": 18,
   "id": "passive-allowance",
   "metadata": {},
   "outputs": [],
   "source": [
    "values = {'year_of_release': 2100, 'critic_score': -1, 'user_score': -1, 'rating': 'None'}\n",
    "raw_data = raw_data.fillna(values)"
   ]
  },
  {
   "cell_type": "markdown",
   "id": "handmade-entertainment",
   "metadata": {},
   "source": [
    "Переводим годы выхода в целочисленный формат"
   ]
  },
  {
   "cell_type": "code",
   "execution_count": 19,
   "id": "powerful-static",
   "metadata": {},
   "outputs": [],
   "source": [
    "raw_data['year_of_release']=raw_data['year_of_release'].astype('int')"
   ]
  },
  {
   "cell_type": "markdown",
   "id": "right-florida",
   "metadata": {},
   "source": [
    "Пользовательские оценки сначала в числовой формат, затем умножаем на 10, затем в целочисленный. Оценки критиков в целочисленный"
   ]
  },
  {
   "cell_type": "code",
   "execution_count": 20,
   "id": "magnetic-witch",
   "metadata": {},
   "outputs": [],
   "source": [
    "raw_data['user_score']=raw_data['user_score'].astype('float')\n",
    "raw_data['user_score']=raw_data['user_score']*10\n",
    "raw_data['user_score'] = raw_data['user_score'].astype('int')"
   ]
  },
  {
   "cell_type": "code",
   "execution_count": 21,
   "id": "duplicate-hazard",
   "metadata": {},
   "outputs": [
    {
     "data": {
      "text/html": [
       "<div>\n",
       "<style scoped>\n",
       "    .dataframe tbody tr th:only-of-type {\n",
       "        vertical-align: middle;\n",
       "    }\n",
       "\n",
       "    .dataframe tbody tr th {\n",
       "        vertical-align: top;\n",
       "    }\n",
       "\n",
       "    .dataframe thead th {\n",
       "        text-align: right;\n",
       "    }\n",
       "</style>\n",
       "<table border=\"1\" class=\"dataframe\">\n",
       "  <thead>\n",
       "    <tr style=\"text-align: right;\">\n",
       "      <th></th>\n",
       "      <th>name</th>\n",
       "      <th>platform</th>\n",
       "      <th>year_of_release</th>\n",
       "      <th>genre</th>\n",
       "      <th>na_sales</th>\n",
       "      <th>eu_sales</th>\n",
       "      <th>jp_sales</th>\n",
       "      <th>other_sales</th>\n",
       "      <th>critic_score</th>\n",
       "      <th>user_score</th>\n",
       "      <th>rating</th>\n",
       "    </tr>\n",
       "  </thead>\n",
       "  <tbody>\n",
       "    <tr>\n",
       "      <th>0</th>\n",
       "      <td>Wii Sports</td>\n",
       "      <td>wii</td>\n",
       "      <td>2006</td>\n",
       "      <td>sports</td>\n",
       "      <td>41.36</td>\n",
       "      <td>28.96</td>\n",
       "      <td>3.77</td>\n",
       "      <td>8.45</td>\n",
       "      <td>76.0</td>\n",
       "      <td>80</td>\n",
       "      <td>E</td>\n",
       "    </tr>\n",
       "    <tr>\n",
       "      <th>1</th>\n",
       "      <td>Super Mario Bros.</td>\n",
       "      <td>nes</td>\n",
       "      <td>1985</td>\n",
       "      <td>platform</td>\n",
       "      <td>29.08</td>\n",
       "      <td>3.58</td>\n",
       "      <td>6.81</td>\n",
       "      <td>0.77</td>\n",
       "      <td>-1.0</td>\n",
       "      <td>-10</td>\n",
       "      <td>None</td>\n",
       "    </tr>\n",
       "    <tr>\n",
       "      <th>2</th>\n",
       "      <td>Mario Kart Wii</td>\n",
       "      <td>wii</td>\n",
       "      <td>2008</td>\n",
       "      <td>racing</td>\n",
       "      <td>15.68</td>\n",
       "      <td>12.76</td>\n",
       "      <td>3.79</td>\n",
       "      <td>3.29</td>\n",
       "      <td>82.0</td>\n",
       "      <td>83</td>\n",
       "      <td>E</td>\n",
       "    </tr>\n",
       "    <tr>\n",
       "      <th>3</th>\n",
       "      <td>Wii Sports Resort</td>\n",
       "      <td>wii</td>\n",
       "      <td>2009</td>\n",
       "      <td>sports</td>\n",
       "      <td>15.61</td>\n",
       "      <td>10.93</td>\n",
       "      <td>3.28</td>\n",
       "      <td>2.95</td>\n",
       "      <td>80.0</td>\n",
       "      <td>80</td>\n",
       "      <td>E</td>\n",
       "    </tr>\n",
       "    <tr>\n",
       "      <th>4</th>\n",
       "      <td>Pokemon Red/Pokemon Blue</td>\n",
       "      <td>gb</td>\n",
       "      <td>1996</td>\n",
       "      <td>role-playing</td>\n",
       "      <td>11.27</td>\n",
       "      <td>8.89</td>\n",
       "      <td>10.22</td>\n",
       "      <td>1.00</td>\n",
       "      <td>-1.0</td>\n",
       "      <td>-10</td>\n",
       "      <td>None</td>\n",
       "    </tr>\n",
       "  </tbody>\n",
       "</table>\n",
       "</div>"
      ],
      "text/plain": [
       "                       name platform  year_of_release         genre  na_sales  \\\n",
       "0                Wii Sports      wii             2006        sports     41.36   \n",
       "1         Super Mario Bros.      nes             1985      platform     29.08   \n",
       "2            Mario Kart Wii      wii             2008        racing     15.68   \n",
       "3         Wii Sports Resort      wii             2009        sports     15.61   \n",
       "4  Pokemon Red/Pokemon Blue       gb             1996  role-playing     11.27   \n",
       "\n",
       "   eu_sales  jp_sales  other_sales  critic_score  user_score rating  \n",
       "0     28.96      3.77         8.45          76.0          80      E  \n",
       "1      3.58      6.81         0.77          -1.0         -10   None  \n",
       "2     12.76      3.79         3.29          82.0          83      E  \n",
       "3     10.93      3.28         2.95          80.0          80      E  \n",
       "4      8.89     10.22         1.00          -1.0         -10   None  "
      ]
     },
     "execution_count": 21,
     "metadata": {},
     "output_type": "execute_result"
    }
   ],
   "source": [
    "raw_data.head()"
   ]
  },
  {
   "cell_type": "code",
   "execution_count": 22,
   "id": "capital-keyboard",
   "metadata": {},
   "outputs": [
    {
     "name": "stdout",
     "output_type": "stream",
     "text": [
      "<class 'pandas.core.frame.DataFrame'>\n",
      "Int64Index: 16713 entries, 0 to 16714\n",
      "Data columns (total 11 columns):\n",
      " #   Column           Non-Null Count  Dtype  \n",
      "---  ------           --------------  -----  \n",
      " 0   name             16713 non-null  object \n",
      " 1   platform         16713 non-null  object \n",
      " 2   year_of_release  16713 non-null  int32  \n",
      " 3   genre            16713 non-null  object \n",
      " 4   na_sales         16713 non-null  float64\n",
      " 5   eu_sales         16713 non-null  float64\n",
      " 6   jp_sales         16713 non-null  float64\n",
      " 7   other_sales      16713 non-null  float64\n",
      " 8   critic_score     16713 non-null  float64\n",
      " 9   user_score       16713 non-null  int32  \n",
      " 10  rating           16713 non-null  object \n",
      "dtypes: float64(5), int32(2), object(4)\n",
      "memory usage: 1.4+ MB\n"
     ]
    }
   ],
   "source": [
    "raw_data.info()"
   ]
  },
  {
   "cell_type": "markdown",
   "id": "southeast-egyptian",
   "metadata": {},
   "source": [
    "Добавим столбец с общими продажами по всем регионам"
   ]
  },
  {
   "cell_type": "code",
   "execution_count": 23,
   "id": "honest-configuration",
   "metadata": {},
   "outputs": [],
   "source": [
    "raw_data['total_sales']=raw_data[['na_sales','jp_sales','eu_sales','other_sales']].sum(axis=1)"
   ]
  },
  {
   "cell_type": "markdown",
   "id": "blocked-clause",
   "metadata": {},
   "source": [
    "Пропуски обработаны, данные готовы для анализа"
   ]
  },
  {
   "cell_type": "markdown",
   "id": "initial-semiconductor",
   "metadata": {},
   "source": [
    "# Исследовательский анализ данных"
   ]
  },
  {
   "cell_type": "markdown",
   "id": "reduced-capture",
   "metadata": {},
   "source": [
    "## Анализ количества вышедших игр по годам"
   ]
  },
  {
   "cell_type": "code",
   "execution_count": 24,
   "id": "tribal-hands",
   "metadata": {},
   "outputs": [],
   "source": [
    "releases = raw_data.groupby('year_of_release')[['name']].count()\n",
    "releases = releases.iloc[:-1]"
   ]
  },
  {
   "cell_type": "code",
   "execution_count": 25,
   "id": "aggregate-flashing",
   "metadata": {},
   "outputs": [
    {
     "data": {
      "text/html": [
       "<div>\n",
       "<style scoped>\n",
       "    .dataframe tbody tr th:only-of-type {\n",
       "        vertical-align: middle;\n",
       "    }\n",
       "\n",
       "    .dataframe tbody tr th {\n",
       "        vertical-align: top;\n",
       "    }\n",
       "\n",
       "    .dataframe thead th {\n",
       "        text-align: right;\n",
       "    }\n",
       "</style>\n",
       "<table border=\"1\" class=\"dataframe\">\n",
       "  <thead>\n",
       "    <tr style=\"text-align: right;\">\n",
       "      <th></th>\n",
       "      <th>name</th>\n",
       "    </tr>\n",
       "    <tr>\n",
       "      <th>year_of_release</th>\n",
       "      <th></th>\n",
       "    </tr>\n",
       "  </thead>\n",
       "  <tbody>\n",
       "    <tr>\n",
       "      <th>1980</th>\n",
       "      <td>9</td>\n",
       "    </tr>\n",
       "    <tr>\n",
       "      <th>1981</th>\n",
       "      <td>46</td>\n",
       "    </tr>\n",
       "    <tr>\n",
       "      <th>1982</th>\n",
       "      <td>36</td>\n",
       "    </tr>\n",
       "    <tr>\n",
       "      <th>1983</th>\n",
       "      <td>17</td>\n",
       "    </tr>\n",
       "    <tr>\n",
       "      <th>1984</th>\n",
       "      <td>14</td>\n",
       "    </tr>\n",
       "    <tr>\n",
       "      <th>1985</th>\n",
       "      <td>14</td>\n",
       "    </tr>\n",
       "    <tr>\n",
       "      <th>1986</th>\n",
       "      <td>21</td>\n",
       "    </tr>\n",
       "    <tr>\n",
       "      <th>1987</th>\n",
       "      <td>16</td>\n",
       "    </tr>\n",
       "    <tr>\n",
       "      <th>1988</th>\n",
       "      <td>15</td>\n",
       "    </tr>\n",
       "    <tr>\n",
       "      <th>1989</th>\n",
       "      <td>17</td>\n",
       "    </tr>\n",
       "    <tr>\n",
       "      <th>1990</th>\n",
       "      <td>16</td>\n",
       "    </tr>\n",
       "    <tr>\n",
       "      <th>1991</th>\n",
       "      <td>41</td>\n",
       "    </tr>\n",
       "    <tr>\n",
       "      <th>1992</th>\n",
       "      <td>43</td>\n",
       "    </tr>\n",
       "    <tr>\n",
       "      <th>1993</th>\n",
       "      <td>60</td>\n",
       "    </tr>\n",
       "    <tr>\n",
       "      <th>1994</th>\n",
       "      <td>121</td>\n",
       "    </tr>\n",
       "    <tr>\n",
       "      <th>1995</th>\n",
       "      <td>219</td>\n",
       "    </tr>\n",
       "    <tr>\n",
       "      <th>1996</th>\n",
       "      <td>263</td>\n",
       "    </tr>\n",
       "    <tr>\n",
       "      <th>1997</th>\n",
       "      <td>289</td>\n",
       "    </tr>\n",
       "    <tr>\n",
       "      <th>1998</th>\n",
       "      <td>379</td>\n",
       "    </tr>\n",
       "    <tr>\n",
       "      <th>1999</th>\n",
       "      <td>338</td>\n",
       "    </tr>\n",
       "    <tr>\n",
       "      <th>2000</th>\n",
       "      <td>350</td>\n",
       "    </tr>\n",
       "    <tr>\n",
       "      <th>2001</th>\n",
       "      <td>482</td>\n",
       "    </tr>\n",
       "    <tr>\n",
       "      <th>2002</th>\n",
       "      <td>829</td>\n",
       "    </tr>\n",
       "    <tr>\n",
       "      <th>2003</th>\n",
       "      <td>775</td>\n",
       "    </tr>\n",
       "    <tr>\n",
       "      <th>2004</th>\n",
       "      <td>762</td>\n",
       "    </tr>\n",
       "    <tr>\n",
       "      <th>2005</th>\n",
       "      <td>939</td>\n",
       "    </tr>\n",
       "    <tr>\n",
       "      <th>2006</th>\n",
       "      <td>1006</td>\n",
       "    </tr>\n",
       "    <tr>\n",
       "      <th>2007</th>\n",
       "      <td>1197</td>\n",
       "    </tr>\n",
       "    <tr>\n",
       "      <th>2008</th>\n",
       "      <td>1427</td>\n",
       "    </tr>\n",
       "    <tr>\n",
       "      <th>2009</th>\n",
       "      <td>1426</td>\n",
       "    </tr>\n",
       "    <tr>\n",
       "      <th>2010</th>\n",
       "      <td>1255</td>\n",
       "    </tr>\n",
       "    <tr>\n",
       "      <th>2011</th>\n",
       "      <td>1136</td>\n",
       "    </tr>\n",
       "    <tr>\n",
       "      <th>2012</th>\n",
       "      <td>653</td>\n",
       "    </tr>\n",
       "    <tr>\n",
       "      <th>2013</th>\n",
       "      <td>544</td>\n",
       "    </tr>\n",
       "    <tr>\n",
       "      <th>2014</th>\n",
       "      <td>581</td>\n",
       "    </tr>\n",
       "    <tr>\n",
       "      <th>2015</th>\n",
       "      <td>606</td>\n",
       "    </tr>\n",
       "    <tr>\n",
       "      <th>2016</th>\n",
       "      <td>502</td>\n",
       "    </tr>\n",
       "  </tbody>\n",
       "</table>\n",
       "</div>"
      ],
      "text/plain": [
       "                 name\n",
       "year_of_release      \n",
       "1980                9\n",
       "1981               46\n",
       "1982               36\n",
       "1983               17\n",
       "1984               14\n",
       "1985               14\n",
       "1986               21\n",
       "1987               16\n",
       "1988               15\n",
       "1989               17\n",
       "1990               16\n",
       "1991               41\n",
       "1992               43\n",
       "1993               60\n",
       "1994              121\n",
       "1995              219\n",
       "1996              263\n",
       "1997              289\n",
       "1998              379\n",
       "1999              338\n",
       "2000              350\n",
       "2001              482\n",
       "2002              829\n",
       "2003              775\n",
       "2004              762\n",
       "2005              939\n",
       "2006             1006\n",
       "2007             1197\n",
       "2008             1427\n",
       "2009             1426\n",
       "2010             1255\n",
       "2011             1136\n",
       "2012              653\n",
       "2013              544\n",
       "2014              581\n",
       "2015              606\n",
       "2016              502"
      ]
     },
     "execution_count": 25,
     "metadata": {},
     "output_type": "execute_result"
    }
   ],
   "source": [
    "releases"
   ]
  },
  {
   "cell_type": "code",
   "execution_count": 26,
   "id": "pacific-facial",
   "metadata": {},
   "outputs": [
    {
     "data": {
      "image/png": "[encoded data removed]",
      "text/plain": [
       "<Figure size 1080x595.44 with 1 Axes>"
      ]
     },
     "metadata": {},
     "output_type": "display_data"
    }
   ],
   "source": [
    "sns.set(rc={'figure.figsize':(15,8.27)})\n",
    "sns.set_style(\"darkgrid\")\n",
    "releases.plot.area(legend = None)\n",
    "plt.title('Количество выходящих игр с 1980 по 2016')\n",
    "plt.xlabel('Год релиза')\n",
    "plt.xticks(np.arange(min(releases.index), max(releases.index)+1, 3.0))\n",
    "plt.ylabel('Кол-во игр')\n",
    "plt.legend\n",
    "plt.show()"
   ]
  },
  {
   "cell_type": "markdown",
   "id": "flexible-microphone",
   "metadata": {},
   "source": [
    "### Вывод\n",
    "\n",
    "Рынок начал стремительно расти в начале 90-ых с ростом распространения персональных компьютеров и скачком технологий и достиг пика в 2008-2009 году. <br>\n",
    "\n",
    "После кризиса и с ростом популярности смартфонов как игровой платформы, многие независимые разработчики и маленькие студии сосредоточились на них. <br>В наборе данных смартфоны не представлены, из-за специфической модели распространения, поэтому после 2009 наблюдаем спад и затем рост количества выпускаемых игр после 2012 года, скорее всего связанный с выходом нового поколения консолей<br>\n",
    "\n",
    "Крупные студии столкнулись с ростом сложности разработки игр и начинают делать упор не на количество продуктов, а на увеличение  жизненного цикла немногих выпускаемых за счёт регулярных обновлений и внутриигровых покупок.\n",
    "\n",
    "<br>Для прогноза на 2017 год имеет смысл опираться на несколько предшествующих ему лет, например 2010-2016.\n",
    "Необходимо также принять во внимание неполноту данных за 2016"
   ]
  },
  {
   "cell_type": "markdown",
   "id": "faced-confidence",
   "metadata": {},
   "source": [
    "## Анализ продаж по платформам"
   ]
  },
  {
   "cell_type": "markdown",
   "id": "turned-instrument",
   "metadata": {},
   "source": [
    "Для начала выведем самые прибыльные платформы за интересующий нас период "
   ]
  },
  {
   "cell_type": "code",
   "execution_count": 27,
   "id": "opposite-graph",
   "metadata": {},
   "outputs": [
    {
     "data": {
      "text/html": [
       "<div>\n",
       "<style scoped>\n",
       "    .dataframe tbody tr th:only-of-type {\n",
       "        vertical-align: middle;\n",
       "    }\n",
       "\n",
       "    .dataframe tbody tr th {\n",
       "        vertical-align: top;\n",
       "    }\n",
       "\n",
       "    .dataframe thead th {\n",
       "        text-align: right;\n",
       "    }\n",
       "</style>\n",
       "<table border=\"1\" class=\"dataframe\">\n",
       "  <thead>\n",
       "    <tr style=\"text-align: right;\">\n",
       "      <th></th>\n",
       "      <th>total_sales</th>\n",
       "    </tr>\n",
       "    <tr>\n",
       "      <th>platform</th>\n",
       "      <th></th>\n",
       "    </tr>\n",
       "  </thead>\n",
       "  <tbody>\n",
       "    <tr>\n",
       "      <th>ps3</th>\n",
       "      <td>587.74</td>\n",
       "    </tr>\n",
       "    <tr>\n",
       "      <th>x360</th>\n",
       "      <td>550.41</td>\n",
       "    </tr>\n",
       "    <tr>\n",
       "      <th>ps4</th>\n",
       "      <td>314.14</td>\n",
       "    </tr>\n",
       "    <tr>\n",
       "      <th>3ds</th>\n",
       "      <td>257.81</td>\n",
       "    </tr>\n",
       "    <tr>\n",
       "      <th>wii</th>\n",
       "      <td>222.97</td>\n",
       "    </tr>\n",
       "    <tr>\n",
       "      <th>xone</th>\n",
       "      <td>159.32</td>\n",
       "    </tr>\n",
       "    <tr>\n",
       "      <th>ds</th>\n",
       "      <td>123.75</td>\n",
       "    </tr>\n",
       "    <tr>\n",
       "      <th>pc</th>\n",
       "      <td>121.96</td>\n",
       "    </tr>\n",
       "    <tr>\n",
       "      <th>wiiu</th>\n",
       "      <td>82.19</td>\n",
       "    </tr>\n",
       "    <tr>\n",
       "      <th>psp</th>\n",
       "      <td>64.05</td>\n",
       "    </tr>\n",
       "    <tr>\n",
       "      <th>psv</th>\n",
       "      <td>53.81</td>\n",
       "    </tr>\n",
       "    <tr>\n",
       "      <th>ps2</th>\n",
       "      <td>6.09</td>\n",
       "    </tr>\n",
       "  </tbody>\n",
       "</table>\n",
       "</div>"
      ],
      "text/plain": [
       "          total_sales\n",
       "platform             \n",
       "ps3            587.74\n",
       "x360           550.41\n",
       "ps4            314.14\n",
       "3ds            257.81\n",
       "wii            222.97\n",
       "xone           159.32\n",
       "ds             123.75\n",
       "pc             121.96\n",
       "wiiu            82.19\n",
       "psp             64.05\n",
       "psv             53.81\n",
       "ps2              6.09"
      ]
     },
     "execution_count": 27,
     "metadata": {},
     "output_type": "execute_result"
    }
   ],
   "source": [
    "top_platforms = (raw_data[(raw_data['year_of_release']<2017)&(raw_data['year_of_release']>2009)]\n",
    "                         .groupby('platform')[['total_sales']]\n",
    "                         .sum())\n",
    "top_platforms.sort_values(by = 'total_sales',ascending = False).head(15)"
   ]
  },
  {
   "cell_type": "code",
   "execution_count": 28,
   "id": "radio-tucson",
   "metadata": {},
   "outputs": [],
   "source": [
    "top_platforms_list = top_platforms.sort_values(by = 'total_sales',ascending = False).head(15).index.to_list()"
   ]
  },
  {
   "cell_type": "markdown",
   "id": "tested-fence",
   "metadata": {},
   "source": [
    "Составим таблицу с отражением суммарных продаж по каждой платформе по годам, затем оставим в ней только 15 самых популярных платформ"
   ]
  },
  {
   "cell_type": "code",
   "execution_count": 29,
   "id": "chubby-robin",
   "metadata": {},
   "outputs": [],
   "source": [
    "platforms_sales = raw_data.pivot_table(index=['year_of_release'],\n",
    "                                       values=['total_sales'],\n",
    "                                       columns='platform',\n",
    "                                       aggfunc='sum',\n",
    "                                       fill_value=0)"
   ]
  },
  {
   "cell_type": "code",
   "execution_count": 30,
   "id": "equivalent-russell",
   "metadata": {},
   "outputs": [
    {
     "data": {
      "text/html": [
       "<div>\n",
       "<style scoped>\n",
       "    .dataframe tbody tr th:only-of-type {\n",
       "        vertical-align: middle;\n",
       "    }\n",
       "\n",
       "    .dataframe tbody tr th {\n",
       "        vertical-align: top;\n",
       "    }\n",
       "\n",
       "    .dataframe thead tr th {\n",
       "        text-align: left;\n",
       "    }\n",
       "\n",
       "    .dataframe thead tr:last-of-type th {\n",
       "        text-align: right;\n",
       "    }\n",
       "</style>\n",
       "<table border=\"1\" class=\"dataframe\">\n",
       "  <thead>\n",
       "    <tr>\n",
       "      <th></th>\n",
       "      <th colspan=\"21\" halign=\"left\">total_sales</th>\n",
       "    </tr>\n",
       "    <tr>\n",
       "      <th>platform</th>\n",
       "      <th>2600</th>\n",
       "      <th>3do</th>\n",
       "      <th>3ds</th>\n",
       "      <th>dc</th>\n",
       "      <th>ds</th>\n",
       "      <th>gb</th>\n",
       "      <th>gba</th>\n",
       "      <th>gc</th>\n",
       "      <th>gen</th>\n",
       "      <th>gg</th>\n",
       "      <th>...</th>\n",
       "      <th>sat</th>\n",
       "      <th>scd</th>\n",
       "      <th>snes</th>\n",
       "      <th>tg16</th>\n",
       "      <th>wii</th>\n",
       "      <th>wiiu</th>\n",
       "      <th>ws</th>\n",
       "      <th>x360</th>\n",
       "      <th>xb</th>\n",
       "      <th>xone</th>\n",
       "    </tr>\n",
       "    <tr>\n",
       "      <th>year_of_release</th>\n",
       "      <th></th>\n",
       "      <th></th>\n",
       "      <th></th>\n",
       "      <th></th>\n",
       "      <th></th>\n",
       "      <th></th>\n",
       "      <th></th>\n",
       "      <th></th>\n",
       "      <th></th>\n",
       "      <th></th>\n",
       "      <th></th>\n",
       "      <th></th>\n",
       "      <th></th>\n",
       "      <th></th>\n",
       "      <th></th>\n",
       "      <th></th>\n",
       "      <th></th>\n",
       "      <th></th>\n",
       "      <th></th>\n",
       "      <th></th>\n",
       "      <th></th>\n",
       "    </tr>\n",
       "  </thead>\n",
       "  <tbody>\n",
       "    <tr>\n",
       "      <th>1980</th>\n",
       "      <td>11.38</td>\n",
       "      <td>0.0</td>\n",
       "      <td>0.0</td>\n",
       "      <td>0.0</td>\n",
       "      <td>0.0</td>\n",
       "      <td>0.0</td>\n",
       "      <td>0.0</td>\n",
       "      <td>0.0</td>\n",
       "      <td>0.0</td>\n",
       "      <td>0.0</td>\n",
       "      <td>...</td>\n",
       "      <td>0.0</td>\n",
       "      <td>0.0</td>\n",
       "      <td>0.0</td>\n",
       "      <td>0.0</td>\n",
       "      <td>0.0</td>\n",
       "      <td>0.0</td>\n",
       "      <td>0.0</td>\n",
       "      <td>0.0</td>\n",
       "      <td>0.0</td>\n",
       "      <td>0.0</td>\n",
       "    </tr>\n",
       "    <tr>\n",
       "      <th>1981</th>\n",
       "      <td>35.68</td>\n",
       "      <td>0.0</td>\n",
       "      <td>0.0</td>\n",
       "      <td>0.0</td>\n",
       "      <td>0.0</td>\n",
       "      <td>0.0</td>\n",
       "      <td>0.0</td>\n",
       "      <td>0.0</td>\n",
       "      <td>0.0</td>\n",
       "      <td>0.0</td>\n",
       "      <td>...</td>\n",
       "      <td>0.0</td>\n",
       "      <td>0.0</td>\n",
       "      <td>0.0</td>\n",
       "      <td>0.0</td>\n",
       "      <td>0.0</td>\n",
       "      <td>0.0</td>\n",
       "      <td>0.0</td>\n",
       "      <td>0.0</td>\n",
       "      <td>0.0</td>\n",
       "      <td>0.0</td>\n",
       "    </tr>\n",
       "    <tr>\n",
       "      <th>1982</th>\n",
       "      <td>28.88</td>\n",
       "      <td>0.0</td>\n",
       "      <td>0.0</td>\n",
       "      <td>0.0</td>\n",
       "      <td>0.0</td>\n",
       "      <td>0.0</td>\n",
       "      <td>0.0</td>\n",
       "      <td>0.0</td>\n",
       "      <td>0.0</td>\n",
       "      <td>0.0</td>\n",
       "      <td>...</td>\n",
       "      <td>0.0</td>\n",
       "      <td>0.0</td>\n",
       "      <td>0.0</td>\n",
       "      <td>0.0</td>\n",
       "      <td>0.0</td>\n",
       "      <td>0.0</td>\n",
       "      <td>0.0</td>\n",
       "      <td>0.0</td>\n",
       "      <td>0.0</td>\n",
       "      <td>0.0</td>\n",
       "    </tr>\n",
       "    <tr>\n",
       "      <th>1983</th>\n",
       "      <td>5.84</td>\n",
       "      <td>0.0</td>\n",
       "      <td>0.0</td>\n",
       "      <td>0.0</td>\n",
       "      <td>0.0</td>\n",
       "      <td>0.0</td>\n",
       "      <td>0.0</td>\n",
       "      <td>0.0</td>\n",
       "      <td>0.0</td>\n",
       "      <td>0.0</td>\n",
       "      <td>...</td>\n",
       "      <td>0.0</td>\n",
       "      <td>0.0</td>\n",
       "      <td>0.0</td>\n",
       "      <td>0.0</td>\n",
       "      <td>0.0</td>\n",
       "      <td>0.0</td>\n",
       "      <td>0.0</td>\n",
       "      <td>0.0</td>\n",
       "      <td>0.0</td>\n",
       "      <td>0.0</td>\n",
       "    </tr>\n",
       "    <tr>\n",
       "      <th>1984</th>\n",
       "      <td>0.27</td>\n",
       "      <td>0.0</td>\n",
       "      <td>0.0</td>\n",
       "      <td>0.0</td>\n",
       "      <td>0.0</td>\n",
       "      <td>0.0</td>\n",
       "      <td>0.0</td>\n",
       "      <td>0.0</td>\n",
       "      <td>0.0</td>\n",
       "      <td>0.0</td>\n",
       "      <td>...</td>\n",
       "      <td>0.0</td>\n",
       "      <td>0.0</td>\n",
       "      <td>0.0</td>\n",
       "      <td>0.0</td>\n",
       "      <td>0.0</td>\n",
       "      <td>0.0</td>\n",
       "      <td>0.0</td>\n",
       "      <td>0.0</td>\n",
       "      <td>0.0</td>\n",
       "      <td>0.0</td>\n",
       "    </tr>\n",
       "  </tbody>\n",
       "</table>\n",
       "<p>5 rows × 31 columns</p>\n",
       "</div>"
      ],
      "text/plain": [
       "                total_sales                                               ...  \\\n",
       "platform               2600  3do  3ds   dc   ds   gb  gba   gc  gen   gg  ...   \n",
       "year_of_release                                                           ...   \n",
       "1980                  11.38  0.0  0.0  0.0  0.0  0.0  0.0  0.0  0.0  0.0  ...   \n",
       "1981                  35.68  0.0  0.0  0.0  0.0  0.0  0.0  0.0  0.0  0.0  ...   \n",
       "1982                  28.88  0.0  0.0  0.0  0.0  0.0  0.0  0.0  0.0  0.0  ...   \n",
       "1983                   5.84  0.0  0.0  0.0  0.0  0.0  0.0  0.0  0.0  0.0  ...   \n",
       "1984                   0.27  0.0  0.0  0.0  0.0  0.0  0.0  0.0  0.0  0.0  ...   \n",
       "\n",
       "                                                                   \n",
       "platform         sat  scd snes tg16  wii wiiu   ws x360   xb xone  \n",
       "year_of_release                                                    \n",
       "1980             0.0  0.0  0.0  0.0  0.0  0.0  0.0  0.0  0.0  0.0  \n",
       "1981             0.0  0.0  0.0  0.0  0.0  0.0  0.0  0.0  0.0  0.0  \n",
       "1982             0.0  0.0  0.0  0.0  0.0  0.0  0.0  0.0  0.0  0.0  \n",
       "1983             0.0  0.0  0.0  0.0  0.0  0.0  0.0  0.0  0.0  0.0  \n",
       "1984             0.0  0.0  0.0  0.0  0.0  0.0  0.0  0.0  0.0  0.0  \n",
       "\n",
       "[5 rows x 31 columns]"
      ]
     },
     "execution_count": 30,
     "metadata": {},
     "output_type": "execute_result"
    }
   ],
   "source": [
    "platforms_sales.head()"
   ]
  },
  {
   "cell_type": "markdown",
   "id": "arabic-ozone",
   "metadata": {},
   "source": [
    "Для рассмотрения срока жизни платформы следует взять период покрупнее, поэтому добавим еще 10 лет\n",
    "Оставим данные только от 2000 года, самые прибыльные платформы и уберём первый уровень индексации колонок"
   ]
  },
  {
   "cell_type": "code",
   "execution_count": 31,
   "id": "excited-cornwall",
   "metadata": {},
   "outputs": [],
   "source": [
    "platforms_sales = platforms_sales[(platforms_sales.index<2017)&(platforms_sales.index>1999)]\n",
    "platforms_sales = platforms_sales.droplevel(None, axis=1)\n",
    "platforms_sales = platforms_sales[top_platforms_list]"
   ]
  },
  {
   "cell_type": "markdown",
   "id": "crude-portugal",
   "metadata": {},
   "source": [
    "Построим график, отражающий продажи данных платформ по годам"
   ]
  },
  {
   "cell_type": "code",
   "execution_count": 32,
   "id": "voluntary-conflict",
   "metadata": {},
   "outputs": [
    {
     "data": {
      "image/png": "[encoded data removed]",
      "text/plain": [
       "<Figure size 1080x595.44 with 1 Axes>"
      ]
     },
     "metadata": {},
     "output_type": "display_data"
    }
   ],
   "source": [
    "sns.set(rc={'figure.figsize':(15,8.27)})\n",
    "sns.set_palette('Paired')\n",
    "sns.set_style(\"darkgrid\")\n",
    "platforms_sales.plot.area(alpha=0.99, linewidth = 0.01)\n",
    "plt.title('Продажи игр с 2000 по 2016г')\n",
    "plt.xlabel('Год')\n",
    "plt.ylabel('Объем продаж (млн. копий)')\n",
    "plt.legend(loc='upper right')\n",
    "plt.show()"
   ]
  },
  {
   "cell_type": "markdown",
   "id": "democratic-service",
   "metadata": {},
   "source": [
    "Также можем рассмотреть каждую платформу в отдельности"
   ]
  },
  {
   "cell_type": "code",
   "execution_count": 33,
   "id": "increased-explosion",
   "metadata": {},
   "outputs": [
    {
     "data": {
      "image/png": "[encoded data removed]",
      "text/plain": [
       "<Figure size 1152x864 with 12 Axes>"
      ]
     },
     "metadata": {},
     "output_type": "display_data"
    }
   ],
   "source": [
    "\n",
    "nrows = 4  # ряды\n",
    "ncols = 3  # столбцы\n",
    "c = 1  # счётчик для графико\n",
    "\n",
    "fig = plt.figure(figsize=(16,12))\n",
    "fig.suptitle('Число проданных копий игр с 2000 по 2016 на выбранных платформах')\n",
    "fig.tight_layout(pad = 4.0)\n",
    "for i in top_platforms_list:\n",
    "    plt.subplot(nrows, ncols, c)\n",
    "    plt.title(i)\n",
    "    platforms_sales[i].plot.area()\n",
    "    plt.xlabel('Год')\n",
    "    plt.ylabel('млн. копий')\n",
    "    plt.xticks(np.arange(min(platforms_sales.index), max(platforms_sales.index)+1, 3.0))\n",
    "    plt.yticks(np.arange(0, 201, 50))\n",
    "    c = c + 1\n",
    "fig.tight_layout(pad = 3.0)\n",
    "\n",
    "         "
   ]
  },
  {
   "cell_type": "markdown",
   "id": "varied-therapist",
   "metadata": {},
   "source": [
    "### Вывод\n",
    "Рост количества игр после 2013 года с прошлого графика можем связать с появлением новых платформ и выпуском эксклюзивов для них, а так же одновременным выпуском новых игр на старые платформы. Выручка же при этом после 2013 начала падать.<br>\n",
    "За обычный срок существоания платформы можно принять 10 лет, если ориентироваться на самых крупных \"игроков\" - ps2, ps3, x360, wii. В частности, ps3 и xb360, появившись в 2005, окончательно потеряли актуальность только к 2016 году, спустя четыре года после выхода своих \"наследниц\"<br> Таким образом, в 2017 году нам стоит обращать особое внимание на платформы ps4 и xone, появившиеся в 2012 году. Также может сохранять некоторую актуальность 3ds<br>\n",
    "Падение продаж для недавно появившихся платформ в 2016 можно объяснить неполнотой данных, о которой нас предупреждали.\n",
    "<br>"
   ]
  },
  {
   "cell_type": "markdown",
   "id": "postal-george",
   "metadata": {},
   "source": [
    "Для дальнейшей работы оставим данные только по актуальному для нас периоду 2010-2016г"
   ]
  },
  {
   "cell_type": "code",
   "execution_count": 34,
   "id": "empty-swedish",
   "metadata": {},
   "outputs": [],
   "source": [
    "data = raw_data[(raw_data['year_of_release']>2009)&(raw_data['year_of_release']<2100)]"
   ]
  },
  {
   "cell_type": "markdown",
   "id": "improving-cornwall",
   "metadata": {},
   "source": [
    "Построим графики «ящик с усами» по глобальным продажам игр в разбивке по платформам за актуальный период"
   ]
  },
  {
   "cell_type": "code",
   "execution_count": 35,
   "id": "established-smell",
   "metadata": {},
   "outputs": [
    {
     "data": {
      "image/png": "[encoded data removed]",
      "text/plain": [
       "<Figure size 1080x595.44 with 1 Axes>"
      ]
     },
     "metadata": {},
     "output_type": "display_data"
    }
   ],
   "source": [
    "sns.boxplot(data=data, x='platform', y='total_sales', showfliers = False)\n",
    "plt.xlabel('Платформы')\n",
    "plt.ylabel('Продано копий')\n",
    "plt.show()"
   ]
  },
  {
   "cell_type": "markdown",
   "id": "studied-parliament",
   "metadata": {},
   "source": [
    "### Вывод \n",
    "Для интересующих нас платформ, ps4 и xone, видим что медианное число проданных копий немного выше у Xone, но распределение продаж у ps4 имеет больший скос вправо, говоря нам о том, что по-настоящему хитовых игр на PS4 больше, либо они продаются лучше, либо о комбинации этих факторов.\n",
    "График был выведен без учёта абсолютных хитов - выбросов. Ниже выведем с выбросами.\n",
    "Видим также, большой объем продаж для x360 и ps3 но не будем забывать, что жизненный цикл этих приставок подошёл к концу"
   ]
  },
  {
   "cell_type": "code",
   "execution_count": 36,
   "id": "vocational-average",
   "metadata": {},
   "outputs": [
    {
     "data": {
      "image/png": "[encoded data removed]",
      "text/plain": [
       "<Figure size 1080x595.44 with 1 Axes>"
      ]
     },
     "metadata": {},
     "output_type": "display_data"
    }
   ],
   "source": [
    "sns.set(rc={'figure.figsize':(15,8.27)})\n",
    "sns.boxplot(data=data, x='platform', y='total_sales', showfliers = True)\n",
    "plt.xlabel('Платформы')\n",
    "plt.ylabel('Продажи')\n",
    "plt.show()"
   ]
  },
  {
   "cell_type": "markdown",
   "id": "coastal-seminar",
   "metadata": {},
   "source": [
    "Посмотрим, как влияют на продажи отзывы пользователей и критиков. Для анализа выберем платформу ps4"
   ]
  },
  {
   "cell_type": "code",
   "execution_count": 37,
   "id": "greatest-switzerland",
   "metadata": {},
   "outputs": [],
   "source": [
    "ps4_data=data.query('platform == \"ps4\" and critic_score>0 and user_score > 0')"
   ]
  },
  {
   "cell_type": "code",
   "execution_count": 38,
   "id": "chief-japan",
   "metadata": {},
   "outputs": [
    {
     "data": {
      "image/png": "[encoded data removed]",
      "text/plain": [
       "<Figure size 1080x595.44 with 1 Axes>"
      ]
     },
     "metadata": {},
     "output_type": "display_data"
    }
   ],
   "source": [
    "sns.scatterplot(data=ps4_data, x='total_sales', y='critic_score', alpha=0.6)\n",
    "sns.scatterplot(data=ps4_data, x='total_sales', y='user_score', alpha=0.6)\n",
    "plt.xlabel('Продажи')\n",
    "plt.ylabel('Оценки')\n",
    "plt.legend(['Критики', 'Пользователи'])\n",
    "plt.show()"
   ]
  },
  {
   "cell_type": "markdown",
   "id": "equal-algeria",
   "metadata": {},
   "source": [
    "Посмотрим поближе, возьмём продажи менее 1млн копий."
   ]
  },
  {
   "cell_type": "code",
   "execution_count": 39,
   "id": "thirty-trader",
   "metadata": {},
   "outputs": [
    {
     "data": {
      "image/png": "[encoded data removed]",
      "text/plain": [
       "<Figure size 1080x595.44 with 1 Axes>"
      ]
     },
     "metadata": {},
     "output_type": "display_data"
    }
   ],
   "source": [
    "ps4_detailed = ps4_data.query('total_sales<1')\n",
    "sns.scatterplot(data=ps4_detailed, x='total_sales', y='critic_score' )\n",
    "sns.scatterplot(data=ps4_detailed, x='total_sales', y='user_score')\n",
    "plt.xlabel('Продажи')\n",
    "plt.ylabel('Оценки')\n",
    "plt.legend(['Критики', 'Пользователи'])\n",
    "plt.show()"
   ]
  },
  {
   "cell_type": "code",
   "execution_count": 40,
   "id": "decimal-morrison",
   "metadata": {},
   "outputs": [
    {
     "data": {
      "text/html": [
       "<div>\n",
       "<style scoped>\n",
       "    .dataframe tbody tr th:only-of-type {\n",
       "        vertical-align: middle;\n",
       "    }\n",
       "\n",
       "    .dataframe tbody tr th {\n",
       "        vertical-align: top;\n",
       "    }\n",
       "\n",
       "    .dataframe thead th {\n",
       "        text-align: right;\n",
       "    }\n",
       "</style>\n",
       "<table border=\"1\" class=\"dataframe\">\n",
       "  <thead>\n",
       "    <tr style=\"text-align: right;\">\n",
       "      <th></th>\n",
       "      <th>user_score</th>\n",
       "      <th>critic_score</th>\n",
       "      <th>total_sales</th>\n",
       "    </tr>\n",
       "  </thead>\n",
       "  <tbody>\n",
       "    <tr>\n",
       "      <th>user_score</th>\n",
       "      <td>1.000000</td>\n",
       "      <td>0.557654</td>\n",
       "      <td>-0.033625</td>\n",
       "    </tr>\n",
       "    <tr>\n",
       "      <th>critic_score</th>\n",
       "      <td>0.557654</td>\n",
       "      <td>1.000000</td>\n",
       "      <td>0.405895</td>\n",
       "    </tr>\n",
       "    <tr>\n",
       "      <th>total_sales</th>\n",
       "      <td>-0.033625</td>\n",
       "      <td>0.405895</td>\n",
       "      <td>1.000000</td>\n",
       "    </tr>\n",
       "  </tbody>\n",
       "</table>\n",
       "</div>"
      ],
      "text/plain": [
       "              user_score  critic_score  total_sales\n",
       "user_score      1.000000      0.557654    -0.033625\n",
       "critic_score    0.557654      1.000000     0.405895\n",
       "total_sales    -0.033625      0.405895     1.000000"
      ]
     },
     "execution_count": 40,
     "metadata": {},
     "output_type": "execute_result"
    }
   ],
   "source": [
    "ps4_data[['user_score', 'critic_score', 'total_sales']].corr()"
   ]
  },
  {
   "cell_type": "code",
   "execution_count": 41,
   "id": "assisted-argument",
   "metadata": {},
   "outputs": [
    {
     "data": {
      "text/html": [
       "<div>\n",
       "<style scoped>\n",
       "    .dataframe tbody tr th:only-of-type {\n",
       "        vertical-align: middle;\n",
       "    }\n",
       "\n",
       "    .dataframe tbody tr th {\n",
       "        vertical-align: top;\n",
       "    }\n",
       "\n",
       "    .dataframe thead th {\n",
       "        text-align: right;\n",
       "    }\n",
       "</style>\n",
       "<table border=\"1\" class=\"dataframe\">\n",
       "  <thead>\n",
       "    <tr style=\"text-align: right;\">\n",
       "      <th></th>\n",
       "      <th>user_score</th>\n",
       "      <th>critic_score</th>\n",
       "      <th>total_sales</th>\n",
       "    </tr>\n",
       "  </thead>\n",
       "  <tbody>\n",
       "    <tr>\n",
       "      <th>user_score</th>\n",
       "      <td>1.000000</td>\n",
       "      <td>0.637252</td>\n",
       "      <td>-0.015898</td>\n",
       "    </tr>\n",
       "    <tr>\n",
       "      <th>critic_score</th>\n",
       "      <td>0.637252</td>\n",
       "      <td>1.000000</td>\n",
       "      <td>0.308644</td>\n",
       "    </tr>\n",
       "    <tr>\n",
       "      <th>total_sales</th>\n",
       "      <td>-0.015898</td>\n",
       "      <td>0.308644</td>\n",
       "      <td>1.000000</td>\n",
       "    </tr>\n",
       "  </tbody>\n",
       "</table>\n",
       "</div>"
      ],
      "text/plain": [
       "              user_score  critic_score  total_sales\n",
       "user_score      1.000000      0.637252    -0.015898\n",
       "critic_score    0.637252      1.000000     0.308644\n",
       "total_sales    -0.015898      0.308644     1.000000"
      ]
     },
     "execution_count": 41,
     "metadata": {},
     "output_type": "execute_result"
    }
   ],
   "source": [
    "ps4_detailed[['user_score', 'critic_score', 'total_sales']].corr()"
   ]
  },
  {
   "cell_type": "markdown",
   "id": "satisfactory-front",
   "metadata": {},
   "source": [
    "Взаимосвязь между оценками пользователей и критиков для хитовых игр"
   ]
  },
  {
   "cell_type": "code",
   "execution_count": 42,
   "id": "breeding-thinking",
   "metadata": {},
   "outputs": [
    {
     "data": {
      "text/html": [
       "<div>\n",
       "<style scoped>\n",
       "    .dataframe tbody tr th:only-of-type {\n",
       "        vertical-align: middle;\n",
       "    }\n",
       "\n",
       "    .dataframe tbody tr th {\n",
       "        vertical-align: top;\n",
       "    }\n",
       "\n",
       "    .dataframe thead th {\n",
       "        text-align: right;\n",
       "    }\n",
       "</style>\n",
       "<table border=\"1\" class=\"dataframe\">\n",
       "  <thead>\n",
       "    <tr style=\"text-align: right;\">\n",
       "      <th></th>\n",
       "      <th>user_score</th>\n",
       "      <th>critic_score</th>\n",
       "    </tr>\n",
       "  </thead>\n",
       "  <tbody>\n",
       "    <tr>\n",
       "      <th>user_score</th>\n",
       "      <td>1.00000</td>\n",
       "      <td>0.42786</td>\n",
       "    </tr>\n",
       "    <tr>\n",
       "      <th>critic_score</th>\n",
       "      <td>0.42786</td>\n",
       "      <td>1.00000</td>\n",
       "    </tr>\n",
       "  </tbody>\n",
       "</table>\n",
       "</div>"
      ],
      "text/plain": [
       "              user_score  critic_score\n",
       "user_score       1.00000       0.42786\n",
       "critic_score     0.42786       1.00000"
      ]
     },
     "execution_count": 42,
     "metadata": {},
     "output_type": "execute_result"
    }
   ],
   "source": [
    "ps4_data.query('total_sales>1')[['user_score', 'critic_score']].corr()"
   ]
  },
  {
   "cell_type": "markdown",
   "id": "approved-favor",
   "metadata": {},
   "source": [
    "### Вывод \n",
    "Видим, что самые продаваемые игры имеют оценки критиков от 60 баллов и выше, пользователи же обычно более суровы.<br> Но пользователь может поставить игре низкую оценку просто так, чего критик обычно не может себе позволить. А самые хитовые игры имеют свойство больше поляризовывать пользователей. (Видим что коэффициент корреляции между оценками пользователей и критиков меньше для хитовых игр)\n",
    "\n",
    "В наборе данных хотелось бы также видеть затраты на маркетинг для игр - тоже немаловажная характеристика для последующей популярности.\n",
    "<br>Коэффициент корреляции указывает на некоторую взаимосвязь продаж и оценок критиков, причём она меньше для игр, продавшихся тиражом менее 1млн.\n",
    "Пользовательские оценки с продажами почти никак не связаны.\n",
    "Однозначно сказать о том что оценки критиков влияют на продажи невозможно. Как минимум, влияют не только они, но и факторы, не учтённые в имеющихся данных\n",
    "<br>Игры супер-хиты, как правило, выпускаются крупными студиями с огромными бюджетами на разработку и маркетинг, и уже выпущенными ранее нескольими хитовыми играми. Здесь на продажи влияет и доверие игроков и реклама и \"сарафанное радио\"\n",
    "\n",
    "\n",
    " "
   ]
  },
  {
   "cell_type": "markdown",
   "id": "painful-wallace",
   "metadata": {},
   "source": [
    "Посмотрим на распределение игр по жанрам"
   ]
  },
  {
   "cell_type": "code",
   "execution_count": 43,
   "id": "democratic-squad",
   "metadata": {},
   "outputs": [
    {
     "data": {
      "image/png": "[encoded data removed]",
      "text/plain": [
       "<Figure size 1080x595.44 with 1 Axes>"
      ]
     },
     "metadata": {},
     "output_type": "display_data"
    }
   ],
   "source": [
    "sns.boxplot(data=data, x='genre', y='total_sales')\n",
    "plt.xlabel('Жанры')\n",
    "plt.ylabel('Продажи')\n",
    "plt.show()"
   ]
  },
  {
   "cell_type": "markdown",
   "id": "interior-measure",
   "metadata": {},
   "source": [
    "Главные суперхиты с продажами более 10 млн копий принадлежат жанрам экшн, рпг, шутер и гонки, и два в жанровые рамки не уложились.\n",
    "Посмотрим на картину без выбросов"
   ]
  },
  {
   "cell_type": "code",
   "execution_count": 44,
   "id": "dominant-election",
   "metadata": {},
   "outputs": [
    {
     "data": {
      "image/png": "[encoded data removed]",
      "text/plain": [
       "<Figure size 1080x595.44 with 1 Axes>"
      ]
     },
     "metadata": {},
     "output_type": "display_data"
    }
   ],
   "source": [
    "sns.boxplot(data=data, x='genre', y='total_sales', showfliers=False)\n",
    "plt.xlabel('Жанры')\n",
    "plt.ylabel('Продажи')\n",
    "plt.show()"
   ]
  },
  {
   "cell_type": "markdown",
   "id": "approved-difference",
   "metadata": {},
   "source": [
    "Отобразим также основные статистические показатели применительно к Общим продажам для разных жанров и платформ в табличном виде, упорядочив по медиане по убыванию"
   ]
  },
  {
   "cell_type": "code",
   "execution_count": 45,
   "id": "genetic-breakdown",
   "metadata": {},
   "outputs": [
    {
     "data": {
      "text/html": [
       "<div>\n",
       "<style scoped>\n",
       "    .dataframe tbody tr th:only-of-type {\n",
       "        vertical-align: middle;\n",
       "    }\n",
       "\n",
       "    .dataframe tbody tr th {\n",
       "        vertical-align: top;\n",
       "    }\n",
       "\n",
       "    .dataframe thead th {\n",
       "        text-align: right;\n",
       "    }\n",
       "</style>\n",
       "<table border=\"1\" class=\"dataframe\">\n",
       "  <thead>\n",
       "    <tr style=\"text-align: right;\">\n",
       "      <th></th>\n",
       "      <th>count</th>\n",
       "      <th>mean</th>\n",
       "      <th>std</th>\n",
       "      <th>min</th>\n",
       "      <th>25%</th>\n",
       "      <th>50%</th>\n",
       "      <th>75%</th>\n",
       "      <th>max</th>\n",
       "    </tr>\n",
       "    <tr>\n",
       "      <th>genre</th>\n",
       "      <th></th>\n",
       "      <th></th>\n",
       "      <th></th>\n",
       "      <th></th>\n",
       "      <th></th>\n",
       "      <th></th>\n",
       "      <th></th>\n",
       "      <th></th>\n",
       "    </tr>\n",
       "  </thead>\n",
       "  <tbody>\n",
       "    <tr>\n",
       "      <th>shooter</th>\n",
       "      <td>410.0</td>\n",
       "      <td>1.170098</td>\n",
       "      <td>2.294009</td>\n",
       "      <td>0.01</td>\n",
       "      <td>0.11</td>\n",
       "      <td>0.385</td>\n",
       "      <td>1.0675</td>\n",
       "      <td>14.73</td>\n",
       "    </tr>\n",
       "    <tr>\n",
       "      <th>platform</th>\n",
       "      <td>153.0</td>\n",
       "      <td>0.782484</td>\n",
       "      <td>1.571089</td>\n",
       "      <td>0.01</td>\n",
       "      <td>0.09</td>\n",
       "      <td>0.210</td>\n",
       "      <td>0.7800</td>\n",
       "      <td>10.81</td>\n",
       "    </tr>\n",
       "    <tr>\n",
       "      <th>sports</th>\n",
       "      <td>575.0</td>\n",
       "      <td>0.571113</td>\n",
       "      <td>1.031159</td>\n",
       "      <td>0.01</td>\n",
       "      <td>0.08</td>\n",
       "      <td>0.200</td>\n",
       "      <td>0.5800</td>\n",
       "      <td>8.58</td>\n",
       "    </tr>\n",
       "    <tr>\n",
       "      <th>fighting</th>\n",
       "      <td>199.0</td>\n",
       "      <td>0.410000</td>\n",
       "      <td>0.748987</td>\n",
       "      <td>0.01</td>\n",
       "      <td>0.07</td>\n",
       "      <td>0.180</td>\n",
       "      <td>0.4700</td>\n",
       "      <td>7.55</td>\n",
       "    </tr>\n",
       "    <tr>\n",
       "      <th>racing</th>\n",
       "      <td>237.0</td>\n",
       "      <td>0.517637</td>\n",
       "      <td>1.277156</td>\n",
       "      <td>0.01</td>\n",
       "      <td>0.06</td>\n",
       "      <td>0.170</td>\n",
       "      <td>0.4900</td>\n",
       "      <td>12.65</td>\n",
       "    </tr>\n",
       "    <tr>\n",
       "      <th>role-playing</th>\n",
       "      <td>568.0</td>\n",
       "      <td>0.555070</td>\n",
       "      <td>1.385345</td>\n",
       "      <td>0.01</td>\n",
       "      <td>0.06</td>\n",
       "      <td>0.150</td>\n",
       "      <td>0.4550</td>\n",
       "      <td>15.13</td>\n",
       "    </tr>\n",
       "    <tr>\n",
       "      <th>action</th>\n",
       "      <td>1495.0</td>\n",
       "      <td>0.450227</td>\n",
       "      <td>1.085269</td>\n",
       "      <td>0.01</td>\n",
       "      <td>0.05</td>\n",
       "      <td>0.140</td>\n",
       "      <td>0.4200</td>\n",
       "      <td>21.05</td>\n",
       "    </tr>\n",
       "    <tr>\n",
       "      <th>misc</th>\n",
       "      <td>576.0</td>\n",
       "      <td>0.407222</td>\n",
       "      <td>1.319522</td>\n",
       "      <td>0.01</td>\n",
       "      <td>0.05</td>\n",
       "      <td>0.130</td>\n",
       "      <td>0.3100</td>\n",
       "      <td>21.82</td>\n",
       "    </tr>\n",
       "    <tr>\n",
       "      <th>simulation</th>\n",
       "      <td>217.0</td>\n",
       "      <td>0.330645</td>\n",
       "      <td>0.850421</td>\n",
       "      <td>0.01</td>\n",
       "      <td>0.03</td>\n",
       "      <td>0.100</td>\n",
       "      <td>0.2600</td>\n",
       "      <td>9.17</td>\n",
       "    </tr>\n",
       "    <tr>\n",
       "      <th>strategy</th>\n",
       "      <td>170.0</td>\n",
       "      <td>0.210824</td>\n",
       "      <td>0.454106</td>\n",
       "      <td>0.01</td>\n",
       "      <td>0.03</td>\n",
       "      <td>0.080</td>\n",
       "      <td>0.2400</td>\n",
       "      <td>4.83</td>\n",
       "    </tr>\n",
       "    <tr>\n",
       "      <th>puzzle</th>\n",
       "      <td>114.0</td>\n",
       "      <td>0.180702</td>\n",
       "      <td>0.365629</td>\n",
       "      <td>0.01</td>\n",
       "      <td>0.02</td>\n",
       "      <td>0.070</td>\n",
       "      <td>0.1300</td>\n",
       "      <td>2.67</td>\n",
       "    </tr>\n",
       "    <tr>\n",
       "      <th>adventure</th>\n",
       "      <td>563.0</td>\n",
       "      <td>0.108348</td>\n",
       "      <td>0.276077</td>\n",
       "      <td>0.01</td>\n",
       "      <td>0.02</td>\n",
       "      <td>0.030</td>\n",
       "      <td>0.0900</td>\n",
       "      <td>3.17</td>\n",
       "    </tr>\n",
       "  </tbody>\n",
       "</table>\n",
       "</div>"
      ],
      "text/plain": [
       "               count      mean       std   min   25%    50%     75%    max\n",
       "genre                                                                     \n",
       "shooter        410.0  1.170098  2.294009  0.01  0.11  0.385  1.0675  14.73\n",
       "platform       153.0  0.782484  1.571089  0.01  0.09  0.210  0.7800  10.81\n",
       "sports         575.0  0.571113  1.031159  0.01  0.08  0.200  0.5800   8.58\n",
       "fighting       199.0  0.410000  0.748987  0.01  0.07  0.180  0.4700   7.55\n",
       "racing         237.0  0.517637  1.277156  0.01  0.06  0.170  0.4900  12.65\n",
       "role-playing   568.0  0.555070  1.385345  0.01  0.06  0.150  0.4550  15.13\n",
       "action        1495.0  0.450227  1.085269  0.01  0.05  0.140  0.4200  21.05\n",
       "misc           576.0  0.407222  1.319522  0.01  0.05  0.130  0.3100  21.82\n",
       "simulation     217.0  0.330645  0.850421  0.01  0.03  0.100  0.2600   9.17\n",
       "strategy       170.0  0.210824  0.454106  0.01  0.03  0.080  0.2400   4.83\n",
       "puzzle         114.0  0.180702  0.365629  0.01  0.02  0.070  0.1300   2.67\n",
       "adventure      563.0  0.108348  0.276077  0.01  0.02  0.030  0.0900   3.17"
      ]
     },
     "metadata": {},
     "output_type": "display_data"
    },
    {
     "data": {
      "text/html": [
       "<div>\n",
       "<style scoped>\n",
       "    .dataframe tbody tr th:only-of-type {\n",
       "        vertical-align: middle;\n",
       "    }\n",
       "\n",
       "    .dataframe tbody tr th {\n",
       "        vertical-align: top;\n",
       "    }\n",
       "\n",
       "    .dataframe thead th {\n",
       "        text-align: right;\n",
       "    }\n",
       "</style>\n",
       "<table border=\"1\" class=\"dataframe\">\n",
       "  <thead>\n",
       "    <tr style=\"text-align: right;\">\n",
       "      <th></th>\n",
       "      <th>count</th>\n",
       "      <th>mean</th>\n",
       "      <th>std</th>\n",
       "      <th>min</th>\n",
       "      <th>25%</th>\n",
       "      <th>50%</th>\n",
       "      <th>75%</th>\n",
       "      <th>max</th>\n",
       "    </tr>\n",
       "    <tr>\n",
       "      <th>platform</th>\n",
       "      <th></th>\n",
       "      <th></th>\n",
       "      <th></th>\n",
       "      <th></th>\n",
       "      <th></th>\n",
       "      <th></th>\n",
       "      <th></th>\n",
       "      <th></th>\n",
       "    </tr>\n",
       "  </thead>\n",
       "  <tbody>\n",
       "    <tr>\n",
       "      <th>x360</th>\n",
       "      <td>680.0</td>\n",
       "      <td>0.809426</td>\n",
       "      <td>1.818539</td>\n",
       "      <td>0.01</td>\n",
       "      <td>0.10</td>\n",
       "      <td>0.27</td>\n",
       "      <td>0.7825</td>\n",
       "      <td>21.82</td>\n",
       "    </tr>\n",
       "    <tr>\n",
       "      <th>ps3</th>\n",
       "      <td>889.0</td>\n",
       "      <td>0.661125</td>\n",
       "      <td>1.459651</td>\n",
       "      <td>0.01</td>\n",
       "      <td>0.08</td>\n",
       "      <td>0.23</td>\n",
       "      <td>0.6800</td>\n",
       "      <td>21.05</td>\n",
       "    </tr>\n",
       "    <tr>\n",
       "      <th>wiiu</th>\n",
       "      <td>147.0</td>\n",
       "      <td>0.559116</td>\n",
       "      <td>1.058836</td>\n",
       "      <td>0.01</td>\n",
       "      <td>0.08</td>\n",
       "      <td>0.22</td>\n",
       "      <td>0.5250</td>\n",
       "      <td>7.09</td>\n",
       "    </tr>\n",
       "    <tr>\n",
       "      <th>xone</th>\n",
       "      <td>247.0</td>\n",
       "      <td>0.645020</td>\n",
       "      <td>1.036139</td>\n",
       "      <td>0.01</td>\n",
       "      <td>0.06</td>\n",
       "      <td>0.22</td>\n",
       "      <td>0.6850</td>\n",
       "      <td>7.39</td>\n",
       "    </tr>\n",
       "    <tr>\n",
       "      <th>ps4</th>\n",
       "      <td>392.0</td>\n",
       "      <td>0.801378</td>\n",
       "      <td>1.609456</td>\n",
       "      <td>0.01</td>\n",
       "      <td>0.06</td>\n",
       "      <td>0.20</td>\n",
       "      <td>0.7300</td>\n",
       "      <td>14.63</td>\n",
       "    </tr>\n",
       "    <tr>\n",
       "      <th>wii</th>\n",
       "      <td>450.0</td>\n",
       "      <td>0.495489</td>\n",
       "      <td>1.118375</td>\n",
       "      <td>0.01</td>\n",
       "      <td>0.08</td>\n",
       "      <td>0.18</td>\n",
       "      <td>0.4200</td>\n",
       "      <td>10.12</td>\n",
       "    </tr>\n",
       "    <tr>\n",
       "      <th>3ds</th>\n",
       "      <td>512.0</td>\n",
       "      <td>0.503535</td>\n",
       "      <td>1.441271</td>\n",
       "      <td>0.01</td>\n",
       "      <td>0.05</td>\n",
       "      <td>0.12</td>\n",
       "      <td>0.3325</td>\n",
       "      <td>14.60</td>\n",
       "    </tr>\n",
       "    <tr>\n",
       "      <th>ds</th>\n",
       "      <td>507.0</td>\n",
       "      <td>0.244083</td>\n",
       "      <td>0.815643</td>\n",
       "      <td>0.01</td>\n",
       "      <td>0.04</td>\n",
       "      <td>0.10</td>\n",
       "      <td>0.2000</td>\n",
       "      <td>15.13</td>\n",
       "    </tr>\n",
       "    <tr>\n",
       "      <th>pc</th>\n",
       "      <td>479.0</td>\n",
       "      <td>0.254614</td>\n",
       "      <td>0.530874</td>\n",
       "      <td>0.01</td>\n",
       "      <td>0.03</td>\n",
       "      <td>0.08</td>\n",
       "      <td>0.2300</td>\n",
       "      <td>5.14</td>\n",
       "    </tr>\n",
       "    <tr>\n",
       "      <th>ps2</th>\n",
       "      <td>45.0</td>\n",
       "      <td>0.135333</td>\n",
       "      <td>0.180638</td>\n",
       "      <td>0.01</td>\n",
       "      <td>0.02</td>\n",
       "      <td>0.06</td>\n",
       "      <td>0.1300</td>\n",
       "      <td>0.76</td>\n",
       "    </tr>\n",
       "    <tr>\n",
       "      <th>psp</th>\n",
       "      <td>500.0</td>\n",
       "      <td>0.128100</td>\n",
       "      <td>0.288250</td>\n",
       "      <td>0.01</td>\n",
       "      <td>0.02</td>\n",
       "      <td>0.05</td>\n",
       "      <td>0.1325</td>\n",
       "      <td>4.87</td>\n",
       "    </tr>\n",
       "    <tr>\n",
       "      <th>psv</th>\n",
       "      <td>429.0</td>\n",
       "      <td>0.125431</td>\n",
       "      <td>0.212341</td>\n",
       "      <td>0.01</td>\n",
       "      <td>0.02</td>\n",
       "      <td>0.05</td>\n",
       "      <td>0.1300</td>\n",
       "      <td>1.96</td>\n",
       "    </tr>\n",
       "  </tbody>\n",
       "</table>\n",
       "</div>"
      ],
      "text/plain": [
       "          count      mean       std   min   25%   50%     75%    max\n",
       "platform                                                            \n",
       "x360      680.0  0.809426  1.818539  0.01  0.10  0.27  0.7825  21.82\n",
       "ps3       889.0  0.661125  1.459651  0.01  0.08  0.23  0.6800  21.05\n",
       "wiiu      147.0  0.559116  1.058836  0.01  0.08  0.22  0.5250   7.09\n",
       "xone      247.0  0.645020  1.036139  0.01  0.06  0.22  0.6850   7.39\n",
       "ps4       392.0  0.801378  1.609456  0.01  0.06  0.20  0.7300  14.63\n",
       "wii       450.0  0.495489  1.118375  0.01  0.08  0.18  0.4200  10.12\n",
       "3ds       512.0  0.503535  1.441271  0.01  0.05  0.12  0.3325  14.60\n",
       "ds        507.0  0.244083  0.815643  0.01  0.04  0.10  0.2000  15.13\n",
       "pc        479.0  0.254614  0.530874  0.01  0.03  0.08  0.2300   5.14\n",
       "ps2        45.0  0.135333  0.180638  0.01  0.02  0.06  0.1300   0.76\n",
       "psp       500.0  0.128100  0.288250  0.01  0.02  0.05  0.1325   4.87\n",
       "psv       429.0  0.125431  0.212341  0.01  0.02  0.05  0.1300   1.96"
      ]
     },
     "metadata": {},
     "output_type": "display_data"
    },
    {
     "data": {
      "text/html": [
       "<style>\n",
       ".output {\n",
       "    flex-direction: row;\n",
       "}\n",
       "</style>"
      ],
      "text/plain": [
       "<IPython.core.display.HTML object>"
      ]
     },
     "execution_count": 45,
     "metadata": {},
     "output_type": "execute_result"
    }
   ],
   "source": [
    "CSS = \"\"\"\n",
    ".output {\n",
    "    flex-direction: row;\n",
    "}\n",
    "\"\"\"\n",
    "display(data.groupby('genre')['total_sales'].describe().sort_values(by='50%', ascending=False))\n",
    "display(data.groupby('platform')['total_sales'].describe().sort_values(by='50%', ascending=False))\n",
    "HTML('<style>{}</style>'.format(CSS))"
   ]
  },
  {
   "cell_type": "markdown",
   "id": "environmental-november",
   "metadata": {},
   "source": [
    "### Вывод \n",
    "Шутеры выглядят надёжнее всего с точки зрения продаж - выше медианное значение и больше диапазон между 25% и 75% квартилями, и достаточно часто \"выстреливают\" хитами, как показал график выше.\n",
    "Также стоит обратить внимание на платформеры, спортивные игры, гонки, ролевые игры, экшны и файтинги.\n",
    "Симуляторы, стратегии, головоломки и приключенческие игры (скорее всего сюда попали квесты) являются более нишевыми жанрами и не столь популярны."
   ]
  },
  {
   "cell_type": "markdown",
   "id": "continued-haiti",
   "metadata": {},
   "source": [
    "# Анализ продаж по регионам"
   ]
  },
  {
   "cell_type": "markdown",
   "id": "marine-module",
   "metadata": {},
   "source": [
    "\n",
    "Самые популярные жанры (топ-5). <br>\n",
    "Проверим, влияет ли рейтинг ESRB на продажи в отдельном регионе?"
   ]
  },
  {
   "cell_type": "markdown",
   "id": "hispanic-mainland",
   "metadata": {},
   "source": [
    "Исследуем различия между регионами, для начала проверим, какие платформы пользуются популярностью"
   ]
  },
  {
   "cell_type": "code",
   "execution_count": 46,
   "id": "pending-ireland",
   "metadata": {},
   "outputs": [],
   "source": [
    "top_jp = (data.groupby('platform')[['jp_sales']].sum())\n",
    "top_eu = (data.groupby('platform')[['eu_sales']].sum())\n",
    "top_na = (data.groupby('platform')[['na_sales']].sum())"
   ]
  },
  {
   "cell_type": "code",
   "execution_count": 47,
   "id": "directed-humor",
   "metadata": {},
   "outputs": [
    {
     "data": {
      "text/html": [
       "<div>\n",
       "<style scoped>\n",
       "    .dataframe tbody tr th:only-of-type {\n",
       "        vertical-align: middle;\n",
       "    }\n",
       "\n",
       "    .dataframe tbody tr th {\n",
       "        vertical-align: top;\n",
       "    }\n",
       "\n",
       "    .dataframe thead th {\n",
       "        text-align: right;\n",
       "    }\n",
       "</style>\n",
       "<table border=\"1\" class=\"dataframe\">\n",
       "  <thead>\n",
       "    <tr style=\"text-align: right;\">\n",
       "      <th></th>\n",
       "      <th>na_sales</th>\n",
       "    </tr>\n",
       "    <tr>\n",
       "      <th>platform</th>\n",
       "      <th></th>\n",
       "    </tr>\n",
       "  </thead>\n",
       "  <tbody>\n",
       "    <tr>\n",
       "      <th>x360</th>\n",
       "      <td>334.18</td>\n",
       "    </tr>\n",
       "    <tr>\n",
       "      <th>ps3</th>\n",
       "      <td>229.25</td>\n",
       "    </tr>\n",
       "    <tr>\n",
       "      <th>wii</th>\n",
       "      <td>121.20</td>\n",
       "    </tr>\n",
       "    <tr>\n",
       "      <th>ps4</th>\n",
       "      <td>108.74</td>\n",
       "    </tr>\n",
       "    <tr>\n",
       "      <th>xone</th>\n",
       "      <td>93.12</td>\n",
       "    </tr>\n",
       "  </tbody>\n",
       "</table>\n",
       "</div>"
      ],
      "text/plain": [
       "          na_sales\n",
       "platform          \n",
       "x360        334.18\n",
       "ps3         229.25\n",
       "wii         121.20\n",
       "ps4         108.74\n",
       "xone         93.12"
      ]
     },
     "metadata": {},
     "output_type": "display_data"
    },
    {
     "data": {
      "text/html": [
       "<div>\n",
       "<style scoped>\n",
       "    .dataframe tbody tr th:only-of-type {\n",
       "        vertical-align: middle;\n",
       "    }\n",
       "\n",
       "    .dataframe tbody tr th {\n",
       "        vertical-align: top;\n",
       "    }\n",
       "\n",
       "    .dataframe thead th {\n",
       "        text-align: right;\n",
       "    }\n",
       "</style>\n",
       "<table border=\"1\" class=\"dataframe\">\n",
       "  <thead>\n",
       "    <tr style=\"text-align: right;\">\n",
       "      <th></th>\n",
       "      <th>eu_sales</th>\n",
       "    </tr>\n",
       "    <tr>\n",
       "      <th>platform</th>\n",
       "      <th></th>\n",
       "    </tr>\n",
       "  </thead>\n",
       "  <tbody>\n",
       "    <tr>\n",
       "      <th>ps3</th>\n",
       "      <td>213.60</td>\n",
       "    </tr>\n",
       "    <tr>\n",
       "      <th>x360</th>\n",
       "      <td>163.41</td>\n",
       "    </tr>\n",
       "    <tr>\n",
       "      <th>ps4</th>\n",
       "      <td>141.09</td>\n",
       "    </tr>\n",
       "    <tr>\n",
       "      <th>pc</th>\n",
       "      <td>68.82</td>\n",
       "    </tr>\n",
       "    <tr>\n",
       "      <th>wii</th>\n",
       "      <td>65.91</td>\n",
       "    </tr>\n",
       "  </tbody>\n",
       "</table>\n",
       "</div>"
      ],
      "text/plain": [
       "          eu_sales\n",
       "platform          \n",
       "ps3         213.60\n",
       "x360        163.41\n",
       "ps4         141.09\n",
       "pc           68.82\n",
       "wii          65.91"
      ]
     },
     "metadata": {},
     "output_type": "display_data"
    },
    {
     "data": {
      "text/html": [
       "<div>\n",
       "<style scoped>\n",
       "    .dataframe tbody tr th:only-of-type {\n",
       "        vertical-align: middle;\n",
       "    }\n",
       "\n",
       "    .dataframe tbody tr th {\n",
       "        vertical-align: top;\n",
       "    }\n",
       "\n",
       "    .dataframe thead th {\n",
       "        text-align: right;\n",
       "    }\n",
       "</style>\n",
       "<table border=\"1\" class=\"dataframe\">\n",
       "  <thead>\n",
       "    <tr style=\"text-align: right;\">\n",
       "      <th></th>\n",
       "      <th>jp_sales</th>\n",
       "    </tr>\n",
       "    <tr>\n",
       "      <th>platform</th>\n",
       "      <th></th>\n",
       "    </tr>\n",
       "  </thead>\n",
       "  <tbody>\n",
       "    <tr>\n",
       "      <th>3ds</th>\n",
       "      <td>100.62</td>\n",
       "    </tr>\n",
       "    <tr>\n",
       "      <th>ps3</th>\n",
       "      <td>59.26</td>\n",
       "    </tr>\n",
       "    <tr>\n",
       "      <th>psp</th>\n",
       "      <td>42.20</td>\n",
       "    </tr>\n",
       "    <tr>\n",
       "      <th>ds</th>\n",
       "      <td>27.90</td>\n",
       "    </tr>\n",
       "    <tr>\n",
       "      <th>psv</th>\n",
       "      <td>21.84</td>\n",
       "    </tr>\n",
       "  </tbody>\n",
       "</table>\n",
       "</div>"
      ],
      "text/plain": [
       "          jp_sales\n",
       "platform          \n",
       "3ds         100.62\n",
       "ps3          59.26\n",
       "psp          42.20\n",
       "ds           27.90\n",
       "psv          21.84"
      ]
     },
     "metadata": {},
     "output_type": "display_data"
    },
    {
     "data": {
      "text/html": [
       "<style>\n",
       ".output {\n",
       "    flex-direction: row;\n",
       "}\n",
       "</style>"
      ],
      "text/plain": [
       "<IPython.core.display.HTML object>"
      ]
     },
     "execution_count": 47,
     "metadata": {},
     "output_type": "execute_result"
    }
   ],
   "source": [
    "CSS = \"\"\"\n",
    ".output {\n",
    "    flex-direction: row;\n",
    "}\n",
    "\"\"\"\n",
    "display(top_na.sort_values(by='na_sales', ascending=False).head())\n",
    "display(top_eu.sort_values(by='eu_sales', ascending=False).head())\n",
    "display(top_jp.sort_values(by='jp_sales', ascending=False).head())\n",
    "HTML('<style>{}</style>'.format(CSS))\n"
   ]
  },
  {
   "cell_type": "markdown",
   "id": "adolescent-winner",
   "metadata": {},
   "source": [
    "### Вывод\n",
    "Больше всего продаж на североамериканском рынке, с большим отрывом x360 от ps4, и заметной популярностью ps4 из новой пары консолей.\n",
    "Японский рынок отличается большей любовью к портативным консолям. Если будем работать там, необходимо будет следить за потенциальным появлением консоли - наследника 3ds.\n",
    "На европейском рынке можно выделить популярность консолей playstation для обеих пар ps-xbox, попавших в нашу выборку, а так же отметить относительную популярность персональных компьютеров как игровой платформы. Возможно европейцы менее склонны к пиратству, или там оно лучше пресекается\n",
    "<br><br>\n",
    "Далее изучим популярные для каждого региона жанры"
   ]
  },
  {
   "cell_type": "code",
   "execution_count": 48,
   "id": "progressive-value",
   "metadata": {},
   "outputs": [],
   "source": [
    "top_jp_genre = (data.groupby('genre')[['jp_sales']].sum())\n",
    "top_na_genre = (data.groupby('genre')[['na_sales']].sum())\n",
    "top_eu_genre = (data.groupby('genre')[['eu_sales']].sum())"
   ]
  },
  {
   "cell_type": "code",
   "execution_count": 49,
   "id": "static-bandwidth",
   "metadata": {},
   "outputs": [
    {
     "data": {
      "text/html": [
       "<div>\n",
       "<style scoped>\n",
       "    .dataframe tbody tr th:only-of-type {\n",
       "        vertical-align: middle;\n",
       "    }\n",
       "\n",
       "    .dataframe tbody tr th {\n",
       "        vertical-align: top;\n",
       "    }\n",
       "\n",
       "    .dataframe thead th {\n",
       "        text-align: right;\n",
       "    }\n",
       "</style>\n",
       "<table border=\"1\" class=\"dataframe\">\n",
       "  <thead>\n",
       "    <tr style=\"text-align: right;\">\n",
       "      <th></th>\n",
       "      <th>na_sales</th>\n",
       "    </tr>\n",
       "    <tr>\n",
       "      <th>genre</th>\n",
       "      <th></th>\n",
       "    </tr>\n",
       "  </thead>\n",
       "  <tbody>\n",
       "    <tr>\n",
       "      <th>action</th>\n",
       "      <td>290.64</td>\n",
       "    </tr>\n",
       "    <tr>\n",
       "      <th>shooter</th>\n",
       "      <td>237.47</td>\n",
       "    </tr>\n",
       "    <tr>\n",
       "      <th>sports</th>\n",
       "      <td>156.81</td>\n",
       "    </tr>\n",
       "    <tr>\n",
       "      <th>misc</th>\n",
       "      <td>123.80</td>\n",
       "    </tr>\n",
       "    <tr>\n",
       "      <th>role-playing</th>\n",
       "      <td>112.05</td>\n",
       "    </tr>\n",
       "  </tbody>\n",
       "</table>\n",
       "</div>"
      ],
      "text/plain": [
       "              na_sales\n",
       "genre                 \n",
       "action          290.64\n",
       "shooter         237.47\n",
       "sports          156.81\n",
       "misc            123.80\n",
       "role-playing    112.05"
      ]
     },
     "metadata": {},
     "output_type": "display_data"
    },
    {
     "data": {
      "text/html": [
       "<div>\n",
       "<style scoped>\n",
       "    .dataframe tbody tr th:only-of-type {\n",
       "        vertical-align: middle;\n",
       "    }\n",
       "\n",
       "    .dataframe tbody tr th {\n",
       "        vertical-align: top;\n",
       "    }\n",
       "\n",
       "    .dataframe thead th {\n",
       "        text-align: right;\n",
       "    }\n",
       "</style>\n",
       "<table border=\"1\" class=\"dataframe\">\n",
       "  <thead>\n",
       "    <tr style=\"text-align: right;\">\n",
       "      <th></th>\n",
       "      <th>eu_sales</th>\n",
       "    </tr>\n",
       "    <tr>\n",
       "      <th>genre</th>\n",
       "      <th></th>\n",
       "    </tr>\n",
       "  </thead>\n",
       "  <tbody>\n",
       "    <tr>\n",
       "      <th>action</th>\n",
       "      <td>233.63</td>\n",
       "    </tr>\n",
       "    <tr>\n",
       "      <th>shooter</th>\n",
       "      <td>171.45</td>\n",
       "    </tr>\n",
       "    <tr>\n",
       "      <th>sports</th>\n",
       "      <td>116.84</td>\n",
       "    </tr>\n",
       "    <tr>\n",
       "      <th>role-playing</th>\n",
       "      <td>75.48</td>\n",
       "    </tr>\n",
       "    <tr>\n",
       "      <th>misc</th>\n",
       "      <td>66.09</td>\n",
       "    </tr>\n",
       "  </tbody>\n",
       "</table>\n",
       "</div>"
      ],
      "text/plain": [
       "              eu_sales\n",
       "genre                 \n",
       "action          233.63\n",
       "shooter         171.45\n",
       "sports          116.84\n",
       "role-playing     75.48\n",
       "misc             66.09"
      ]
     },
     "metadata": {},
     "output_type": "display_data"
    },
    {
     "data": {
      "text/html": [
       "<div>\n",
       "<style scoped>\n",
       "    .dataframe tbody tr th:only-of-type {\n",
       "        vertical-align: middle;\n",
       "    }\n",
       "\n",
       "    .dataframe tbody tr th {\n",
       "        vertical-align: top;\n",
       "    }\n",
       "\n",
       "    .dataframe thead th {\n",
       "        text-align: right;\n",
       "    }\n",
       "</style>\n",
       "<table border=\"1\" class=\"dataframe\">\n",
       "  <thead>\n",
       "    <tr style=\"text-align: right;\">\n",
       "      <th></th>\n",
       "      <th>jp_sales</th>\n",
       "    </tr>\n",
       "    <tr>\n",
       "      <th>genre</th>\n",
       "      <th></th>\n",
       "    </tr>\n",
       "  </thead>\n",
       "  <tbody>\n",
       "    <tr>\n",
       "      <th>role-playing</th>\n",
       "      <td>103.54</td>\n",
       "    </tr>\n",
       "    <tr>\n",
       "      <th>action</th>\n",
       "      <td>72.20</td>\n",
       "    </tr>\n",
       "    <tr>\n",
       "      <th>misc</th>\n",
       "      <td>24.29</td>\n",
       "    </tr>\n",
       "    <tr>\n",
       "      <th>platform</th>\n",
       "      <td>15.81</td>\n",
       "    </tr>\n",
       "    <tr>\n",
       "      <th>adventure</th>\n",
       "      <td>15.67</td>\n",
       "    </tr>\n",
       "  </tbody>\n",
       "</table>\n",
       "</div>"
      ],
      "text/plain": [
       "              jp_sales\n",
       "genre                 \n",
       "role-playing    103.54\n",
       "action           72.20\n",
       "misc             24.29\n",
       "platform         15.81\n",
       "adventure        15.67"
      ]
     },
     "metadata": {},
     "output_type": "display_data"
    },
    {
     "data": {
      "text/html": [
       "<style>\n",
       ".output {\n",
       "    flex-direction: row;\n",
       "}\n",
       "</style>"
      ],
      "text/plain": [
       "<IPython.core.display.HTML object>"
      ]
     },
     "execution_count": 49,
     "metadata": {},
     "output_type": "execute_result"
    }
   ],
   "source": [
    "CSS = \"\"\"\n",
    ".output {\n",
    "    flex-direction: row;\n",
    "}\n",
    "\"\"\"\n",
    "display(top_na_genre.sort_values(by='na_sales', ascending=False).head())\n",
    "display(top_eu_genre.sort_values(by='eu_sales', ascending=False).head())\n",
    "display(top_jp_genre.sort_values(by='jp_sales', ascending=False).head())\n",
    "HTML('<style>{}</style>'.format(CSS))"
   ]
  },
  {
   "cell_type": "markdown",
   "id": "confirmed-failure",
   "metadata": {},
   "source": [
    "### Вывод \n",
    "Почти одинаково выглядят топы жанров для европейского и американского рынков, тогда как японский отличается популярностью ролевых игр, платформеров и приключений"
   ]
  },
  {
   "cell_type": "markdown",
   "id": "deadly-advancement",
   "metadata": {},
   "source": [
    "Проверим влияние рейтинга ESRB на продажи в разных регионах"
   ]
  },
  {
   "cell_type": "code",
   "execution_count": 50,
   "id": "photographic-strengthening",
   "metadata": {},
   "outputs": [
    {
     "data": {
      "text/html": [
       "<div>\n",
       "<style scoped>\n",
       "    .dataframe tbody tr th:only-of-type {\n",
       "        vertical-align: middle;\n",
       "    }\n",
       "\n",
       "    .dataframe tbody tr th {\n",
       "        vertical-align: top;\n",
       "    }\n",
       "\n",
       "    .dataframe thead th {\n",
       "        text-align: right;\n",
       "    }\n",
       "</style>\n",
       "<table border=\"1\" class=\"dataframe\">\n",
       "  <thead>\n",
       "    <tr style=\"text-align: right;\">\n",
       "      <th></th>\n",
       "      <th>name</th>\n",
       "      <th>platform</th>\n",
       "      <th>year_of_release</th>\n",
       "      <th>genre</th>\n",
       "      <th>other_sales</th>\n",
       "      <th>critic_score</th>\n",
       "      <th>user_score</th>\n",
       "      <th>rating</th>\n",
       "      <th>total_sales</th>\n",
       "      <th>Region_sales</th>\n",
       "      <th>value</th>\n",
       "    </tr>\n",
       "  </thead>\n",
       "  <tbody>\n",
       "    <tr>\n",
       "      <th>0</th>\n",
       "      <td>Kinect Adventures!</td>\n",
       "      <td>x360</td>\n",
       "      <td>2010</td>\n",
       "      <td>misc</td>\n",
       "      <td>1.69</td>\n",
       "      <td>61.0</td>\n",
       "      <td>63</td>\n",
       "      <td>E</td>\n",
       "      <td>21.82</td>\n",
       "      <td>na_sales</td>\n",
       "      <td>15.00</td>\n",
       "    </tr>\n",
       "    <tr>\n",
       "      <th>1</th>\n",
       "      <td>Grand Theft Auto V</td>\n",
       "      <td>ps3</td>\n",
       "      <td>2013</td>\n",
       "      <td>action</td>\n",
       "      <td>3.96</td>\n",
       "      <td>97.0</td>\n",
       "      <td>82</td>\n",
       "      <td>M</td>\n",
       "      <td>21.05</td>\n",
       "      <td>na_sales</td>\n",
       "      <td>7.02</td>\n",
       "    </tr>\n",
       "    <tr>\n",
       "      <th>2</th>\n",
       "      <td>Grand Theft Auto V</td>\n",
       "      <td>x360</td>\n",
       "      <td>2013</td>\n",
       "      <td>action</td>\n",
       "      <td>1.41</td>\n",
       "      <td>97.0</td>\n",
       "      <td>81</td>\n",
       "      <td>M</td>\n",
       "      <td>16.27</td>\n",
       "      <td>na_sales</td>\n",
       "      <td>9.66</td>\n",
       "    </tr>\n",
       "    <tr>\n",
       "      <th>3</th>\n",
       "      <td>Pokemon Black/Pokemon White</td>\n",
       "      <td>ds</td>\n",
       "      <td>2010</td>\n",
       "      <td>role-playing</td>\n",
       "      <td>0.80</td>\n",
       "      <td>-1.0</td>\n",
       "      <td>-10</td>\n",
       "      <td>None</td>\n",
       "      <td>15.13</td>\n",
       "      <td>na_sales</td>\n",
       "      <td>5.51</td>\n",
       "    </tr>\n",
       "    <tr>\n",
       "      <th>4</th>\n",
       "      <td>Call of Duty: Modern Warfare 3</td>\n",
       "      <td>x360</td>\n",
       "      <td>2011</td>\n",
       "      <td>shooter</td>\n",
       "      <td>1.32</td>\n",
       "      <td>88.0</td>\n",
       "      <td>34</td>\n",
       "      <td>M</td>\n",
       "      <td>14.73</td>\n",
       "      <td>na_sales</td>\n",
       "      <td>9.04</td>\n",
       "    </tr>\n",
       "  </tbody>\n",
       "</table>\n",
       "</div>"
      ],
      "text/plain": [
       "                             name platform  year_of_release         genre  \\\n",
       "0              Kinect Adventures!     x360             2010          misc   \n",
       "1              Grand Theft Auto V      ps3             2013        action   \n",
       "2              Grand Theft Auto V     x360             2013        action   \n",
       "3     Pokemon Black/Pokemon White       ds             2010  role-playing   \n",
       "4  Call of Duty: Modern Warfare 3     x360             2011       shooter   \n",
       "\n",
       "   other_sales  critic_score  user_score rating  total_sales Region_sales  \\\n",
       "0         1.69          61.0          63      E        21.82     na_sales   \n",
       "1         3.96          97.0          82      M        21.05     na_sales   \n",
       "2         1.41          97.0          81      M        16.27     na_sales   \n",
       "3         0.80          -1.0         -10   None        15.13     na_sales   \n",
       "4         1.32          88.0          34      M        14.73     na_sales   \n",
       "\n",
       "   value  \n",
       "0  15.00  \n",
       "1   7.02  \n",
       "2   9.66  \n",
       "3   5.51  \n",
       "4   9.04  "
      ]
     },
     "execution_count": 50,
     "metadata": {},
     "output_type": "execute_result"
    }
   ],
   "source": [
    "cols = data.columns.to_list()\n",
    "melted_df = pd.melt(data, \n",
    "                    id_vars=['name',\n",
    " 'platform',\n",
    " 'year_of_release',\n",
    " 'genre',\n",
    " 'other_sales',\n",
    " 'critic_score',\n",
    " 'user_score',\n",
    " 'rating',\n",
    " 'total_sales'], # Variables to keep\n",
    "                    var_name=\"Region_sales\") # Name of melted variable\n",
    "melted_df.head()"
   ]
  },
  {
   "cell_type": "code",
   "execution_count": 51,
   "id": "difficult-greene",
   "metadata": {},
   "outputs": [
    {
     "data": {
      "image/png": "[encoded data removed]",
      "text/plain": [
       "<Figure size 1080x595.44 with 1 Axes>"
      ]
     },
     "metadata": {},
     "output_type": "display_data"
    }
   ],
   "source": [
    "sns.barplot(data=melted_df, y='value',  x='rating', hue='Region_sales', alpha=0.6, ci=0)\n",
    "plt.xlabel('Продажи')\n",
    "plt.ylabel('Рейтинг ESRB')\n",
    "plt.legend(melted_df.Region_sales.unique())\n",
    "plt.show()"
   ]
  },
  {
   "cell_type": "markdown",
   "id": "annual-things",
   "metadata": {},
   "source": [
    "### Вывод \n",
    "Распределение продаж и рейтингов примерно совпадает по всем регионам, слегка выделяется Северная Америка с высокими продажами игр с рейтингами M (17+) и Everyone <br>\n",
    "Следует отметить, что ESRB - американская компания, и другим регионам в принципе не указ, там действуют свои органы надзора"
   ]
  },
  {
   "cell_type": "markdown",
   "id": "postal-panel",
   "metadata": {},
   "source": [
    "## Вывод\n",
    "Японский рынок меньше по сравнению с европейским и американским и довольно специфический; при работе на нём нужно выстраивать отдельную стратегию. в Америке и Европе стоит отметить популярность PS4 и делать ставку на шутеры экшны, спортивные и ролевые игры"
   ]
  },
  {
   "cell_type": "markdown",
   "id": "coupled-council",
   "metadata": {},
   "source": [
    "# Проверка гипотез"
   ]
  },
  {
   "cell_type": "markdown",
   "id": "anonymous-experiment",
   "metadata": {},
   "source": [
    "Перед нами стоит задача проверить две гипотезы\n",
    "- Средние пользовательские рейтинги платформ Xbox One и PC одинаковые;\n",
    "- Средние пользовательские рейтинги жанров Action (англ. «действие», экшен-игры) и Sports (англ. «спортивные соревнования») разные."
   ]
  },
  {
   "cell_type": "markdown",
   "id": "saving-variety",
   "metadata": {},
   "source": [
    "## Средние пользовательские рейтинги платформ Xbox One и PC одинаковые;"
   ]
  },
  {
   "cell_type": "markdown",
   "id": "nearby-authentication",
   "metadata": {},
   "source": [
    "Так как нулевая гипотеза должна предполагать, что между выборками нет различий, нам подходит исходная формулировка<br>\n",
    "\n",
    "Нулевая гипотеза: **средние пользовательские рейтинги одинаковые для PC и XBox One** <br>\n",
    "Альтернативная: **средние пользовательские рейтинги для данных платформ отличаются**"
   ]
  },
  {
   "cell_type": "code",
   "execution_count": 52,
   "id": "vietnamese-debate",
   "metadata": {},
   "outputs": [
    {
     "data": {
      "text/plain": [
       "LeveneResult(statistic=5.652937094821705, pvalue=0.01776453880036649)"
      ]
     },
     "execution_count": 52,
     "metadata": {},
     "output_type": "execute_result"
    }
   ],
   "source": [
    "xone_score = data.query('platform == \"xone\" and user_score > 0')['user_score']\n",
    "pc_score = data.query('platform == \"pc\" and user_score > 0')['user_score']\n",
    "st.levene(xone_score, pc_score, center='mean')"
   ]
  },
  {
   "cell_type": "markdown",
   "id": "comprehensive-seventh",
   "metadata": {},
   "source": [
    "Отвергаем гипотезу о равенстве дисперсий, дальше проведём сравнение."
   ]
  },
  {
   "cell_type": "markdown",
   "id": "posted-declaration",
   "metadata": {},
   "source": [
    "Для наглядности выведем гистограммы для двух выборок, с вертикальными линиями отражающими средние значения"
   ]
  },
  {
   "cell_type": "code",
   "execution_count": 53,
   "id": "reverse-spotlight",
   "metadata": {},
   "outputs": [
    {
     "data": {
      "image/png": "[encoded data removed]",
      "text/plain": [
       "<Figure size 1080x595.44 with 1 Axes>"
      ]
     },
     "metadata": {},
     "output_type": "display_data"
    }
   ],
   "source": [
    "sns.histplot(xone_score, kde=True, color = 'blue')\n",
    "sns.histplot(pc_score, kde=True, color = 'red')\n",
    "plt.axvline(xone_score.mean(), linewidth=2, color = 'blue', alpha=0.5)\n",
    "plt.axvline(pc_score.mean(), linewidth=2, color = 'red', alpha=0.5)\n",
    "\n",
    "plt.xlabel('Оценка')\n",
    "plt.legend(['XOne', 'PC'])\n",
    "plt.show()"
   ]
  },
  {
   "cell_type": "markdown",
   "id": "anticipated-kruger",
   "metadata": {},
   "source": [
    "Линии, обозначающие средние оценки наложились друг на друга. т.е средние оценки между платформами не различаются. Подвтердим это, используя статистический метод."
   ]
  },
  {
   "cell_type": "code",
   "execution_count": 54,
   "id": "identical-republican",
   "metadata": {},
   "outputs": [
    {
     "name": "stdout",
     "output_type": "stream",
     "text": [
      "p-значение: 0.9801634129117981\n",
      "Не получилось отвергнуть нулевую гипотезу\n"
     ]
    }
   ],
   "source": [
    "alpha = .05\n",
    "#выбран базовый критический уровень значимости\n",
    "\n",
    "results = st.ttest_ind(\n",
    "    xone_score,\n",
    "    pc_score,\n",
    "    equal_var=False)\n",
    "\n",
    "print('p-значение:', results.pvalue)\n",
    "\n",
    "if results.pvalue < alpha:\n",
    "    print(\"Отвергаем нулевую гипотезу\")\n",
    "else:\n",
    "    print(\"Не получилось отвергнуть нулевую гипотезу\")"
   ]
  },
  {
   "cell_type": "markdown",
   "id": "processed-jamaica",
   "metadata": {},
   "source": [
    "## Средние пользовательские рейтинги жанров Action (англ. «действие», экшен-игры) и Sports (англ. «спортивные соревнования») разные."
   ]
  },
  {
   "cell_type": "markdown",
   "id": "limiting-graphic",
   "metadata": {},
   "source": [
    "Нулевая гипотеза в данном случае: **средние пользовательские оценки для данных жанров не отличаются**\n",
    "<br>Альтернативная - согласно формулировке из задания."
   ]
  },
  {
   "cell_type": "code",
   "execution_count": 55,
   "id": "individual-symposium",
   "metadata": {},
   "outputs": [
    {
     "data": {
      "text/plain": [
       "LeveneResult(statistic=21.291810121521134, pvalue=4.411325790849538e-06)"
      ]
     },
     "execution_count": 55,
     "metadata": {},
     "output_type": "execute_result"
    }
   ],
   "source": [
    "action_score = data.query('genre == \"action\" and user_score > 0')['user_score']\n",
    "sports_score = data.query('genre == \"sports\" and user_score > 0')['user_score']\n",
    "st.levene(action_score, sports_score, center='mean')"
   ]
  },
  {
   "cell_type": "markdown",
   "id": "ongoing-hanging",
   "metadata": {},
   "source": [
    "Отвергаем гипотезу о равенстве дисперсий, и проводим сравнение"
   ]
  },
  {
   "cell_type": "markdown",
   "id": "continental-universal",
   "metadata": {},
   "source": [
    "Для наглядности выведем гистограммы для двух выборок, с вертикальными линиями отражающими средние значения"
   ]
  },
  {
   "cell_type": "code",
   "execution_count": 56,
   "id": "occupational-vertex",
   "metadata": {},
   "outputs": [
    {
     "data": {
      "image/png": "[encoded data removed]",
      "text/plain": [
       "<Figure size 1080x595.44 with 1 Axes>"
      ]
     },
     "metadata": {},
     "output_type": "display_data"
    }
   ],
   "source": [
    "sns.histplot(action_score, kde=True, color = 'blue')\n",
    "sns.histplot(sports_score, kde=True, color = 'red')\n",
    "plt.axvline(action_score.mean(), linewidth=2, color = 'blue')\n",
    "plt.axvline(sports_score.mean(), linewidth=2, color = 'red')\n",
    "\n",
    "plt.xlabel('оценка')\n",
    "plt.legend(['Action', 'Sports'])\n",
    "plt.show()"
   ]
  },
  {
   "cell_type": "code",
   "execution_count": 57,
   "id": "exact-attempt",
   "metadata": {},
   "outputs": [
    {
     "name": "stdout",
     "output_type": "stream",
     "text": [
      "p-значение: 1.451615246784473e-15\n",
      "Отвергаем нулевую гипотезу\n"
     ]
    }
   ],
   "source": [
    "alpha = .05\n",
    "#выбран базовый критический уровень значимости\n",
    "\n",
    "results = st.ttest_ind(\n",
    "    action_score,\n",
    "    sports_score,\n",
    "    equal_var=False)\n",
    "\n",
    "print('p-значение:', results.pvalue)\n",
    "\n",
    "if results.pvalue < alpha:\n",
    "    print(\"Отвергаем нулевую гипотезу\")\n",
    "else:\n",
    "    print(\"Не получилось отвергнуть нулевую гипотезу\")"
   ]
  },
  {
   "cell_type": "markdown",
   "id": "tutorial-clearance",
   "metadata": {},
   "source": [
    "## Вывод\n",
    "Средние пользовательские рейтинги платформ Xbox One и PC одинаковые - гипотеза подтвердждена;<br>\n",
    "Средние пользовательские рейтинги жанров Action (англ. «действие», экшен-игры) и Sports (англ. «спортивные соревнования») разные - гипотеза подтверждена (точнее не смогли принять нулевую гипотезу, о том что они одинаковы)"
   ]
  },
  {
   "cell_type": "markdown",
   "id": "architectural-glossary",
   "metadata": {},
   "source": [
    "# Общий вывод"
   ]
  },
  {
   "cell_type": "markdown",
   "id": "entertaining-cartridge",
   "metadata": {},
   "source": [
    "Был проведён анализ продаж видеоигр с течением времени, а также в зависимости от платформы, региона и жанров.<br>\n",
    "Выведен примерный жизненный цикл игровых платформ в 10 лет, и на этом основании можем рассчитывать на то, что в 2017 году будут наиболее сильны позиции консолей PS4 и Xbox One<br>\n",
    "В 2017 году можем ожидать выхода большего количества игр, но меньшей выручки от их продаж. Всё чаще выпускаются игры-сервисы, с большим жизненным циклом и получением издателем выручки напрямую от игрока через, минуя посредников в виде ритейлеров. Множество разработчиков переключилось на игры для смартфонов <br>\n",
    "\n",
    "Особое внимание следует уделить играм жанров: Shooter, Action, Sports, Roleplaying а так же внежанровых-misc.\n",
    "<br>Рынок Японии стоит особняком - там лидируют портативные консоли, в частности 3ds, и пользователи предпочитают Roleplaying игры "
   ]
  }
 ],
 "metadata": {
  "kernelspec": {
   "display_name": "Python 3",
   "language": "python",
   "name": "python3"
  },
  "language_info": {
   "codemirror_mode": {
    "name": "ipython",
    "version": 3
   },
   "file_extension": ".py",
   "mimetype": "text/x-python",
   "name": "python",
   "nbconvert_exporter": "python",
   "pygments_lexer": "ipython3",
   "version": "3.8.5"
  },
  "toc": {
   "base_numbering": 1,
   "nav_menu": {
    "height": "330px",
    "width": "492px"
   },
   "number_sections": true,
   "sideBar": true,
   "skip_h1_title": false,
   "title_cell": "Table of Contents",
   "title_sidebar": "Contents",
   "toc_cell": false,
   "toc_position": {},
   "toc_section_display": true,
   "toc_window_display": false
  }
 },
 "nbformat": 4,
 "nbformat_minor": 5
}
