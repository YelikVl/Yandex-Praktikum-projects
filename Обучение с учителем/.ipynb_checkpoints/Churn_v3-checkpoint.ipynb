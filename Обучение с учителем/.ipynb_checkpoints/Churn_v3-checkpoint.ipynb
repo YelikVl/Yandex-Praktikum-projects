{
 "cells": [
  {
   "cell_type": "markdown",
   "metadata": {},
   "source": [
    "# Отток клиентов"
   ]
  },
  {
   "cell_type": "markdown",
   "metadata": {},
   "source": [
    "Из «Бета-Банка» стали уходить клиенты. Каждый месяц. Немного, но заметно. Банковские маркетологи посчитали: сохранять текущих клиентов дешевле, чем привлекать новых.\n",
    "\n",
    "Нужно спрогнозировать, уйдёт клиент из банка в ближайшее время или нет. Нам предоставлены исторические данные о поведении клиентов и расторжении договоров с банком. \n",
    "\n",
    "Задача проекта: построить модель с предельно большим значением *F1*-меры. Чтобы сдать проект успешно, нужно довести метрику до **0.59**. *F1*-мера на тестовой выборке проверяется самостоятельно.\n",
    "\n",
    "Дополнительно будем измерять *AUC-ROC*, сравнивая её значение с *F1*-мерой.\n",
    "\n",
    "Источник данных: [https://www.kaggle.com/barelydedicated/bank-customer-churn-modeling](https://www.kaggle.com/barelydedicated/bank-customer-churn-modeling)\n",
    "\n",
    "В работе будем использовать три алгоритма классификации:\n",
    " - Логистическая регрессия\n",
    " - Дерево решений\n",
    " - Случайный лес"
   ]
  },
  {
   "cell_type": "markdown",
   "metadata": {},
   "source": [
    "*Работа изначально выполнялась на компьютере со свежими версиями библиотек, в частности scikit-learn.\n",
    "Если не выполняется код, нужно запустить закоментированную ячейку ниже и перезагрузить ядро*"
   ]
  },
  {
   "cell_type": "code",
   "execution_count": 1,
   "metadata": {},
   "outputs": [],
   "source": [
    "#!pip install -U scikit-learn"
   ]
  },
  {
   "cell_type": "markdown",
   "metadata": {},
   "source": [
    "**Импорт библиотек**"
   ]
  },
  {
   "cell_type": "code",
   "execution_count": 2,
   "metadata": {},
   "outputs": [],
   "source": [
    "#Обработка\n",
    "import pandas as pd\n",
    "pd.options.mode.chained_assignment = None  # default='warn'\n",
    "import numpy as np\n",
    "pd.set_option('precision', 3)\n",
    "\n",
    "#графики\n",
    "import matplotlib.pyplot as plt\n",
    "import seaborn as sns\n",
    "sns.set()\n",
    "cm = sns.light_palette(\"k\", as_cmap=True)\n",
    "\n",
    "#Обучение\n",
    "#доп. обработка\n",
    "from sklearn.model_selection import train_test_split\n",
    "from sklearn.preprocessing import StandardScaler\n",
    "from sklearn.utils import shuffle\n",
    "\n",
    "#метрики\n",
    "from sklearn.metrics import (accuracy_score, confusion_matrix, ConfusionMatrixDisplay,\n",
    "                             recall_score, precision_score, f1_score,\n",
    "                             roc_auc_score, roc_curve, RocCurveDisplay,\n",
    "                             precision_recall_curve, PrecisionRecallDisplay)\n",
    "\n",
    "#алгоритмы\n",
    "from sklearn.tree import DecisionTreeClassifier\n",
    "from sklearn.ensemble import RandomForestClassifier\n",
    "from sklearn.linear_model import LogisticRegression\n",
    "\n",
    "#прочее\n",
    "from sklearn.dummy import DummyClassifier\n",
    "import pprint\n",
    "pp = pprint.PrettyPrinter(indent=4)"
   ]
  },
  {
   "cell_type": "markdown",
   "metadata": {},
   "source": [
    "## Подготовка данных"
   ]
  },
  {
   "cell_type": "code",
   "execution_count": 3,
   "metadata": {},
   "outputs": [
    {
     "data": {
      "text/html": [
       "<div>\n",
       "<style scoped>\n",
       "    .dataframe tbody tr th:only-of-type {\n",
       "        vertical-align: middle;\n",
       "    }\n",
       "\n",
       "    .dataframe tbody tr th {\n",
       "        vertical-align: top;\n",
       "    }\n",
       "\n",
       "    .dataframe thead th {\n",
       "        text-align: right;\n",
       "    }\n",
       "</style>\n",
       "<table border=\"1\" class=\"dataframe\">\n",
       "  <thead>\n",
       "    <tr style=\"text-align: right;\">\n",
       "      <th></th>\n",
       "      <th>RowNumber</th>\n",
       "      <th>CustomerId</th>\n",
       "      <th>Surname</th>\n",
       "      <th>CreditScore</th>\n",
       "      <th>Geography</th>\n",
       "      <th>Gender</th>\n",
       "      <th>Age</th>\n",
       "      <th>Tenure</th>\n",
       "      <th>Balance</th>\n",
       "      <th>NumOfProducts</th>\n",
       "      <th>HasCrCard</th>\n",
       "      <th>IsActiveMember</th>\n",
       "      <th>EstimatedSalary</th>\n",
       "      <th>Exited</th>\n",
       "    </tr>\n",
       "  </thead>\n",
       "  <tbody>\n",
       "    <tr>\n",
       "      <th>0</th>\n",
       "      <td>1</td>\n",
       "      <td>15634602</td>\n",
       "      <td>Hargrave</td>\n",
       "      <td>619</td>\n",
       "      <td>France</td>\n",
       "      <td>Female</td>\n",
       "      <td>42</td>\n",
       "      <td>2.0</td>\n",
       "      <td>0.00</td>\n",
       "      <td>1</td>\n",
       "      <td>1</td>\n",
       "      <td>1</td>\n",
       "      <td>101348.88</td>\n",
       "      <td>1</td>\n",
       "    </tr>\n",
       "    <tr>\n",
       "      <th>1</th>\n",
       "      <td>2</td>\n",
       "      <td>15647311</td>\n",
       "      <td>Hill</td>\n",
       "      <td>608</td>\n",
       "      <td>Spain</td>\n",
       "      <td>Female</td>\n",
       "      <td>41</td>\n",
       "      <td>1.0</td>\n",
       "      <td>83807.86</td>\n",
       "      <td>1</td>\n",
       "      <td>0</td>\n",
       "      <td>1</td>\n",
       "      <td>112542.58</td>\n",
       "      <td>0</td>\n",
       "    </tr>\n",
       "    <tr>\n",
       "      <th>2</th>\n",
       "      <td>3</td>\n",
       "      <td>15619304</td>\n",
       "      <td>Onio</td>\n",
       "      <td>502</td>\n",
       "      <td>France</td>\n",
       "      <td>Female</td>\n",
       "      <td>42</td>\n",
       "      <td>8.0</td>\n",
       "      <td>159660.80</td>\n",
       "      <td>3</td>\n",
       "      <td>1</td>\n",
       "      <td>0</td>\n",
       "      <td>113931.57</td>\n",
       "      <td>1</td>\n",
       "    </tr>\n",
       "    <tr>\n",
       "      <th>3</th>\n",
       "      <td>4</td>\n",
       "      <td>15701354</td>\n",
       "      <td>Boni</td>\n",
       "      <td>699</td>\n",
       "      <td>France</td>\n",
       "      <td>Female</td>\n",
       "      <td>39</td>\n",
       "      <td>1.0</td>\n",
       "      <td>0.00</td>\n",
       "      <td>2</td>\n",
       "      <td>0</td>\n",
       "      <td>0</td>\n",
       "      <td>93826.63</td>\n",
       "      <td>0</td>\n",
       "    </tr>\n",
       "    <tr>\n",
       "      <th>4</th>\n",
       "      <td>5</td>\n",
       "      <td>15737888</td>\n",
       "      <td>Mitchell</td>\n",
       "      <td>850</td>\n",
       "      <td>Spain</td>\n",
       "      <td>Female</td>\n",
       "      <td>43</td>\n",
       "      <td>2.0</td>\n",
       "      <td>125510.82</td>\n",
       "      <td>1</td>\n",
       "      <td>1</td>\n",
       "      <td>1</td>\n",
       "      <td>79084.10</td>\n",
       "      <td>0</td>\n",
       "    </tr>\n",
       "  </tbody>\n",
       "</table>\n",
       "</div>"
      ],
      "text/plain": [
       "   RowNumber  CustomerId   Surname  CreditScore Geography  Gender  Age  \\\n",
       "0          1    15634602  Hargrave          619    France  Female   42   \n",
       "1          2    15647311      Hill          608     Spain  Female   41   \n",
       "2          3    15619304      Onio          502    France  Female   42   \n",
       "3          4    15701354      Boni          699    France  Female   39   \n",
       "4          5    15737888  Mitchell          850     Spain  Female   43   \n",
       "\n",
       "   Tenure    Balance  NumOfProducts  HasCrCard  IsActiveMember  \\\n",
       "0     2.0       0.00              1          1               1   \n",
       "1     1.0   83807.86              1          0               1   \n",
       "2     8.0  159660.80              3          1               0   \n",
       "3     1.0       0.00              2          0               0   \n",
       "4     2.0  125510.82              1          1               1   \n",
       "\n",
       "   EstimatedSalary  Exited  \n",
       "0        101348.88       1  \n",
       "1        112542.58       0  \n",
       "2        113931.57       1  \n",
       "3         93826.63       0  \n",
       "4         79084.10       0  "
      ]
     },
     "metadata": {},
     "output_type": "display_data"
    },
    {
     "name": "stdout",
     "output_type": "stream",
     "text": [
      "<class 'pandas.core.frame.DataFrame'>\n",
      "RangeIndex: 10000 entries, 0 to 9999\n",
      "Data columns (total 14 columns):\n",
      " #   Column           Non-Null Count  Dtype  \n",
      "---  ------           --------------  -----  \n",
      " 0   RowNumber        10000 non-null  int64  \n",
      " 1   CustomerId       10000 non-null  int64  \n",
      " 2   Surname          10000 non-null  object \n",
      " 3   CreditScore      10000 non-null  int64  \n",
      " 4   Geography        10000 non-null  object \n",
      " 5   Gender           10000 non-null  object \n",
      " 6   Age              10000 non-null  int64  \n",
      " 7   Tenure           9091 non-null   float64\n",
      " 8   Balance          10000 non-null  float64\n",
      " 9   NumOfProducts    10000 non-null  int64  \n",
      " 10  HasCrCard        10000 non-null  int64  \n",
      " 11  IsActiveMember   10000 non-null  int64  \n",
      " 12  EstimatedSalary  10000 non-null  float64\n",
      " 13  Exited           10000 non-null  int64  \n",
      "dtypes: float64(3), int64(8), object(3)\n",
      "memory usage: 1.1+ MB\n"
     ]
    },
    {
     "data": {
      "text/plain": [
       "None"
      ]
     },
     "metadata": {},
     "output_type": "display_data"
    },
    {
     "data": {
      "text/plain": [
       "RowNumber            0\n",
       "CustomerId           0\n",
       "Surname              0\n",
       "CreditScore          0\n",
       "Geography            0\n",
       "Gender               0\n",
       "Age                  0\n",
       "Tenure             909\n",
       "Balance              0\n",
       "NumOfProducts        0\n",
       "HasCrCard            0\n",
       "IsActiveMember       0\n",
       "EstimatedSalary      0\n",
       "Exited               0\n",
       "dtype: int64"
      ]
     },
     "metadata": {},
     "output_type": "display_data"
    },
    {
     "data": {
      "text/html": [
       "<div>\n",
       "<style scoped>\n",
       "    .dataframe tbody tr th:only-of-type {\n",
       "        vertical-align: middle;\n",
       "    }\n",
       "\n",
       "    .dataframe tbody tr th {\n",
       "        vertical-align: top;\n",
       "    }\n",
       "\n",
       "    .dataframe thead th {\n",
       "        text-align: right;\n",
       "    }\n",
       "</style>\n",
       "<table border=\"1\" class=\"dataframe\">\n",
       "  <thead>\n",
       "    <tr style=\"text-align: right;\">\n",
       "      <th></th>\n",
       "      <th>RowNumber</th>\n",
       "      <th>CustomerId</th>\n",
       "      <th>CreditScore</th>\n",
       "      <th>Age</th>\n",
       "      <th>Tenure</th>\n",
       "      <th>Balance</th>\n",
       "      <th>NumOfProducts</th>\n",
       "      <th>HasCrCard</th>\n",
       "      <th>IsActiveMember</th>\n",
       "      <th>EstimatedSalary</th>\n",
       "      <th>Exited</th>\n",
       "    </tr>\n",
       "  </thead>\n",
       "  <tbody>\n",
       "    <tr>\n",
       "      <th>count</th>\n",
       "      <td>10000.000</td>\n",
       "      <td>1.000e+04</td>\n",
       "      <td>10000.000</td>\n",
       "      <td>10000.000</td>\n",
       "      <td>9091.000</td>\n",
       "      <td>10000.000</td>\n",
       "      <td>10000.000</td>\n",
       "      <td>10000.000</td>\n",
       "      <td>10000.000</td>\n",
       "      <td>10000.000</td>\n",
       "      <td>10000.000</td>\n",
       "    </tr>\n",
       "    <tr>\n",
       "      <th>mean</th>\n",
       "      <td>5000.500</td>\n",
       "      <td>1.569e+07</td>\n",
       "      <td>650.529</td>\n",
       "      <td>38.922</td>\n",
       "      <td>4.998</td>\n",
       "      <td>76485.889</td>\n",
       "      <td>1.530</td>\n",
       "      <td>0.706</td>\n",
       "      <td>0.515</td>\n",
       "      <td>100090.240</td>\n",
       "      <td>0.204</td>\n",
       "    </tr>\n",
       "    <tr>\n",
       "      <th>std</th>\n",
       "      <td>2886.896</td>\n",
       "      <td>7.194e+04</td>\n",
       "      <td>96.653</td>\n",
       "      <td>10.488</td>\n",
       "      <td>2.895</td>\n",
       "      <td>62397.405</td>\n",
       "      <td>0.582</td>\n",
       "      <td>0.456</td>\n",
       "      <td>0.500</td>\n",
       "      <td>57510.493</td>\n",
       "      <td>0.403</td>\n",
       "    </tr>\n",
       "    <tr>\n",
       "      <th>min</th>\n",
       "      <td>1.000</td>\n",
       "      <td>1.557e+07</td>\n",
       "      <td>350.000</td>\n",
       "      <td>18.000</td>\n",
       "      <td>0.000</td>\n",
       "      <td>0.000</td>\n",
       "      <td>1.000</td>\n",
       "      <td>0.000</td>\n",
       "      <td>0.000</td>\n",
       "      <td>11.580</td>\n",
       "      <td>0.000</td>\n",
       "    </tr>\n",
       "    <tr>\n",
       "      <th>1%</th>\n",
       "      <td>100.990</td>\n",
       "      <td>1.557e+07</td>\n",
       "      <td>432.000</td>\n",
       "      <td>21.000</td>\n",
       "      <td>0.000</td>\n",
       "      <td>0.000</td>\n",
       "      <td>1.000</td>\n",
       "      <td>0.000</td>\n",
       "      <td>0.000</td>\n",
       "      <td>1842.825</td>\n",
       "      <td>0.000</td>\n",
       "    </tr>\n",
       "    <tr>\n",
       "      <th>5%</th>\n",
       "      <td>500.950</td>\n",
       "      <td>1.558e+07</td>\n",
       "      <td>489.000</td>\n",
       "      <td>25.000</td>\n",
       "      <td>1.000</td>\n",
       "      <td>0.000</td>\n",
       "      <td>1.000</td>\n",
       "      <td>0.000</td>\n",
       "      <td>0.000</td>\n",
       "      <td>9851.819</td>\n",
       "      <td>0.000</td>\n",
       "    </tr>\n",
       "    <tr>\n",
       "      <th>10%</th>\n",
       "      <td>1000.900</td>\n",
       "      <td>1.559e+07</td>\n",
       "      <td>521.000</td>\n",
       "      <td>27.000</td>\n",
       "      <td>1.000</td>\n",
       "      <td>0.000</td>\n",
       "      <td>1.000</td>\n",
       "      <td>0.000</td>\n",
       "      <td>0.000</td>\n",
       "      <td>20273.580</td>\n",
       "      <td>0.000</td>\n",
       "    </tr>\n",
       "    <tr>\n",
       "      <th>25%</th>\n",
       "      <td>2500.750</td>\n",
       "      <td>1.563e+07</td>\n",
       "      <td>584.000</td>\n",
       "      <td>32.000</td>\n",
       "      <td>2.000</td>\n",
       "      <td>0.000</td>\n",
       "      <td>1.000</td>\n",
       "      <td>0.000</td>\n",
       "      <td>0.000</td>\n",
       "      <td>51002.110</td>\n",
       "      <td>0.000</td>\n",
       "    </tr>\n",
       "    <tr>\n",
       "      <th>50%</th>\n",
       "      <td>5000.500</td>\n",
       "      <td>1.569e+07</td>\n",
       "      <td>652.000</td>\n",
       "      <td>37.000</td>\n",
       "      <td>5.000</td>\n",
       "      <td>97198.540</td>\n",
       "      <td>1.000</td>\n",
       "      <td>1.000</td>\n",
       "      <td>1.000</td>\n",
       "      <td>100193.915</td>\n",
       "      <td>0.000</td>\n",
       "    </tr>\n",
       "    <tr>\n",
       "      <th>75%</th>\n",
       "      <td>7500.250</td>\n",
       "      <td>1.575e+07</td>\n",
       "      <td>718.000</td>\n",
       "      <td>44.000</td>\n",
       "      <td>7.000</td>\n",
       "      <td>127644.240</td>\n",
       "      <td>2.000</td>\n",
       "      <td>1.000</td>\n",
       "      <td>1.000</td>\n",
       "      <td>149388.247</td>\n",
       "      <td>0.000</td>\n",
       "    </tr>\n",
       "    <tr>\n",
       "      <th>90%</th>\n",
       "      <td>9000.100</td>\n",
       "      <td>1.579e+07</td>\n",
       "      <td>778.000</td>\n",
       "      <td>53.000</td>\n",
       "      <td>9.000</td>\n",
       "      <td>149244.792</td>\n",
       "      <td>2.000</td>\n",
       "      <td>1.000</td>\n",
       "      <td>1.000</td>\n",
       "      <td>179674.704</td>\n",
       "      <td>1.000</td>\n",
       "    </tr>\n",
       "    <tr>\n",
       "      <th>95%</th>\n",
       "      <td>9500.050</td>\n",
       "      <td>1.580e+07</td>\n",
       "      <td>812.000</td>\n",
       "      <td>60.000</td>\n",
       "      <td>9.000</td>\n",
       "      <td>162711.669</td>\n",
       "      <td>2.000</td>\n",
       "      <td>1.000</td>\n",
       "      <td>1.000</td>\n",
       "      <td>190155.375</td>\n",
       "      <td>1.000</td>\n",
       "    </tr>\n",
       "    <tr>\n",
       "      <th>99%</th>\n",
       "      <td>9900.010</td>\n",
       "      <td>1.581e+07</td>\n",
       "      <td>850.000</td>\n",
       "      <td>72.000</td>\n",
       "      <td>10.000</td>\n",
       "      <td>185967.985</td>\n",
       "      <td>3.000</td>\n",
       "      <td>1.000</td>\n",
       "      <td>1.000</td>\n",
       "      <td>198069.734</td>\n",
       "      <td>1.000</td>\n",
       "    </tr>\n",
       "    <tr>\n",
       "      <th>max</th>\n",
       "      <td>10000.000</td>\n",
       "      <td>1.582e+07</td>\n",
       "      <td>850.000</td>\n",
       "      <td>92.000</td>\n",
       "      <td>10.000</td>\n",
       "      <td>250898.090</td>\n",
       "      <td>4.000</td>\n",
       "      <td>1.000</td>\n",
       "      <td>1.000</td>\n",
       "      <td>199992.480</td>\n",
       "      <td>1.000</td>\n",
       "    </tr>\n",
       "  </tbody>\n",
       "</table>\n",
       "</div>"
      ],
      "text/plain": [
       "       RowNumber  CustomerId  CreditScore        Age    Tenure     Balance  \\\n",
       "count  10000.000   1.000e+04    10000.000  10000.000  9091.000   10000.000   \n",
       "mean    5000.500   1.569e+07      650.529     38.922     4.998   76485.889   \n",
       "std     2886.896   7.194e+04       96.653     10.488     2.895   62397.405   \n",
       "min        1.000   1.557e+07      350.000     18.000     0.000       0.000   \n",
       "1%       100.990   1.557e+07      432.000     21.000     0.000       0.000   \n",
       "5%       500.950   1.558e+07      489.000     25.000     1.000       0.000   \n",
       "10%     1000.900   1.559e+07      521.000     27.000     1.000       0.000   \n",
       "25%     2500.750   1.563e+07      584.000     32.000     2.000       0.000   \n",
       "50%     5000.500   1.569e+07      652.000     37.000     5.000   97198.540   \n",
       "75%     7500.250   1.575e+07      718.000     44.000     7.000  127644.240   \n",
       "90%     9000.100   1.579e+07      778.000     53.000     9.000  149244.792   \n",
       "95%     9500.050   1.580e+07      812.000     60.000     9.000  162711.669   \n",
       "99%     9900.010   1.581e+07      850.000     72.000    10.000  185967.985   \n",
       "max    10000.000   1.582e+07      850.000     92.000    10.000  250898.090   \n",
       "\n",
       "       NumOfProducts  HasCrCard  IsActiveMember  EstimatedSalary     Exited  \n",
       "count      10000.000  10000.000       10000.000        10000.000  10000.000  \n",
       "mean           1.530      0.706           0.515       100090.240      0.204  \n",
       "std            0.582      0.456           0.500        57510.493      0.403  \n",
       "min            1.000      0.000           0.000           11.580      0.000  \n",
       "1%             1.000      0.000           0.000         1842.825      0.000  \n",
       "5%             1.000      0.000           0.000         9851.819      0.000  \n",
       "10%            1.000      0.000           0.000        20273.580      0.000  \n",
       "25%            1.000      0.000           0.000        51002.110      0.000  \n",
       "50%            1.000      1.000           1.000       100193.915      0.000  \n",
       "75%            2.000      1.000           1.000       149388.247      0.000  \n",
       "90%            2.000      1.000           1.000       179674.704      1.000  \n",
       "95%            2.000      1.000           1.000       190155.375      1.000  \n",
       "99%            3.000      1.000           1.000       198069.734      1.000  \n",
       "max            4.000      1.000           1.000       199992.480      1.000  "
      ]
     },
     "metadata": {},
     "output_type": "display_data"
    }
   ],
   "source": [
    "try:\n",
    "    raw_data = pd.read_csv('/datasets/Churn.csv')\n",
    "except:\n",
    "    raw_data = pd.read_csv('Churn.csv')\n",
    "churn = raw_data.copy()\n",
    "display(churn.head())\n",
    "display(churn.info())\n",
    "display(churn.isna().sum())\n",
    "display(churn.describe(percentiles = [0.01, 0.05, 0.1, 0.25, 0.5, 0.75, 0.9, 0.95, 0.99]))"
   ]
  },
  {
   "cell_type": "markdown",
   "metadata": {},
   "source": [
    " - достаточно много пропусков в столбце Tenure, проверим какие значения присутствуют в столбце и решим как лучше убрать пропуски\n",
    " - Столбцы RowNumber, CustomerId, Surname - не содержат полезной для решения задачи информации - можно удалить\n",
    " - Столбцы Age, CreditScore, Balance, EstimatedSalary следует стандартизировать для более адекватной работы алгоритмов машинного обучения\n",
    " - Столбцы Geography и Gender следует представить в числовом формате путём кодировки. "
   ]
  },
  {
   "cell_type": "markdown",
   "metadata": {},
   "source": [
    "Преобразуем пропуски"
   ]
  },
  {
   "cell_type": "code",
   "execution_count": 4,
   "metadata": {},
   "outputs": [
    {
     "data": {
      "text/plain": [
       "Text(0.5, 1.0, 'Распределение значений столбца Tenure')"
      ]
     },
     "execution_count": 4,
     "metadata": {},
     "output_type": "execute_result"
    },
    {
     "data": {
      "image/png": "[encoded data removed]",
      "text/plain": [
       "<Figure size 432x288 with 1 Axes>"
      ]
     },
     "metadata": {},
     "output_type": "display_data"
    }
   ],
   "source": [
    "churn.Tenure.hist()\n",
    "plt.title('Распределение значений столбца Tenure')"
   ]
  },
  {
   "cell_type": "code",
   "execution_count": 5,
   "metadata": {},
   "outputs": [
    {
     "data": {
      "text/html": [
       "<div>\n",
       "<style scoped>\n",
       "    .dataframe tbody tr th:only-of-type {\n",
       "        vertical-align: middle;\n",
       "    }\n",
       "\n",
       "    .dataframe tbody tr th {\n",
       "        vertical-align: top;\n",
       "    }\n",
       "\n",
       "    .dataframe thead th {\n",
       "        text-align: right;\n",
       "    }\n",
       "</style>\n",
       "<table border=\"1\" class=\"dataframe\">\n",
       "  <thead>\n",
       "    <tr style=\"text-align: right;\">\n",
       "      <th></th>\n",
       "      <th>RowNumber</th>\n",
       "      <th>CustomerId</th>\n",
       "      <th>CreditScore</th>\n",
       "      <th>Age</th>\n",
       "      <th>Tenure</th>\n",
       "      <th>Balance</th>\n",
       "      <th>NumOfProducts</th>\n",
       "      <th>HasCrCard</th>\n",
       "      <th>IsActiveMember</th>\n",
       "      <th>EstimatedSalary</th>\n",
       "      <th>Exited</th>\n",
       "    </tr>\n",
       "  </thead>\n",
       "  <tbody>\n",
       "    <tr>\n",
       "      <th>Tenure</th>\n",
       "      <td>-0.01</td>\n",
       "      <td>-0.02</td>\n",
       "      <td>-0.0</td>\n",
       "      <td>-0.01</td>\n",
       "      <td>1.0</td>\n",
       "      <td>-0.01</td>\n",
       "      <td>0.01</td>\n",
       "      <td>0.03</td>\n",
       "      <td>-0.03</td>\n",
       "      <td>0.01</td>\n",
       "      <td>-0.02</td>\n",
       "    </tr>\n",
       "  </tbody>\n",
       "</table>\n",
       "</div>"
      ],
      "text/plain": [
       "        RowNumber  CustomerId  CreditScore   Age  Tenure  Balance  \\\n",
       "Tenure      -0.01       -0.02         -0.0 -0.01     1.0    -0.01   \n",
       "\n",
       "        NumOfProducts  HasCrCard  IsActiveMember  EstimatedSalary  Exited  \n",
       "Tenure           0.01       0.03           -0.03             0.01   -0.02  "
      ]
     },
     "execution_count": 5,
     "metadata": {},
     "output_type": "execute_result"
    }
   ],
   "source": [
    "round(churn.corr()[4:5], 2)"
   ]
  },
  {
   "cell_type": "markdown",
   "metadata": {},
   "source": [
    "Значения столбца Tenure распределены почти равномерно, сравнительно мало клиентов без недвижимости, и сравнительно много с 10-ю объектами. \n",
    "Нет значимых значений корреляции ни с одним из остальных признаков.<br>\n",
    "\n",
    "<br>Заполнение средним значением или нулём внесёт значительный перекос в распределение\n",
    "<br>Но, в зависимости от способа сбора информации, возможны варианты, когда клиент без недвижимости просто оставлял поле пустым\n",
    "\n",
    "\n",
    "На этом этапе нужно было бы обратиться к поставщику данных за уточнением, но сейчас это невозможно. Поэтому неполные данные обозначим за *-1* считая это неуказанным значением, предполагая, что отсутствие информации тоже может быть информацией\n",
    "\n",
    "*Примечание: на kaggle данный набор размещён без пропущенных значений и распределение имеет приблизительно такой же вид, то есть, скорее, всего случайным образом убрали значения. В таком случае было бы корректно так же случайным образом заполнить образовавшиеся пустоты, но в дальнейшем действую будто мне это не известно*"
   ]
  },
  {
   "cell_type": "code",
   "execution_count": 6,
   "metadata": {},
   "outputs": [],
   "source": [
    "churn['Tenure'] = churn['Tenure'].fillna(-1)"
   ]
  },
  {
   "cell_type": "markdown",
   "metadata": {},
   "source": [
    "Удаляем ненужные столбцы"
   ]
  },
  {
   "cell_type": "code",
   "execution_count": 7,
   "metadata": {},
   "outputs": [],
   "source": [
    "churn = churn.drop(['RowNumber', 'CustomerId', 'Surname'], axis = 1)"
   ]
  },
  {
   "cell_type": "markdown",
   "metadata": {},
   "source": [
    "Кодируем категориальные признаки"
   ]
  },
  {
   "cell_type": "code",
   "execution_count": 8,
   "metadata": {},
   "outputs": [
    {
     "data": {
      "text/plain": [
       "array(['France', 'Spain', 'Germany'], dtype=object)"
      ]
     },
     "execution_count": 8,
     "metadata": {},
     "output_type": "execute_result"
    }
   ],
   "source": [
    "churn.Geography.unique()"
   ]
  },
  {
   "cell_type": "code",
   "execution_count": 9,
   "metadata": {},
   "outputs": [
    {
     "data": {
      "text/plain": [
       "array(['Female', 'Male'], dtype=object)"
      ]
     },
     "execution_count": 9,
     "metadata": {},
     "output_type": "execute_result"
    }
   ],
   "source": [
    "churn.Gender.unique()"
   ]
  },
  {
   "cell_type": "markdown",
   "metadata": {},
   "source": [
    "Порядковыми данные признаки не являются, поэтому будем использовать One-hot-encoding"
   ]
  },
  {
   "cell_type": "code",
   "execution_count": 10,
   "metadata": {},
   "outputs": [],
   "source": [
    "churn = pd.get_dummies(churn, drop_first=True)"
   ]
  },
  {
   "cell_type": "markdown",
   "metadata": {},
   "source": [
    "## Исследование задачи"
   ]
  },
  {
   "cell_type": "markdown",
   "metadata": {},
   "source": [
    "### Разделение и дополнительная обработка данных"
   ]
  },
  {
   "cell_type": "markdown",
   "metadata": {},
   "source": [
    "Целевой признак принимает значения 0 и 1 - перед нами стоит задача классификации\n",
    "<br> За входные признаки обозначим все остальные, оставшиеся после обработки, и разделим их на три части для обучения, валидации и тестирования моделей соотношением 60/20/20"
   ]
  },
  {
   "cell_type": "code",
   "execution_count": 11,
   "metadata": {},
   "outputs": [],
   "source": [
    "X = churn.drop(['Exited'], axis = 1)\n",
    "Y = churn.Exited"
   ]
  },
  {
   "cell_type": "markdown",
   "metadata": {},
   "source": [
    "Зафиксируем *random_state* в переменной для последующего использования"
   ]
  },
  {
   "cell_type": "code",
   "execution_count": 12,
   "metadata": {},
   "outputs": [],
   "source": [
    "SEED = 42"
   ]
  },
  {
   "cell_type": "code",
   "execution_count": 13,
   "metadata": {},
   "outputs": [],
   "source": [
    "#выделяем 70 процентов данных под тренировочную выборку\n",
    "x_train, x_valid, y_train, y_valid = train_test_split(X,\n",
    "                                                    Y,\n",
    "                                                    train_size=0.6,\n",
    "                                                    random_state=SEED, \n",
    "                                                    stratify=Y)\n",
    "#оставшиеся 30% делим пополам на валидационную и тестовую выборки\n",
    "x_valid, x_test, y_valid, y_test = train_test_split(x_valid,\n",
    "                                                    y_valid,\n",
    "                                                    train_size=0.5,\n",
    "                                                    random_state=SEED, \n",
    "                                                    stratify=y_valid)"
   ]
  },
  {
   "cell_type": "markdown",
   "metadata": {},
   "source": [
    "Численные, не категориальные признаки следует стандартизировать"
   ]
  },
  {
   "cell_type": "code",
   "execution_count": 14,
   "metadata": {},
   "outputs": [
    {
     "data": {
      "text/html": [
       "<div>\n",
       "<style scoped>\n",
       "    .dataframe tbody tr th:only-of-type {\n",
       "        vertical-align: middle;\n",
       "    }\n",
       "\n",
       "    .dataframe tbody tr th {\n",
       "        vertical-align: top;\n",
       "    }\n",
       "\n",
       "    .dataframe thead th {\n",
       "        text-align: right;\n",
       "    }\n",
       "</style>\n",
       "<table border=\"1\" class=\"dataframe\">\n",
       "  <thead>\n",
       "    <tr style=\"text-align: right;\">\n",
       "      <th></th>\n",
       "      <th>CreditScore</th>\n",
       "      <th>Age</th>\n",
       "      <th>Tenure</th>\n",
       "      <th>Balance</th>\n",
       "      <th>NumOfProducts</th>\n",
       "      <th>HasCrCard</th>\n",
       "      <th>IsActiveMember</th>\n",
       "      <th>EstimatedSalary</th>\n",
       "      <th>Geography_Germany</th>\n",
       "      <th>Geography_Spain</th>\n",
       "      <th>Gender_Male</th>\n",
       "    </tr>\n",
       "  </thead>\n",
       "  <tbody>\n",
       "    <tr>\n",
       "      <th>6851</th>\n",
       "      <td>-1.284</td>\n",
       "      <td>0.009</td>\n",
       "      <td>9.0</td>\n",
       "      <td>0.330</td>\n",
       "      <td>2</td>\n",
       "      <td>1</td>\n",
       "      <td>0</td>\n",
       "      <td>-0.084</td>\n",
       "      <td>1</td>\n",
       "      <td>0</td>\n",
       "      <td>0</td>\n",
       "    </tr>\n",
       "    <tr>\n",
       "      <th>7026</th>\n",
       "      <td>0.272</td>\n",
       "      <td>-1.140</td>\n",
       "      <td>-1.0</td>\n",
       "      <td>-1.221</td>\n",
       "      <td>2</td>\n",
       "      <td>0</td>\n",
       "      <td>1</td>\n",
       "      <td>0.264</td>\n",
       "      <td>0</td>\n",
       "      <td>0</td>\n",
       "      <td>0</td>\n",
       "    </tr>\n",
       "  </tbody>\n",
       "</table>\n",
       "</div>"
      ],
      "text/plain": [
       "      CreditScore    Age  Tenure  Balance  NumOfProducts  HasCrCard  \\\n",
       "6851       -1.284  0.009     9.0    0.330              2          1   \n",
       "7026        0.272 -1.140    -1.0   -1.221              2          0   \n",
       "\n",
       "      IsActiveMember  EstimatedSalary  Geography_Germany  Geography_Spain  \\\n",
       "6851               0           -0.084                  1                0   \n",
       "7026               1            0.264                  0                0   \n",
       "\n",
       "      Gender_Male  \n",
       "6851            0  \n",
       "7026            0  "
      ]
     },
     "metadata": {},
     "output_type": "display_data"
    },
    {
     "data": {
      "text/html": [
       "<div>\n",
       "<style scoped>\n",
       "    .dataframe tbody tr th:only-of-type {\n",
       "        vertical-align: middle;\n",
       "    }\n",
       "\n",
       "    .dataframe tbody tr th {\n",
       "        vertical-align: top;\n",
       "    }\n",
       "\n",
       "    .dataframe thead th {\n",
       "        text-align: right;\n",
       "    }\n",
       "</style>\n",
       "<table border=\"1\" class=\"dataframe\">\n",
       "  <thead>\n",
       "    <tr style=\"text-align: right;\">\n",
       "      <th></th>\n",
       "      <th>CreditScore</th>\n",
       "      <th>Age</th>\n",
       "      <th>Tenure</th>\n",
       "      <th>Balance</th>\n",
       "      <th>NumOfProducts</th>\n",
       "      <th>HasCrCard</th>\n",
       "      <th>IsActiveMember</th>\n",
       "      <th>EstimatedSalary</th>\n",
       "      <th>Geography_Germany</th>\n",
       "      <th>Geography_Spain</th>\n",
       "      <th>Gender_Male</th>\n",
       "    </tr>\n",
       "  </thead>\n",
       "  <tbody>\n",
       "    <tr>\n",
       "      <th>8583</th>\n",
       "      <td>-0.620</td>\n",
       "      <td>-0.087</td>\n",
       "      <td>2.0</td>\n",
       "      <td>1.060</td>\n",
       "      <td>1</td>\n",
       "      <td>0</td>\n",
       "      <td>1</td>\n",
       "      <td>0.350</td>\n",
       "      <td>0</td>\n",
       "      <td>0</td>\n",
       "      <td>0</td>\n",
       "    </tr>\n",
       "    <tr>\n",
       "      <th>1924</th>\n",
       "      <td>0.168</td>\n",
       "      <td>0.487</td>\n",
       "      <td>8.0</td>\n",
       "      <td>0.739</td>\n",
       "      <td>1</td>\n",
       "      <td>1</td>\n",
       "      <td>1</td>\n",
       "      <td>-0.135</td>\n",
       "      <td>0</td>\n",
       "      <td>0</td>\n",
       "      <td>1</td>\n",
       "    </tr>\n",
       "  </tbody>\n",
       "</table>\n",
       "</div>"
      ],
      "text/plain": [
       "      CreditScore    Age  Tenure  Balance  NumOfProducts  HasCrCard  \\\n",
       "8583       -0.620 -0.087     2.0    1.060              1          0   \n",
       "1924        0.168  0.487     8.0    0.739              1          1   \n",
       "\n",
       "      IsActiveMember  EstimatedSalary  Geography_Germany  Geography_Spain  \\\n",
       "8583               1            0.350                  0                0   \n",
       "1924               1           -0.135                  0                0   \n",
       "\n",
       "      Gender_Male  \n",
       "8583            0  \n",
       "1924            1  "
      ]
     },
     "metadata": {},
     "output_type": "display_data"
    },
    {
     "data": {
      "text/html": [
       "<div>\n",
       "<style scoped>\n",
       "    .dataframe tbody tr th:only-of-type {\n",
       "        vertical-align: middle;\n",
       "    }\n",
       "\n",
       "    .dataframe tbody tr th {\n",
       "        vertical-align: top;\n",
       "    }\n",
       "\n",
       "    .dataframe thead th {\n",
       "        text-align: right;\n",
       "    }\n",
       "</style>\n",
       "<table border=\"1\" class=\"dataframe\">\n",
       "  <thead>\n",
       "    <tr style=\"text-align: right;\">\n",
       "      <th></th>\n",
       "      <th>CreditScore</th>\n",
       "      <th>Age</th>\n",
       "      <th>Tenure</th>\n",
       "      <th>Balance</th>\n",
       "      <th>NumOfProducts</th>\n",
       "      <th>HasCrCard</th>\n",
       "      <th>IsActiveMember</th>\n",
       "      <th>EstimatedSalary</th>\n",
       "      <th>Geography_Germany</th>\n",
       "      <th>Geography_Spain</th>\n",
       "      <th>Gender_Male</th>\n",
       "    </tr>\n",
       "  </thead>\n",
       "  <tbody>\n",
       "    <tr>\n",
       "      <th>9167</th>\n",
       "      <td>-0.454</td>\n",
       "      <td>-1.236</td>\n",
       "      <td>1.0</td>\n",
       "      <td>-1.221</td>\n",
       "      <td>1</td>\n",
       "      <td>1</td>\n",
       "      <td>0</td>\n",
       "      <td>-1.215</td>\n",
       "      <td>0</td>\n",
       "      <td>0</td>\n",
       "      <td>1</td>\n",
       "    </tr>\n",
       "    <tr>\n",
       "      <th>9387</th>\n",
       "      <td>-1.315</td>\n",
       "      <td>-0.661</td>\n",
       "      <td>1.0</td>\n",
       "      <td>1.101</td>\n",
       "      <td>1</td>\n",
       "      <td>0</td>\n",
       "      <td>0</td>\n",
       "      <td>1.537</td>\n",
       "      <td>0</td>\n",
       "      <td>0</td>\n",
       "      <td>1</td>\n",
       "    </tr>\n",
       "  </tbody>\n",
       "</table>\n",
       "</div>"
      ],
      "text/plain": [
       "      CreditScore    Age  Tenure  Balance  NumOfProducts  HasCrCard  \\\n",
       "9167       -0.454 -1.236     1.0   -1.221              1          1   \n",
       "9387       -1.315 -0.661     1.0    1.101              1          0   \n",
       "\n",
       "      IsActiveMember  EstimatedSalary  Geography_Germany  Geography_Spain  \\\n",
       "9167               0           -1.215                  0                0   \n",
       "9387               0            1.537                  0                0   \n",
       "\n",
       "      Gender_Male  \n",
       "9167            1  \n",
       "9387            1  "
      ]
     },
     "metadata": {},
     "output_type": "display_data"
    }
   ],
   "source": [
    "numeric = ['CreditScore', 'Age', 'Balance', 'EstimatedSalary']\n",
    "scaler = StandardScaler()\n",
    "scaler.fit(x_train[numeric])\n",
    "for data in [x_train, x_valid, x_test]:\n",
    "    data[numeric] = scaler.transform(data[numeric])\n",
    "    display(data.head(2))"
   ]
  },
  {
   "cell_type": "markdown",
   "metadata": {},
   "source": [
    "Проверим, в каком соотношении представлены значения целевого признака в данных"
   ]
  },
  {
   "cell_type": "code",
   "execution_count": 15,
   "metadata": {},
   "outputs": [
    {
     "data": {
      "text/plain": [
       "0    0.796\n",
       "1    0.204\n",
       "Name: Exited, dtype: float64"
      ]
     },
     "metadata": {},
     "output_type": "display_data"
    },
    {
     "data": {
      "text/plain": [
       "0    0.796\n",
       "1    0.204\n",
       "Name: Exited, dtype: float64"
      ]
     },
     "metadata": {},
     "output_type": "display_data"
    },
    {
     "data": {
      "text/plain": [
       "0    0.796\n",
       "1    0.203\n",
       "Name: Exited, dtype: float64"
      ]
     },
     "metadata": {},
     "output_type": "display_data"
    }
   ],
   "source": [
    "for data in [y_train, y_valid, y_test]:\n",
    "    display(data.value_counts(normalize = 1))"
   ]
  },
  {
   "cell_type": "markdown",
   "metadata": {},
   "source": [
    "Соотношение примерно одинаковое во всех выборках, что хорошо, но оно составляет около 80/20. Сильный дисбаланс может вызвать проблемы с точностью моделей"
   ]
  },
  {
   "cell_type": "markdown",
   "metadata": {},
   "source": [
    "### Тестирование моделей"
   ]
  },
  {
   "cell_type": "markdown",
   "metadata": {},
   "source": [
    "Для тестирования создадим функцию, которая будет обучать выбранные модели со стандартными гиперпараметрами и выводить матрицы ошибок и показатели по основным метрикам:\n",
    "- ROC-AUC\n",
    "- Точность\n",
    "- Полнота\n",
    "- F1-мера\n",
    "- Accuracy"
   ]
  },
  {
   "cell_type": "code",
   "execution_count": 16,
   "metadata": {},
   "outputs": [],
   "source": [
    "def train_score_models(features_train, target_train, features_valid, target_valid, balancing):\n",
    "    \n",
    "    models = {'Decision Tree': DecisionTreeClassifier(random_state=SEED,\n",
    "                                                      class_weight=balancing), \n",
    "              'Random Forest': RandomForestClassifier(random_state=SEED,\n",
    "                                                      class_weight=balancing),\n",
    "              'Logistic Regression': LogisticRegression(random_state=SEED,\n",
    "                                                        class_weight=balancing)}\n",
    "    model_scores = {}\n",
    "    confusion = []\n",
    "    \n",
    "    for model in models:\n",
    "        scores = {}\n",
    "        clf = models[model]\n",
    "        clf.fit(features_train, target_train)\n",
    "        prediction = clf.predict(features_valid)\n",
    "        \n",
    "        scores['Accuracy'] = accuracy_score(target_valid, prediction)\n",
    "        confusion.append(confusion_matrix(target_valid, prediction, normalize = 'true'))\n",
    "        scores['F1-score'] = f1_score(target_valid, prediction)\n",
    "        scores['Precision'] = precision_score(target_valid, prediction)\n",
    "        scores['Recall'] = recall_score(target_valid, prediction)\n",
    "        scores['ROC-AUC'] = roc_auc_score(target_valid, prediction)\n",
    "        model_scores[model]=scores\n",
    "    scoring_table = pd.DataFrame(model_scores)\n",
    "    \n",
    "    plt.rcParams['axes.grid'] = False   \n",
    "    \n",
    "    fig = plt.figure(figsize=(15, 5))\n",
    "    plt.tight_layout(pad=1)\n",
    "    for i in range(1, 4):\n",
    "        ax = fig.add_subplot(2, 3, i)\n",
    "        ConfusionMatrixDisplay(confusion[i-1]).plot(ax =ax)\n",
    "        ax.set_title(scoring_table.T.index[i-1])\n",
    "    plt.suptitle('Матрицы ошибок')\n",
    "    \n",
    "    plt.show()\n",
    "    plt.rcParams['axes.grid'] = True\n",
    "    \n",
    "    display(scoring_table.T)\n",
    "    return scoring_table.T"
   ]
  },
  {
   "cell_type": "code",
   "execution_count": 17,
   "metadata": {},
   "outputs": [
    {
     "data": {
      "image/png": "[encoded data removed]",
      "text/plain": [
       "<Figure size 1080x360 with 6 Axes>"
      ]
     },
     "metadata": {},
     "output_type": "display_data"
    },
    {
     "data": {
      "text/html": [
       "<div>\n",
       "<style scoped>\n",
       "    .dataframe tbody tr th:only-of-type {\n",
       "        vertical-align: middle;\n",
       "    }\n",
       "\n",
       "    .dataframe tbody tr th {\n",
       "        vertical-align: top;\n",
       "    }\n",
       "\n",
       "    .dataframe thead th {\n",
       "        text-align: right;\n",
       "    }\n",
       "</style>\n",
       "<table border=\"1\" class=\"dataframe\">\n",
       "  <thead>\n",
       "    <tr style=\"text-align: right;\">\n",
       "      <th></th>\n",
       "      <th>Accuracy</th>\n",
       "      <th>F1-score</th>\n",
       "      <th>Precision</th>\n",
       "      <th>Recall</th>\n",
       "      <th>ROC-AUC</th>\n",
       "    </tr>\n",
       "  </thead>\n",
       "  <tbody>\n",
       "    <tr>\n",
       "      <th>Decision Tree</th>\n",
       "      <td>0.789</td>\n",
       "      <td>0.491</td>\n",
       "      <td>0.484</td>\n",
       "      <td>0.498</td>\n",
       "      <td>0.681</td>\n",
       "    </tr>\n",
       "    <tr>\n",
       "      <th>Random Forest</th>\n",
       "      <td>0.862</td>\n",
       "      <td>0.593</td>\n",
       "      <td>0.744</td>\n",
       "      <td>0.493</td>\n",
       "      <td>0.725</td>\n",
       "    </tr>\n",
       "    <tr>\n",
       "      <th>Logistic Regression</th>\n",
       "      <td>0.812</td>\n",
       "      <td>0.324</td>\n",
       "      <td>0.612</td>\n",
       "      <td>0.221</td>\n",
       "      <td>0.592</td>\n",
       "    </tr>\n",
       "  </tbody>\n",
       "</table>\n",
       "</div>"
      ],
      "text/plain": [
       "                     Accuracy  F1-score  Precision  Recall  ROC-AUC\n",
       "Decision Tree           0.789     0.491      0.484   0.498    0.681\n",
       "Random Forest           0.862     0.593      0.744   0.493    0.725\n",
       "Logistic Regression     0.812     0.324      0.612   0.221    0.592"
      ]
     },
     "metadata": {},
     "output_type": "display_data"
    }
   ],
   "source": [
    "scoring_table_unbalanced = train_score_models(x_train, y_train, x_valid, y_valid, None)"
   ]
  },
  {
   "cell_type": "markdown",
   "metadata": {},
   "source": [
    "Сравним долю верных ответов с показаниями, которые даёт \"неадекватная\" модель"
   ]
  },
  {
   "cell_type": "code",
   "execution_count": 18,
   "metadata": {},
   "outputs": [
    {
     "data": {
      "text/plain": [
       "0.796"
      ]
     },
     "execution_count": 18,
     "metadata": {},
     "output_type": "execute_result"
    }
   ],
   "source": [
    "dummy_clf = DummyClassifier(strategy=\"most_frequent\")\n",
    "dummy_clf.fit(x_train, y_train)\n",
    "\n",
    "dummy_clf.predict(x_valid)\n",
    "dummy_clf.score(x_valid, y_valid)"
   ]
  },
  {
   "cell_type": "markdown",
   "metadata": {},
   "source": [
    "Результаты моделей в этом плане почти не отличаются от модели, которая во всех случаях выдаёт 0. Случайный лес чуть более адекватнее остальных моделей. F1-мера сходу чуть больше требуемых 0.59\n",
    "Посмотрим, как изменятся значения при применении методик борьбы с дисбалансом"
   ]
  },
  {
   "cell_type": "markdown",
   "metadata": {},
   "source": [
    "## Борьба с дисбалансом"
   ]
  },
  {
   "cell_type": "markdown",
   "metadata": {},
   "source": [
    "### Взвешивание классов при инициализации и обучении моделей (*weight_class = 'balanced'*)"
   ]
  },
  {
   "cell_type": "code",
   "execution_count": 19,
   "metadata": {},
   "outputs": [
    {
     "data": {
      "image/png": "[encoded data removed]",
      "text/plain": [
       "<Figure size 1080x360 with 6 Axes>"
      ]
     },
     "metadata": {},
     "output_type": "display_data"
    },
    {
     "data": {
      "text/html": [
       "<div>\n",
       "<style scoped>\n",
       "    .dataframe tbody tr th:only-of-type {\n",
       "        vertical-align: middle;\n",
       "    }\n",
       "\n",
       "    .dataframe tbody tr th {\n",
       "        vertical-align: top;\n",
       "    }\n",
       "\n",
       "    .dataframe thead th {\n",
       "        text-align: right;\n",
       "    }\n",
       "</style>\n",
       "<table border=\"1\" class=\"dataframe\">\n",
       "  <thead>\n",
       "    <tr style=\"text-align: right;\">\n",
       "      <th></th>\n",
       "      <th>Accuracy</th>\n",
       "      <th>F1-score</th>\n",
       "      <th>Precision</th>\n",
       "      <th>Recall</th>\n",
       "      <th>ROC-AUC</th>\n",
       "    </tr>\n",
       "  </thead>\n",
       "  <tbody>\n",
       "    <tr>\n",
       "      <th>Decision Tree</th>\n",
       "      <td>0.801</td>\n",
       "      <td>0.515</td>\n",
       "      <td>0.512</td>\n",
       "      <td>0.517</td>\n",
       "      <td>0.695</td>\n",
       "    </tr>\n",
       "    <tr>\n",
       "      <th>Random Forest</th>\n",
       "      <td>0.858</td>\n",
       "      <td>0.565</td>\n",
       "      <td>0.749</td>\n",
       "      <td>0.453</td>\n",
       "      <td>0.707</td>\n",
       "    </tr>\n",
       "    <tr>\n",
       "      <th>Logistic Regression</th>\n",
       "      <td>0.720</td>\n",
       "      <td>0.521</td>\n",
       "      <td>0.400</td>\n",
       "      <td>0.748</td>\n",
       "      <td>0.730</td>\n",
       "    </tr>\n",
       "  </tbody>\n",
       "</table>\n",
       "</div>"
      ],
      "text/plain": [
       "                     Accuracy  F1-score  Precision  Recall  ROC-AUC\n",
       "Decision Tree           0.801     0.515      0.512   0.517    0.695\n",
       "Random Forest           0.858     0.565      0.749   0.453    0.707\n",
       "Logistic Regression     0.720     0.521      0.400   0.748    0.730"
      ]
     },
     "metadata": {},
     "output_type": "display_data"
    }
   ],
   "source": [
    "scoring_table_balanced = train_score_models(x_train, y_train, x_valid, y_valid, 'balanced')"
   ]
  },
  {
   "cell_type": "markdown",
   "metadata": {},
   "source": [
    "Для сравнения выведем снова прошлые результаты"
   ]
  },
  {
   "cell_type": "code",
   "execution_count": 20,
   "metadata": {},
   "outputs": [
    {
     "data": {
      "text/html": [
       "<div>\n",
       "<style scoped>\n",
       "    .dataframe tbody tr th:only-of-type {\n",
       "        vertical-align: middle;\n",
       "    }\n",
       "\n",
       "    .dataframe tbody tr th {\n",
       "        vertical-align: top;\n",
       "    }\n",
       "\n",
       "    .dataframe thead th {\n",
       "        text-align: right;\n",
       "    }\n",
       "</style>\n",
       "<table border=\"1\" class=\"dataframe\">\n",
       "  <thead>\n",
       "    <tr style=\"text-align: right;\">\n",
       "      <th></th>\n",
       "      <th>Accuracy</th>\n",
       "      <th>F1-score</th>\n",
       "      <th>Precision</th>\n",
       "      <th>Recall</th>\n",
       "      <th>ROC-AUC</th>\n",
       "    </tr>\n",
       "  </thead>\n",
       "  <tbody>\n",
       "    <tr>\n",
       "      <th>Decision Tree</th>\n",
       "      <td>0.789</td>\n",
       "      <td>0.491</td>\n",
       "      <td>0.484</td>\n",
       "      <td>0.498</td>\n",
       "      <td>0.681</td>\n",
       "    </tr>\n",
       "    <tr>\n",
       "      <th>Random Forest</th>\n",
       "      <td>0.862</td>\n",
       "      <td>0.593</td>\n",
       "      <td>0.744</td>\n",
       "      <td>0.493</td>\n",
       "      <td>0.725</td>\n",
       "    </tr>\n",
       "    <tr>\n",
       "      <th>Logistic Regression</th>\n",
       "      <td>0.812</td>\n",
       "      <td>0.324</td>\n",
       "      <td>0.612</td>\n",
       "      <td>0.221</td>\n",
       "      <td>0.592</td>\n",
       "    </tr>\n",
       "  </tbody>\n",
       "</table>\n",
       "</div>"
      ],
      "text/plain": [
       "                     Accuracy  F1-score  Precision  Recall  ROC-AUC\n",
       "Decision Tree           0.789     0.491      0.484   0.498    0.681\n",
       "Random Forest           0.862     0.593      0.744   0.493    0.725\n",
       "Logistic Regression     0.812     0.324      0.612   0.221    0.592"
      ]
     },
     "execution_count": 20,
     "metadata": {},
     "output_type": "execute_result"
    }
   ],
   "source": [
    "scoring_table_unbalanced"
   ]
  },
  {
   "cell_type": "markdown",
   "metadata": {},
   "source": [
    "Для логистической регрессии значительно возросли F1-мера, полнота и ROC-AUC, при этом упала точность \n",
    "<br>\n",
    "На дерево решений и случайный лес данный гиперпараметр влияет не так сильно, но результаты немного хуже\n",
    "<br>\n",
    "\n",
    "<br>\n",
    "Ни одна из моделей не проходит отбор по критерию F1-меры"
   ]
  },
  {
   "cell_type": "markdown",
   "metadata": {},
   "source": [
    "### Увеличение / уменьшение присутствия целевого признака и соответствующих признаков (upsampling/downsampling)"
   ]
  },
  {
   "cell_type": "markdown",
   "metadata": {},
   "source": [
    "Для внесения баланса в данные попробуем:\n",
    " - увеличить присутствие в них целевого признака с положительным значением\n",
    " - уменьшить присутствие целевого признака с отрицательным значением"
   ]
  },
  {
   "cell_type": "code",
   "execution_count": 21,
   "metadata": {},
   "outputs": [
    {
     "data": {
      "text/plain": [
       "1    0.506\n",
       "0    0.494\n",
       "Name: Exited, dtype: float64"
      ]
     },
     "metadata": {},
     "output_type": "display_data"
    },
    {
     "data": {
      "text/plain": [
       "1    0.506\n",
       "0    0.494\n",
       "Name: Exited, dtype: float64"
      ]
     },
     "metadata": {},
     "output_type": "display_data"
    }
   ],
   "source": [
    "def upsample(features, target, repeat):\n",
    "    features_zeros = features[target == 0]\n",
    "    features_ones = features[target == 1]\n",
    "    target_zeros = target[target == 0]\n",
    "    target_ones = target[target == 1]\n",
    "    \n",
    "    features_upsampled = pd.concat([features_zeros] + [features_ones] * repeat)\n",
    "    target_upsampled = pd.concat([target_zeros] + [target_ones] * repeat)\n",
    "    \n",
    "    features_upsampled, target_upsampled = shuffle(\n",
    "        features_upsampled,\n",
    "        target_upsampled,\n",
    "        random_state=2411)\n",
    "    \n",
    "    return features_upsampled, target_upsampled\n",
    "\n",
    "def downsample(features, target, fraction):\n",
    "    features_zeros = features[target == 0]\n",
    "    features_ones = features[target == 1]\n",
    "    target_zeros = target[target == 0]\n",
    "    target_ones = target[target == 1]\n",
    "    \n",
    "    features_downsampled = pd.concat([features_zeros.sample(frac=fraction, random_state=12345)] + [features_ones])\n",
    "    target_downsampled = pd.concat([target_zeros.sample(frac=fraction, random_state=12345)] + [target_ones])\n",
    "    \n",
    "    features_downsampled, target_downsampled = shuffle(\n",
    "        features_downsampled,\n",
    "        target_downsampled,\n",
    "        random_state=2411)\n",
    "    \n",
    "    return features_downsampled, target_downsampled\n",
    "\n",
    "x_train_upsampled, y_train_upsampled = upsample(x_train, y_train, 4)\n",
    "display(y_train_upsampled.value_counts(normalize = 1))\n",
    "\n",
    "x_train_downsampled, y_train_downsampled = downsample(x_train, y_train, 0.25)\n",
    "display(y_train_downsampled.value_counts(normalize = 1))"
   ]
  },
  {
   "cell_type": "markdown",
   "metadata": {},
   "source": [
    "Снова проведём простую проверку трёх моделей, но обученных на сбалансированных данных"
   ]
  },
  {
   "cell_type": "markdown",
   "metadata": {},
   "source": [
    "#### Сбалансированные данные - увеличено число значений 1"
   ]
  },
  {
   "cell_type": "code",
   "execution_count": 22,
   "metadata": {},
   "outputs": [
    {
     "data": {
      "image/png": "[encoded data removed]",
      "text/plain": [
       "<Figure size 1080x360 with 6 Axes>"
      ]
     },
     "metadata": {},
     "output_type": "display_data"
    },
    {
     "data": {
      "text/html": [
       "<div>\n",
       "<style scoped>\n",
       "    .dataframe tbody tr th:only-of-type {\n",
       "        vertical-align: middle;\n",
       "    }\n",
       "\n",
       "    .dataframe tbody tr th {\n",
       "        vertical-align: top;\n",
       "    }\n",
       "\n",
       "    .dataframe thead th {\n",
       "        text-align: right;\n",
       "    }\n",
       "</style>\n",
       "<table border=\"1\" class=\"dataframe\">\n",
       "  <thead>\n",
       "    <tr style=\"text-align: right;\">\n",
       "      <th></th>\n",
       "      <th>Accuracy</th>\n",
       "      <th>F1-score</th>\n",
       "      <th>Precision</th>\n",
       "      <th>Recall</th>\n",
       "      <th>ROC-AUC</th>\n",
       "    </tr>\n",
       "  </thead>\n",
       "  <tbody>\n",
       "    <tr>\n",
       "      <th>Decision Tree</th>\n",
       "      <td>0.798</td>\n",
       "      <td>0.499</td>\n",
       "      <td>0.506</td>\n",
       "      <td>0.493</td>\n",
       "      <td>0.685</td>\n",
       "    </tr>\n",
       "    <tr>\n",
       "      <th>Random Forest</th>\n",
       "      <td>0.850</td>\n",
       "      <td>0.603</td>\n",
       "      <td>0.652</td>\n",
       "      <td>0.561</td>\n",
       "      <td>0.742</td>\n",
       "    </tr>\n",
       "    <tr>\n",
       "      <th>Logistic Regression</th>\n",
       "      <td>0.716</td>\n",
       "      <td>0.521</td>\n",
       "      <td>0.397</td>\n",
       "      <td>0.757</td>\n",
       "      <td>0.731</td>\n",
       "    </tr>\n",
       "  </tbody>\n",
       "</table>\n",
       "</div>"
      ],
      "text/plain": [
       "                     Accuracy  F1-score  Precision  Recall  ROC-AUC\n",
       "Decision Tree           0.798     0.499      0.506   0.493    0.685\n",
       "Random Forest           0.850     0.603      0.652   0.561    0.742\n",
       "Logistic Regression     0.716     0.521      0.397   0.757    0.731"
      ]
     },
     "metadata": {},
     "output_type": "display_data"
    }
   ],
   "source": [
    "balanced_comparison_upsampled = train_score_models(x_train_upsampled, y_train_upsampled, x_valid, y_valid, None)"
   ]
  },
  {
   "cell_type": "markdown",
   "metadata": {},
   "source": [
    "#### Сбалансированные данные - уменьшено число значений 0"
   ]
  },
  {
   "cell_type": "code",
   "execution_count": 23,
   "metadata": {},
   "outputs": [
    {
     "data": {
      "image/png": "[encoded data removed]",
      "text/plain": [
       "<Figure size 1080x360 with 6 Axes>"
      ]
     },
     "metadata": {},
     "output_type": "display_data"
    },
    {
     "data": {
      "text/html": [
       "<div>\n",
       "<style scoped>\n",
       "    .dataframe tbody tr th:only-of-type {\n",
       "        vertical-align: middle;\n",
       "    }\n",
       "\n",
       "    .dataframe tbody tr th {\n",
       "        vertical-align: top;\n",
       "    }\n",
       "\n",
       "    .dataframe thead th {\n",
       "        text-align: right;\n",
       "    }\n",
       "</style>\n",
       "<table border=\"1\" class=\"dataframe\">\n",
       "  <thead>\n",
       "    <tr style=\"text-align: right;\">\n",
       "      <th></th>\n",
       "      <th>Accuracy</th>\n",
       "      <th>F1-score</th>\n",
       "      <th>Precision</th>\n",
       "      <th>Recall</th>\n",
       "      <th>ROC-AUC</th>\n",
       "    </tr>\n",
       "  </thead>\n",
       "  <tbody>\n",
       "    <tr>\n",
       "      <th>Decision Tree</th>\n",
       "      <td>0.678</td>\n",
       "      <td>0.478</td>\n",
       "      <td>0.357</td>\n",
       "      <td>0.721</td>\n",
       "      <td>0.694</td>\n",
       "    </tr>\n",
       "    <tr>\n",
       "      <th>Random Forest</th>\n",
       "      <td>0.765</td>\n",
       "      <td>0.576</td>\n",
       "      <td>0.456</td>\n",
       "      <td>0.782</td>\n",
       "      <td>0.772</td>\n",
       "    </tr>\n",
       "    <tr>\n",
       "      <th>Logistic Regression</th>\n",
       "      <td>0.710</td>\n",
       "      <td>0.515</td>\n",
       "      <td>0.390</td>\n",
       "      <td>0.755</td>\n",
       "      <td>0.726</td>\n",
       "    </tr>\n",
       "  </tbody>\n",
       "</table>\n",
       "</div>"
      ],
      "text/plain": [
       "                     Accuracy  F1-score  Precision  Recall  ROC-AUC\n",
       "Decision Tree           0.678     0.478      0.357   0.721    0.694\n",
       "Random Forest           0.765     0.576      0.456   0.782    0.772\n",
       "Logistic Regression     0.710     0.515      0.390   0.755    0.726"
      ]
     },
     "metadata": {},
     "output_type": "display_data"
    }
   ],
   "source": [
    "balanced_comparison_downsampled = train_score_models(x_train_downsampled, y_train_downsampled, x_valid, y_valid, None)"
   ]
  },
  {
   "cell_type": "markdown",
   "metadata": {},
   "source": [
    "Лучший результат показывает случайный лес при балансировке данных путём увеличения присутствия целевого признака с положительным значением\n",
    "<br>**F1-мера** на валидационной выборке - **0.603**\n",
    "<br>Но, у модели, обученной на downsampled-выборке больше полнота. Выбрав эту модель, попытки маркетологов сохранить клиентов будут захватывать б*о*льшую часть уходящих клиентов и довольно значимую долю тех, кто уходить не собирался. При выборе первой модели мы захватываем чуть меньше половины уходящих клиентов, но почти не тратимся на лояльных клиентов.\n",
    "\n",
    "Зная примерную стоимость удержания клиента, можно было бы оценить выгодность использования моделей.\n",
    "\n",
    "В данном случае выберем ту, у которой больше F1-мера и будем использовать upsampled-выборку\n",
    "\n"
   ]
  },
  {
   "cell_type": "markdown",
   "metadata": {},
   "source": [
    "## Подбор гиперпараметров модели"
   ]
  },
  {
   "cell_type": "markdown",
   "metadata": {},
   "source": [
    "В дальнейшем, будем работать с алгоритмом Случайного Леса и попробуем подобрать гиперпараметры так, чтобы улучшить имеющийся результат\n",
    "Подберём число деревьев и их максимальную глубину"
   ]
  },
  {
   "cell_type": "code",
   "execution_count": 24,
   "metadata": {},
   "outputs": [
    {
     "name": "stdout",
     "output_type": "stream",
     "text": [
      "Наибольшее значение F1 на валидационной выборке: 0.6329113924050633 \n",
      "Достигается при числе деревьев: 100 и максимальной глубине дерева: 12\n"
     ]
    }
   ],
   "source": [
    "best_score = 0\n",
    "best_num_est = 0\n",
    "best_depth = 0\n",
    "best_model = None\n",
    "\n",
    "for num_est in range(100, 500, 100):\n",
    "    for depth in range(5, 16, 1):\n",
    "        model = RandomForestClassifier(max_depth=depth, n_estimators = num_est, random_state=SEED, max_features='sqrt' )\n",
    "        model.fit(x_train_upsampled, y_train_upsampled)\n",
    "        predictions = model.predict(x_valid)\n",
    "        score = f1_score(y_valid, predictions)\n",
    "        if score > best_score:\n",
    "            best_num_est = num_est\n",
    "            best_depth = depth\n",
    "            best_score = score\n",
    "            best_model = model\n",
    "        \n",
    "print('Наибольшее значение F1 на валидационной выборке:', best_score,\n",
    "     '\\nДостигается при числе деревьев:', best_num_est, 'и максимальной глубине дерева:', best_depth)\n"
   ]
  },
  {
   "cell_type": "markdown",
   "metadata": {},
   "source": [
    "Выведем остальные значения метрик по данной модели"
   ]
  },
  {
   "cell_type": "code",
   "execution_count": 25,
   "metadata": {},
   "outputs": [],
   "source": [
    "forest_prediction = best_model.predict(x_valid)\n",
    "    # Доля верных ответов\n",
    "score_forest = best_model.score(x_valid, y_valid)\n",
    "    # Матрица ошибок\n",
    "cm_forest = confusion_matrix(y_valid, forest_prediction, normalize='true')\n",
    "    # Рассчёты для ROC-AUC\n",
    "y_score_forest = best_model.predict_proba(x_valid)\n",
    "    # ROC-AUC\n",
    "fpr_forest, tpr_forest, _ = roc_curve(y_valid, y_score_forest[:,1], pos_label=best_model.classes_[1])\n",
    "    # Точность - полнота\n",
    "prec_forest, recall_forest, _ = precision_recall_curve(y_valid, y_score_forest[:,1], pos_label=best_model.classes_[1])\n",
    "# вывод в таблицу\n",
    "models_scores = pd.DataFrame(\n",
    "        {\n",
    "         'Доля верных ответов':score_forest,\n",
    "        'F1-score': f1_score(y_valid, forest_prediction),\n",
    "         'Полнота': recall_score(y_valid, forest_prediction),\n",
    "         'Точность':precision_score(y_valid, forest_prediction),\n",
    "         'ROC-AUC':roc_auc_score(y_valid, forest_prediction)\n",
    "        }, columns = ['Доля верных ответов', 'F1-score', 'Полнота', 'Точность', 'ROC-AUC'], index = ['Показатели на валидационной выборке'])\n"
   ]
  },
  {
   "cell_type": "code",
   "execution_count": 26,
   "metadata": {},
   "outputs": [
    {
     "data": {
      "image/png": "[encoded data removed]",
      "text/plain": [
       "<Figure size 936x288 with 4 Axes>"
      ]
     },
     "metadata": {},
     "output_type": "display_data"
    }
   ],
   "source": [
    "# вывод графиков\n",
    "plt.rcParams['axes.grid'] = False\n",
    "fig, ((ax1, ax2, ax3)) = plt.subplots(1, 3, figsize=(13, 4))\n",
    "plt.tight_layout(pad= 1)\n",
    "\n",
    "ConfusionMatrixDisplay(cm_forest).plot(ax = ax1)\n",
    "ax1.set_title('Матрица ошибок (пропорции)')\n",
    "    \n",
    "RocCurveDisplay(fpr=fpr_forest, tpr=tpr_forest).plot(ax = ax2)\n",
    "ax2.plot([0, 1], [0, 1], linestyle='--', lw=2, color='r',\n",
    "        label='Случайная модель', alpha=.8)\n",
    "ax2.set_title('Кривая ROC-AUC')\n",
    "ax2.legend()\n",
    "ax2.grid()\n",
    "\n",
    "PrecisionRecallDisplay(precision=prec_forest, recall=recall_forest).plot(ax = ax3)\n",
    "ax3.set_title('Кривая Precision-Recall')\n",
    "ax3.grid()\n",
    "\n",
    "plt.show()"
   ]
  },
  {
   "cell_type": "code",
   "execution_count": 27,
   "metadata": {},
   "outputs": [
    {
     "data": {
      "text/html": [
       "<div>\n",
       "<style scoped>\n",
       "    .dataframe tbody tr th:only-of-type {\n",
       "        vertical-align: middle;\n",
       "    }\n",
       "\n",
       "    .dataframe tbody tr th {\n",
       "        vertical-align: top;\n",
       "    }\n",
       "\n",
       "    .dataframe thead th {\n",
       "        text-align: right;\n",
       "    }\n",
       "</style>\n",
       "<table border=\"1\" class=\"dataframe\">\n",
       "  <thead>\n",
       "    <tr style=\"text-align: right;\">\n",
       "      <th></th>\n",
       "      <th>Доля верных ответов</th>\n",
       "      <th>F1-score</th>\n",
       "      <th>Полнота</th>\n",
       "      <th>Точность</th>\n",
       "      <th>ROC-AUC</th>\n",
       "    </tr>\n",
       "  </thead>\n",
       "  <tbody>\n",
       "    <tr>\n",
       "      <th>Показатели на валидационной выборке</th>\n",
       "      <td>0.841</td>\n",
       "      <td>0.633</td>\n",
       "      <td>0.674</td>\n",
       "      <td>0.597</td>\n",
       "      <td>0.779</td>\n",
       "    </tr>\n",
       "  </tbody>\n",
       "</table>\n",
       "</div>"
      ],
      "text/plain": [
       "                                     Доля верных ответов  F1-score  Полнота  \\\n",
       "Показатели на валидационной выборке                0.841     0.633    0.674   \n",
       "\n",
       "                                     Точность  ROC-AUC  \n",
       "Показатели на валидационной выборке     0.597    0.779  "
      ]
     },
     "execution_count": 27,
     "metadata": {},
     "output_type": "execute_result"
    }
   ],
   "source": [
    "models_scores"
   ]
  },
  {
   "cell_type": "markdown",
   "metadata": {},
   "source": [
    "# 4. Тестирование модели"
   ]
  },
  {
   "cell_type": "code",
   "execution_count": 28,
   "metadata": {},
   "outputs": [],
   "source": [
    "forest_prediction = best_model.predict(x_test)\n",
    "    # Доля верных ответов \n",
    "score_forest = best_model.score(x_test, y_test)\n",
    "    # Матрица ошибок\n",
    "cm_forest = confusion_matrix(y_test, forest_prediction, normalize='true')\n",
    "    # Рассчёты для ROC-AUC\n",
    "y_score_forest = best_model.predict_proba(x_test)\n",
    "    # ROC-AUC\n",
    "fpr_forest, tpr_forest, _ = roc_curve(y_test, y_score_forest[:,1], pos_label=best_model.classes_[1])\n",
    "    # Точность - полнота\n",
    "prec_forest, recall_forest, _ = precision_recall_curve(y_test, y_score_forest[:,1], pos_label=best_model.classes_[1])\n",
    "\n",
    "# вывод в таблицу\n",
    "test_scores = pd.DataFrame(\n",
    "        {\n",
    "         'Доля верных ответов':score_forest,\n",
    "        'F1-score': f1_score(y_test, forest_prediction),\n",
    "         'Полнота': recall_score(y_test, forest_prediction),\n",
    "         'Точность':precision_score(y_test, forest_prediction),\n",
    "         'ROC-AUC':roc_auc_score(y_test, forest_prediction)\n",
    "        }, columns = ['Доля верных ответов', 'F1-score', 'Полнота', 'Точность', 'ROC-AUC'], index = ['Показатели на тестовой выборке'])\n",
    "\n"
   ]
  },
  {
   "cell_type": "code",
   "execution_count": 29,
   "metadata": {},
   "outputs": [
    {
     "data": {
      "image/png": "[encoded data removed]",
      "text/plain": [
       "<Figure size 864x288 with 4 Axes>"
      ]
     },
     "metadata": {},
     "output_type": "display_data"
    }
   ],
   "source": [
    "plt.rcParams['axes.grid'] = False\n",
    "\n",
    "fig, ((ax1, ax2, ax3)) = plt.subplots(1, 3, figsize=(12, 4))\n",
    "plt.tight_layout(pad= 1)\n",
    "ConfusionMatrixDisplay(cm_forest).plot(ax = ax1)\n",
    "ax1.set_title('Матрица ошибок (пропорции)')\n",
    "    \n",
    "\n",
    "RocCurveDisplay(fpr=fpr_forest, tpr=tpr_forest).plot(ax = ax2)\n",
    "ax2.plot([0, 1], [0, 1], linestyle='--', lw=2, color='r',\n",
    "        label='Случайная модель', alpha=.8)\n",
    "ax2.set_title('Кривая ROC-AUC')\n",
    "ax2.legend()\n",
    "\n",
    "ax2.set_title('Кривая ROC-AUC')\n",
    "ax2.grid()\n",
    "PrecisionRecallDisplay(precision=prec_forest, recall=recall_forest).plot(ax = ax3)\n",
    "ax3.set_title('Кривая Precision-Recall')\n",
    "ax3.grid()\n",
    "\n",
    "plt.show()"
   ]
  },
  {
   "cell_type": "code",
   "execution_count": 30,
   "metadata": {},
   "outputs": [
    {
     "data": {
      "text/html": [
       "<div>\n",
       "<style scoped>\n",
       "    .dataframe tbody tr th:only-of-type {\n",
       "        vertical-align: middle;\n",
       "    }\n",
       "\n",
       "    .dataframe tbody tr th {\n",
       "        vertical-align: top;\n",
       "    }\n",
       "\n",
       "    .dataframe thead th {\n",
       "        text-align: right;\n",
       "    }\n",
       "</style>\n",
       "<table border=\"1\" class=\"dataframe\">\n",
       "  <thead>\n",
       "    <tr style=\"text-align: right;\">\n",
       "      <th></th>\n",
       "      <th>Доля верных ответов</th>\n",
       "      <th>F1-score</th>\n",
       "      <th>Полнота</th>\n",
       "      <th>Точность</th>\n",
       "      <th>ROC-AUC</th>\n",
       "    </tr>\n",
       "  </thead>\n",
       "  <tbody>\n",
       "    <tr>\n",
       "      <th>Показатели на тестовой выборке</th>\n",
       "      <td>0.837</td>\n",
       "      <td>0.61</td>\n",
       "      <td>0.629</td>\n",
       "      <td>0.593</td>\n",
       "      <td>0.759</td>\n",
       "    </tr>\n",
       "  </tbody>\n",
       "</table>\n",
       "</div>"
      ],
      "text/plain": [
       "                                Доля верных ответов  F1-score  Полнота  \\\n",
       "Показатели на тестовой выборке                0.837      0.61    0.629   \n",
       "\n",
       "                                Точность  ROC-AUC  \n",
       "Показатели на тестовой выборке     0.593    0.759  "
      ]
     },
     "execution_count": 30,
     "metadata": {},
     "output_type": "execute_result"
    }
   ],
   "source": [
    "test_scores"
   ]
  },
  {
   "cell_type": "markdown",
   "metadata": {},
   "source": [
    "F1-мера больше 0.59 "
   ]
  },
  {
   "cell_type": "markdown",
   "metadata": {},
   "source": [
    "## Вывод"
   ]
  },
  {
   "cell_type": "markdown",
   "metadata": {},
   "source": [
    "Была проведена проверка трёх алгоритмов машинного обучения для решения задачи классификации клиентов:\n",
    "- Логистическая регрессия\n",
    "- Дерево решений\n",
    "- Случайный лес<br>\n",
    "\n",
    "Целевым признаком являлся столбец *Exited* - обозначающий уход клиента из банка\n",
    "Основным критерием являлась F1-мера - учитывающая одновременно точность и полноту алгоритма, с пороговым значенем для прохождения теста **0.59**\n",
    "\n",
    "<br>\n",
    "В ходе анализа набора данных был выявлен значительный дисбаланс между отрицательными и положительными значениями целевого признака около 80/20\n",
    "<br>Данные были поделены на тренировочную, тестовую и валидационную выборки в пропорции 60/20/20 с сохранением дисбаланса.\n",
    "\n",
    "<br>Учёт данного фактора при инициализации моделей даёт значимый результат только для логистической регрессии, но не достаточный для преодоления порога отбора.\n",
    "<br>Для устранения дисбаланса в данных для обучения были опробованы две методики - уменьшения и увеличения выборки. Формально лучший результат (значение меры F1 на валидационной выборке - **0.603**) был получен алогоритмом Случайного леса при увеличении выборки, с увеличением присутствия в ней положительных значений признака *Exited*\n",
    "\n",
    "<br>Затем модель тестировалась на увеличенной выборке с различными значениями гиперпараметров:\n",
    "- *n_estimators* - число деревьев в лесу\n",
    "- *max_depth* - максимальная глубина дерева\n",
    "<br>\n",
    "\n",
    "Лучший результат был достигнут при значениях *n_estimators=100*, *max_depth=12* - F1-мера = **0.633** на валидационной выборке и **0.61** на тестовой, с показателем ROC-AUC **0.786** и **0.759** соответственно.\n",
    "<br>Для модели, предсказывающей случайным образом, этот показатель равен 0.5. Поэтому, по этой метрике результат тоже хороший\n",
    "<br> Доля правильных ответов составила **0.837**, полнота - **0.629**, точность - **0.593** - около 59% клиентов, определённых как ушедшие, действительно ушли, но правильно определено около 63% ушедших\n"
   ]
  },
  {
   "cell_type": "code",
   "execution_count": null,
   "metadata": {},
   "outputs": [],
   "source": []
  }
 ],
 "metadata": {
  "kernelspec": {
   "display_name": "Python 3 (ipykernel)",
   "language": "python",
   "name": "python3"
  },
  "language_info": {
   "codemirror_mode": {
    "name": "ipython",
    "version": 3
   },
   "file_extension": ".py",
   "mimetype": "text/x-python",
   "name": "python",
   "nbconvert_exporter": "python",
   "pygments_lexer": "ipython3",
   "version": "3.8.5"
  },
  "toc": {
   "base_numbering": 1,
   "nav_menu": {},
   "number_sections": true,
   "sideBar": true,
   "skip_h1_title": true,
   "title_cell": "Table of Contents",
   "title_sidebar": "Contents",
   "toc_cell": false,
   "toc_position": {},
   "toc_section_display": true,
   "toc_window_display": false
  }
 },
 "nbformat": 4,
 "nbformat_minor": 2
}
