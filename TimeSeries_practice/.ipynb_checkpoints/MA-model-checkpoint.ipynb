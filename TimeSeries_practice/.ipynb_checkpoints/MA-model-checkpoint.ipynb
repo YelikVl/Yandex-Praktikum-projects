{
 "cells": [
  {
   "cell_type": "code",
   "execution_count": null,
   "id": "naval-insulation",
   "metadata": {},
   "outputs": [],
   "source": [
    "#работа с данными\n",
    "import pandas as pd\n",
    "import numpy as np\n",
    "\n",
    "#визуализация\n",
    "import matplotlib.pyplot as plt\n",
    "import seaborn as sns\n",
    "sns.set()\n",
    "\n",
    "# статистика\n",
    "import statsmodels.graphics.tsaplots as sgt\n",
    "import statsmodels.tsa.stattools as sts\n",
    "from statsmodels.tsa.seasonal import seasonal_decompose\n",
    "from scipy.stats.distributions import chi2\n",
    "\n",
    "\n",
    "from statsmodels.tsa.arima_model import ARMA\n",
    "import scipy.stats\n",
    "import pylab"
   ]
  },
  {
   "cell_type": "code",
   "execution_count": null,
   "id": "dependent-sarah",
   "metadata": {},
   "outputs": [],
   "source": [
    "raw_csv_data = pd.read_csv('Index2018.csv')\n",
    "df_comp = raw_csv_data.copy()\n",
    "df_comp.date = pd.to_datetime(df_comp.date, dayfirst=True)\n",
    "df_comp.set_index('date', inplace=True)\n",
    "df_comp = df_comp.asfreq('b')\n",
    "# b - business days\n",
    "# d - days\n",
    "# a - annualy\n",
    "df_comp = df_comp.fillna(method  = 'ffill')"
   ]
  }
 ],
 "metadata": {
  "kernelspec": {
   "display_name": "Python 3",
   "language": "python",
   "name": "python3"
  },
  "language_info": {
   "codemirror_mode": {
    "name": "ipython",
    "version": 3
   },
   "file_extension": ".py",
   "mimetype": "text/x-python",
   "name": "python",
   "nbconvert_exporter": "python",
   "pygments_lexer": "ipython3",
   "version": "3.8.5"
  }
 },
 "nbformat": 4,
 "nbformat_minor": 5
}
